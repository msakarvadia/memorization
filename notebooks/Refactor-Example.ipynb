{
 "cells": [
  {
   "cell_type": "code",
   "execution_count": 15,
   "id": "initial_id",
   "metadata": {
    "collapsed": true,
    "ExecuteTime": {
     "end_time": "2024-04-23T15:15:27.413838Z",
     "start_time": "2024-04-23T15:15:27.392392Z"
    }
   },
   "outputs": [],
   "source": [
    "import sys\n",
    "\n",
    "sys.path.append(\"..\")\n",
    "\n",
    "from src.data.data import *\n",
    "from src.data.tokenization import *"
   ]
  },
  {
   "cell_type": "markdown",
   "source": [
    "# Data Generation\n",
    "TODO: Add a sequence generator"
   ],
   "metadata": {
    "collapsed": false
   },
   "id": "87b4643ea211cac0"
  },
  {
   "cell_type": "code",
   "outputs": [
    {
     "data": {
      "text/plain": "tensor([  2,   3,   4,   5,   6,   7,   8,   9,  10,  11,  12,  13,  14,  15,\n         16,  17,  18,  19,  20,  21,  22,  23,  24,  25,  26,  27,  28,  29,\n         30,  31,  32,  33,  34,  35,  36,  37,  38,  39,  40,  41,  42,  43,\n         44,  45,  46,  47,  48,  49,  50,  51,  52,  53,  54,  55,  56,  57,\n         58,  59,  60,  61,  62,  63,  64,  65,  66,  67,  68,  69,  70,  71,\n         72,  73,  74,  75,  76,  77,  78,  79,  80,  81,  82,  83,  84,  85,\n         86,  87,  88,  89,  90,  91,  92,  93,  94,  95,  96,  97,  98,  99,\n        100, 101])"
     },
     "execution_count": 16,
     "metadata": {},
     "output_type": "execute_result"
    }
   ],
   "source": [
    "data = generate_data(\n",
    "    # \"10 * sin(x)^2 + 3\",\n",
    "    \"x + 1\",\n",
    "    x=list(range(1, 100+1)),\n",
    ")\n",
    "data"
   ],
   "metadata": {
    "collapsed": false,
    "ExecuteTime": {
     "end_time": "2024-04-23T15:15:27.415008Z",
     "start_time": "2024-04-23T15:15:27.396796Z"
    }
   },
   "id": "8798af025633e6ea",
   "execution_count": 16
  },
  {
   "cell_type": "markdown",
   "source": [
    "# Tokenization"
   ],
   "metadata": {
    "collapsed": false
   },
   "id": "34d6ac90ee3be27e"
  },
  {
   "cell_type": "code",
   "outputs": [
    {
     "data": {
      "text/plain": "'^2 3 4 5 6 7 8 9 10 11 12 13 14 15 16 17 18 19 20 21 22 23 24 25 26 27 28 29 30 31 32 33 34 35 36 37 38 39 40 41 42 43 44 45 46 47 48 49 50 51 52 53 54 55 56 57 58 59 60 61 62 63 64 65 66 67 68 69 70 71 72 73 74 75 76 77 78 79 80 81 82 83 84 85 86 87 88 89 90 91 92 93 94 95 96 97 98 99 100 101$'"
     },
     "execution_count": 17,
     "metadata": {},
     "output_type": "execute_result"
    }
   ],
   "source": [
    "string = tensor_to_str(data)\n",
    "string"
   ],
   "metadata": {
    "collapsed": false,
    "ExecuteTime": {
     "end_time": "2024-04-23T15:15:27.415825Z",
     "start_time": "2024-04-23T15:15:27.411181Z"
    }
   },
   "id": "a41c8c8f726d7b20",
   "execution_count": 17
  },
  {
   "cell_type": "code",
   "outputs": [
    {
     "data": {
      "text/plain": "[tensor(10),\n tensor(2),\n tensor(12),\n tensor(3),\n tensor(12),\n tensor(4),\n tensor(12),\n tensor(5),\n tensor(12),\n tensor(6),\n tensor(12),\n tensor(7),\n tensor(12),\n tensor(8),\n tensor(12),\n tensor(9),\n tensor(12),\n tensor(1),\n tensor(0),\n tensor(12),\n tensor(1),\n tensor(1),\n tensor(12),\n tensor(1),\n tensor(2),\n tensor(12),\n tensor(1),\n tensor(3),\n tensor(12),\n tensor(1),\n tensor(4),\n tensor(12),\n tensor(1),\n tensor(5),\n tensor(12),\n tensor(1),\n tensor(6),\n tensor(12),\n tensor(1),\n tensor(7),\n tensor(12),\n tensor(1),\n tensor(8),\n tensor(12),\n tensor(1),\n tensor(9),\n tensor(12),\n tensor(2),\n tensor(0),\n tensor(12),\n tensor(2),\n tensor(1),\n tensor(12),\n tensor(2),\n tensor(2),\n tensor(12),\n tensor(2),\n tensor(3),\n tensor(12),\n tensor(2),\n tensor(4),\n tensor(12),\n tensor(2),\n tensor(5),\n tensor(12),\n tensor(2),\n tensor(6),\n tensor(12),\n tensor(2),\n tensor(7),\n tensor(12),\n tensor(2),\n tensor(8),\n tensor(12),\n tensor(2),\n tensor(9),\n tensor(12),\n tensor(3),\n tensor(0),\n tensor(12),\n tensor(3),\n tensor(1),\n tensor(12),\n tensor(3),\n tensor(2),\n tensor(12),\n tensor(3),\n tensor(3),\n tensor(12),\n tensor(3),\n tensor(4),\n tensor(12),\n tensor(3),\n tensor(5),\n tensor(12),\n tensor(3),\n tensor(6),\n tensor(12),\n tensor(3),\n tensor(7),\n tensor(12),\n tensor(3),\n tensor(8),\n tensor(12),\n tensor(3),\n tensor(9),\n tensor(12),\n tensor(4),\n tensor(0),\n tensor(12),\n tensor(4),\n tensor(1),\n tensor(12),\n tensor(4),\n tensor(2),\n tensor(12),\n tensor(4),\n tensor(3),\n tensor(12),\n tensor(4),\n tensor(4),\n tensor(12),\n tensor(4),\n tensor(5),\n tensor(12),\n tensor(4),\n tensor(6),\n tensor(12),\n tensor(4),\n tensor(7),\n tensor(12),\n tensor(4),\n tensor(8),\n tensor(12),\n tensor(4),\n tensor(9),\n tensor(12),\n tensor(5),\n tensor(0),\n tensor(12),\n tensor(5),\n tensor(1),\n tensor(12),\n tensor(5),\n tensor(2),\n tensor(12),\n tensor(5),\n tensor(3),\n tensor(12),\n tensor(5),\n tensor(4),\n tensor(12),\n tensor(5),\n tensor(5),\n tensor(12),\n tensor(5),\n tensor(6),\n tensor(12),\n tensor(5),\n tensor(7),\n tensor(12),\n tensor(5),\n tensor(8),\n tensor(12),\n tensor(5),\n tensor(9),\n tensor(12),\n tensor(6),\n tensor(0),\n tensor(12),\n tensor(6),\n tensor(1),\n tensor(12),\n tensor(6),\n tensor(2),\n tensor(12),\n tensor(6),\n tensor(3),\n tensor(12),\n tensor(6),\n tensor(4),\n tensor(12),\n tensor(6),\n tensor(5),\n tensor(12),\n tensor(6),\n tensor(6),\n tensor(12),\n tensor(6),\n tensor(7),\n tensor(12),\n tensor(6),\n tensor(8),\n tensor(12),\n tensor(6),\n tensor(9),\n tensor(12),\n tensor(7),\n tensor(0),\n tensor(12),\n tensor(7),\n tensor(1),\n tensor(12),\n tensor(7),\n tensor(2),\n tensor(12),\n tensor(7),\n tensor(3),\n tensor(12),\n tensor(7),\n tensor(4),\n tensor(12),\n tensor(7),\n tensor(5),\n tensor(12),\n tensor(7),\n tensor(6),\n tensor(12),\n tensor(7),\n tensor(7),\n tensor(12),\n tensor(7),\n tensor(8),\n tensor(12),\n tensor(7),\n tensor(9),\n tensor(12),\n tensor(8),\n tensor(0),\n tensor(12),\n tensor(8),\n tensor(1),\n tensor(12),\n tensor(8),\n tensor(2),\n tensor(12),\n tensor(8),\n tensor(3),\n tensor(12),\n tensor(8),\n tensor(4),\n tensor(12),\n tensor(8),\n tensor(5),\n tensor(12),\n tensor(8),\n tensor(6),\n tensor(12),\n tensor(8),\n tensor(7),\n tensor(12),\n tensor(8),\n tensor(8),\n tensor(12),\n tensor(8),\n tensor(9),\n tensor(12),\n tensor(9),\n tensor(0),\n tensor(12),\n tensor(9),\n tensor(1),\n tensor(12),\n tensor(9),\n tensor(2),\n tensor(12),\n tensor(9),\n tensor(3),\n tensor(12),\n tensor(9),\n tensor(4),\n tensor(12),\n tensor(9),\n tensor(5),\n tensor(12),\n tensor(9),\n tensor(6),\n tensor(12),\n tensor(9),\n tensor(7),\n tensor(12),\n tensor(9),\n tensor(8),\n tensor(12),\n tensor(9),\n tensor(9),\n tensor(12),\n tensor(1),\n tensor(0),\n tensor(0),\n tensor(12),\n tensor(1),\n tensor(0),\n tensor(1),\n tensor(11)]"
     },
     "execution_count": 18,
     "metadata": {},
     "output_type": "execute_result"
    }
   ],
   "source": [
    "tokenize(string)"
   ],
   "metadata": {
    "collapsed": false,
    "ExecuteTime": {
     "end_time": "2024-04-23T15:15:27.430750Z",
     "start_time": "2024-04-23T15:15:27.416676Z"
    }
   },
   "id": "ec121a9cdee3c855",
   "execution_count": 18
  },
  {
   "cell_type": "code",
   "outputs": [
    {
     "data": {
      "text/plain": "'^2 3 4 5 6 7 8 9 10 11 12 13 14 15 16 17 18 19 20 21 22 23 24 25 26 27 28 29 30 31 32 33 34 35 36 37 38 39 40 41 42 43 44 45 46 47 48 49 50 51 52 53 54 55 56 57 58 59 60 61 62 63 64 65 66 67 68 69 70 71 72 73 74 75 76 77 78 79 80 81 82 83 84 85 86 87 88 89 90 91 92 93 94 95 96 97 98 99 100 101$'"
     },
     "execution_count": 19,
     "metadata": {},
     "output_type": "execute_result"
    }
   ],
   "source": [
    "detokenize(tokenize(string))"
   ],
   "metadata": {
    "collapsed": false,
    "ExecuteTime": {
     "end_time": "2024-04-23T15:15:27.463632Z",
     "start_time": "2024-04-23T15:15:27.429302Z"
    }
   },
   "id": "b04eb288a406fb4c",
   "execution_count": 19
  },
  {
   "cell_type": "code",
   "outputs": [
    {
     "name": "stdout",
     "output_type": "stream",
     "text": [
      "295\n",
      "range(0, 4) 5\n",
      "[tensor(10), tensor(2), tensor(12), tensor(3)] -> tensor(12)\n",
      "range(4, 8) 9\n",
      "[tensor(12), tensor(4), tensor(12), tensor(5)] -> tensor(12)\n",
      "range(8, 12) 13\n",
      "[tensor(12), tensor(6), tensor(12), tensor(7)] -> tensor(12)\n",
      "range(12, 16) 17\n",
      "[tensor(12), tensor(8), tensor(12), tensor(9)] -> tensor(12)\n",
      "range(16, 20) 21\n",
      "[tensor(12), tensor(1), tensor(0), tensor(12)] -> tensor(1)\n",
      "range(20, 24) 25\n",
      "[tensor(1), tensor(1), tensor(12), tensor(1)] -> tensor(2)\n",
      "range(24, 28) 29\n",
      "[tensor(2), tensor(12), tensor(1), tensor(3)] -> tensor(12)\n",
      "range(28, 32) 33\n",
      "[tensor(12), tensor(1), tensor(4), tensor(12)] -> tensor(1)\n",
      "range(32, 36) 37\n",
      "[tensor(1), tensor(5), tensor(12), tensor(1)] -> tensor(6)\n",
      "range(36, 40) 41\n",
      "[tensor(6), tensor(12), tensor(1), tensor(7)] -> tensor(12)\n",
      "range(40, 44) 45\n",
      "[tensor(12), tensor(1), tensor(8), tensor(12)] -> tensor(1)\n",
      "range(44, 48) 49\n",
      "[tensor(1), tensor(9), tensor(12), tensor(2)] -> tensor(0)\n",
      "range(48, 52) 53\n",
      "[tensor(0), tensor(12), tensor(2), tensor(1)] -> tensor(12)\n",
      "range(52, 56) 57\n",
      "[tensor(12), tensor(2), tensor(2), tensor(12)] -> tensor(2)\n",
      "range(56, 60) 61\n",
      "[tensor(2), tensor(3), tensor(12), tensor(2)] -> tensor(4)\n",
      "range(60, 64) 65\n",
      "[tensor(4), tensor(12), tensor(2), tensor(5)] -> tensor(12)\n",
      "range(64, 68) 69\n",
      "[tensor(12), tensor(2), tensor(6), tensor(12)] -> tensor(2)\n",
      "range(68, 72) 73\n",
      "[tensor(2), tensor(7), tensor(12), tensor(2)] -> tensor(8)\n",
      "range(72, 76) 77\n",
      "[tensor(8), tensor(12), tensor(2), tensor(9)] -> tensor(12)\n",
      "range(76, 80) 81\n",
      "[tensor(12), tensor(3), tensor(0), tensor(12)] -> tensor(3)\n",
      "range(80, 84) 85\n",
      "[tensor(3), tensor(1), tensor(12), tensor(3)] -> tensor(2)\n",
      "range(84, 88) 89\n",
      "[tensor(2), tensor(12), tensor(3), tensor(3)] -> tensor(12)\n",
      "range(88, 92) 93\n",
      "[tensor(12), tensor(3), tensor(4), tensor(12)] -> tensor(3)\n",
      "range(92, 96) 97\n",
      "[tensor(3), tensor(5), tensor(12), tensor(3)] -> tensor(6)\n",
      "range(96, 100) 101\n",
      "[tensor(6), tensor(12), tensor(3), tensor(7)] -> tensor(12)\n",
      "range(100, 104) 105\n",
      "[tensor(12), tensor(3), tensor(8), tensor(12)] -> tensor(3)\n",
      "range(104, 108) 109\n",
      "[tensor(3), tensor(9), tensor(12), tensor(4)] -> tensor(0)\n",
      "range(108, 112) 113\n",
      "[tensor(0), tensor(12), tensor(4), tensor(1)] -> tensor(12)\n",
      "range(112, 116) 117\n",
      "[tensor(12), tensor(4), tensor(2), tensor(12)] -> tensor(4)\n",
      "range(116, 120) 121\n",
      "[tensor(4), tensor(3), tensor(12), tensor(4)] -> tensor(4)\n",
      "range(120, 124) 125\n",
      "[tensor(4), tensor(12), tensor(4), tensor(5)] -> tensor(12)\n",
      "range(124, 128) 129\n",
      "[tensor(12), tensor(4), tensor(6), tensor(12)] -> tensor(4)\n",
      "range(128, 132) 133\n",
      "[tensor(4), tensor(7), tensor(12), tensor(4)] -> tensor(8)\n",
      "range(132, 136) 137\n",
      "[tensor(8), tensor(12), tensor(4), tensor(9)] -> tensor(12)\n",
      "range(136, 140) 141\n",
      "[tensor(12), tensor(5), tensor(0), tensor(12)] -> tensor(5)\n",
      "range(140, 144) 145\n",
      "[tensor(5), tensor(1), tensor(12), tensor(5)] -> tensor(2)\n",
      "range(144, 148) 149\n",
      "[tensor(2), tensor(12), tensor(5), tensor(3)] -> tensor(12)\n",
      "range(148, 152) 153\n",
      "[tensor(12), tensor(5), tensor(4), tensor(12)] -> tensor(5)\n",
      "range(152, 156) 157\n",
      "[tensor(5), tensor(5), tensor(12), tensor(5)] -> tensor(6)\n",
      "range(156, 160) 161\n",
      "[tensor(6), tensor(12), tensor(5), tensor(7)] -> tensor(12)\n",
      "range(160, 164) 165\n",
      "[tensor(12), tensor(5), tensor(8), tensor(12)] -> tensor(5)\n",
      "range(164, 168) 169\n",
      "[tensor(5), tensor(9), tensor(12), tensor(6)] -> tensor(0)\n",
      "range(168, 172) 173\n",
      "[tensor(0), tensor(12), tensor(6), tensor(1)] -> tensor(12)\n",
      "range(172, 176) 177\n",
      "[tensor(12), tensor(6), tensor(2), tensor(12)] -> tensor(6)\n",
      "range(176, 180) 181\n",
      "[tensor(6), tensor(3), tensor(12), tensor(6)] -> tensor(4)\n",
      "range(180, 184) 185\n",
      "[tensor(4), tensor(12), tensor(6), tensor(5)] -> tensor(12)\n",
      "range(184, 188) 189\n",
      "[tensor(12), tensor(6), tensor(6), tensor(12)] -> tensor(6)\n",
      "range(188, 192) 193\n",
      "[tensor(6), tensor(7), tensor(12), tensor(6)] -> tensor(8)\n",
      "range(192, 196) 197\n",
      "[tensor(8), tensor(12), tensor(6), tensor(9)] -> tensor(12)\n",
      "range(196, 200) 201\n",
      "[tensor(12), tensor(7), tensor(0), tensor(12)] -> tensor(7)\n",
      "range(200, 204) 205\n",
      "[tensor(7), tensor(1), tensor(12), tensor(7)] -> tensor(2)\n",
      "range(204, 208) 209\n",
      "[tensor(2), tensor(12), tensor(7), tensor(3)] -> tensor(12)\n",
      "range(208, 212) 213\n",
      "[tensor(12), tensor(7), tensor(4), tensor(12)] -> tensor(7)\n",
      "range(212, 216) 217\n",
      "[tensor(7), tensor(5), tensor(12), tensor(7)] -> tensor(6)\n",
      "range(216, 220) 221\n",
      "[tensor(6), tensor(12), tensor(7), tensor(7)] -> tensor(12)\n",
      "range(220, 224) 225\n",
      "[tensor(12), tensor(7), tensor(8), tensor(12)] -> tensor(7)\n",
      "range(224, 228) 229\n",
      "[tensor(7), tensor(9), tensor(12), tensor(8)] -> tensor(0)\n",
      "range(228, 232) 233\n",
      "[tensor(0), tensor(12), tensor(8), tensor(1)] -> tensor(12)\n",
      "range(232, 236) 237\n",
      "[tensor(12), tensor(8), tensor(2), tensor(12)] -> tensor(8)\n",
      "range(236, 240) 241\n",
      "[tensor(8), tensor(3), tensor(12), tensor(8)] -> tensor(4)\n",
      "range(240, 244) 245\n",
      "[tensor(4), tensor(12), tensor(8), tensor(5)] -> tensor(12)\n",
      "range(244, 248) 249\n",
      "[tensor(12), tensor(8), tensor(6), tensor(12)] -> tensor(8)\n",
      "range(248, 252) 253\n",
      "[tensor(8), tensor(7), tensor(12), tensor(8)] -> tensor(8)\n",
      "range(252, 256) 257\n",
      "[tensor(8), tensor(12), tensor(8), tensor(9)] -> tensor(12)\n",
      "range(256, 260) 261\n",
      "[tensor(12), tensor(9), tensor(0), tensor(12)] -> tensor(9)\n",
      "range(260, 264) 265\n",
      "[tensor(9), tensor(1), tensor(12), tensor(9)] -> tensor(2)\n",
      "range(264, 268) 269\n",
      "[tensor(2), tensor(12), tensor(9), tensor(3)] -> tensor(12)\n",
      "range(268, 272) 273\n",
      "[tensor(12), tensor(9), tensor(4), tensor(12)] -> tensor(9)\n",
      "range(272, 276) 277\n",
      "[tensor(9), tensor(5), tensor(12), tensor(9)] -> tensor(6)\n",
      "range(276, 280) 281\n",
      "[tensor(6), tensor(12), tensor(9), tensor(7)] -> tensor(12)\n",
      "range(280, 284) 285\n",
      "[tensor(12), tensor(9), tensor(8), tensor(12)] -> tensor(9)\n",
      "range(284, 288) 289\n",
      "[tensor(9), tensor(9), tensor(12), tensor(1)] -> tensor(0)\n",
      "range(288, 292) 293\n",
      "[tensor(0), tensor(0), tensor(12), tensor(1)] -> tensor(0)\n"
     ]
    }
   ],
   "source": [
    "seq_len = 4\n",
    "tokens = tokenize(string)\n",
    "print(len(tokens))\n",
    "# for i in range(0, len(tokens)-(seq_len+1), seq_len):\n",
    "for i in range(0, len(tokens) - (seq_len - 1), seq_len):\n",
    "    print(range(i, i+seq_len), i+seq_len+1)\n",
    "    print(tokens[i:i+seq_len], \"->\", tokens[i+seq_len])"
   ],
   "metadata": {
    "collapsed": false,
    "ExecuteTime": {
     "end_time": "2024-04-23T15:21:41.440385Z",
     "start_time": "2024-04-23T15:21:41.422030Z"
    }
   },
   "id": "482e508282ff09b8",
   "execution_count": 42
  },
  {
   "cell_type": "code",
   "outputs": [],
   "source": [],
   "metadata": {
    "collapsed": false,
    "ExecuteTime": {
     "end_time": "2024-04-23T15:21:02.496585Z",
     "start_time": "2024-04-23T15:21:02.493445Z"
    }
   },
   "id": "b06fc7ecd328b56",
   "execution_count": 37
  },
  {
   "cell_type": "code",
   "outputs": [],
   "source": [],
   "metadata": {
    "collapsed": false
   },
   "id": "a599aedf3daa3431"
  }
 ],
 "metadata": {
  "kernelspec": {
   "display_name": "Python 3",
   "language": "python",
   "name": "python3"
  },
  "language_info": {
   "codemirror_mode": {
    "name": "ipython",
    "version": 2
   },
   "file_extension": ".py",
   "mimetype": "text/x-python",
   "name": "python",
   "nbconvert_exporter": "python",
   "pygments_lexer": "ipython2",
   "version": "2.7.6"
  }
 },
 "nbformat": 4,
 "nbformat_minor": 5
}
