{
 "cells": [
  {
   "cell_type": "code",
   "execution_count": 1,
   "id": "initial_id",
   "metadata": {
    "collapsed": true,
    "ExecuteTime": {
     "end_time": "2024-04-22T20:27:50.359462Z",
     "start_time": "2024-04-22T20:27:49.628219Z"
    }
   },
   "outputs": [],
   "source": [
    "import sys\n",
    "\n",
    "sys.path.append(\"..\")\n",
    "\n",
    "from src.data.data import *\n",
    "from src.data.tokenization import *"
   ]
  },
  {
   "cell_type": "code",
   "outputs": [
    {
     "data": {
      "text/plain": "tensor([10, 11,  3,  8, 12,  3,  7, 12,  4,  5])"
     },
     "execution_count": 11,
     "metadata": {},
     "output_type": "execute_result"
    }
   ],
   "source": [
    "data = generate_data(\n",
    "    \"10 * sin(x)^2 + 3\", \n",
    "    x=list(range(1, 10+1))\n",
    ")\n",
    "data"
   ],
   "metadata": {
    "collapsed": false,
    "ExecuteTime": {
     "end_time": "2024-04-22T20:28:47.996951Z",
     "start_time": "2024-04-22T20:28:47.990732Z"
    }
   },
   "id": "8798af025633e6ea",
   "execution_count": 11
  },
  {
   "cell_type": "code",
   "outputs": [
    {
     "data": {
      "text/plain": "'^10 11 3 8 12 3 7 12 4 5$'"
     },
     "execution_count": 5,
     "metadata": {},
     "output_type": "execute_result"
    }
   ],
   "source": [
    "string = tensor_to_str(data)\n",
    "string"
   ],
   "metadata": {
    "collapsed": false,
    "ExecuteTime": {
     "end_time": "2024-04-22T20:28:07.268137Z",
     "start_time": "2024-04-22T20:28:07.249838Z"
    }
   },
   "id": "a41c8c8f726d7b20",
   "execution_count": 5
  },
  {
   "cell_type": "code",
   "outputs": [
    {
     "data": {
      "text/plain": "[tensor(10),\n tensor(1),\n tensor(0),\n tensor(12),\n tensor(1),\n tensor(1),\n tensor(12),\n tensor(3),\n tensor(12),\n tensor(8),\n tensor(12),\n tensor(1),\n tensor(2),\n tensor(12),\n tensor(3),\n tensor(12),\n tensor(7),\n tensor(12),\n tensor(1),\n tensor(2),\n tensor(12),\n tensor(4),\n tensor(12),\n tensor(5),\n tensor(11)]"
     },
     "execution_count": 7,
     "metadata": {},
     "output_type": "execute_result"
    }
   ],
   "source": [
    "tokenize(string)"
   ],
   "metadata": {
    "collapsed": false,
    "ExecuteTime": {
     "end_time": "2024-04-22T20:28:10.642779Z",
     "start_time": "2024-04-22T20:28:10.639554Z"
    }
   },
   "id": "ec121a9cdee3c855",
   "execution_count": 7
  },
  {
   "cell_type": "code",
   "outputs": [
    {
     "data": {
      "text/plain": "'^10 11 3 8 12 3 7 12 4 5$'"
     },
     "execution_count": 10,
     "metadata": {},
     "output_type": "execute_result"
    }
   ],
   "source": [
    "detokenize(tokenize(string))"
   ],
   "metadata": {
    "collapsed": false,
    "ExecuteTime": {
     "end_time": "2024-04-22T20:28:22.496391Z",
     "start_time": "2024-04-22T20:28:22.493597Z"
    }
   },
   "id": "b04eb288a406fb4c",
   "execution_count": 10
  }
 ],
 "metadata": {
  "kernelspec": {
   "display_name": "Python 3",
   "language": "python",
   "name": "python3"
  },
  "language_info": {
   "codemirror_mode": {
    "name": "ipython",
    "version": 2
   },
   "file_extension": ".py",
   "mimetype": "text/x-python",
   "name": "python",
   "nbconvert_exporter": "python",
   "pygments_lexer": "ipython2",
   "version": "2.7.6"
  }
 },
 "nbformat": 4,
 "nbformat_minor": 5
}
