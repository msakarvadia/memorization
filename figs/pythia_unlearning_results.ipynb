{
 "cells": [
  {
   "cell_type": "markdown",
   "id": "f8f6464a-0c8b-4120-a72d-feef17af34e5",
   "metadata": {
    "jp-MarkdownHeadingCollapsed": true,
    "tags": []
   },
   "source": [
    "# Set Up"
   ]
  },
  {
   "cell_type": "code",
   "execution_count": 91,
   "id": "9f20b6c9-c0fb-4d47-81eb-8cf6b1315f79",
   "metadata": {
    "tags": []
   },
   "outputs": [
    {
     "data": {
      "text/plain": [
       "'/pscratch/sd/m/mansisak/memorization/figs'"
      ]
     },
     "execution_count": 91,
     "metadata": {},
     "output_type": "execute_result"
    }
   ],
   "source": [
    "%pwd"
   ]
  },
  {
   "cell_type": "code",
   "execution_count": 93,
   "id": "38bcda98-affa-4d15-8fb3-58b0c75cc23c",
   "metadata": {
    "tags": []
   },
   "outputs": [],
   "source": [
    "!module load conda"
   ]
  },
  {
   "cell_type": "code",
   "execution_count": 94,
   "id": "8f2850d3-4da6-4395-bad3-55cc1a0ee15e",
   "metadata": {
    "tags": []
   },
   "outputs": [],
   "source": [
    "!conda activate /pscratch/sd/m/mansisak/memorization/env/"
   ]
  },
  {
   "cell_type": "code",
   "execution_count": 95,
   "id": "07607395-fd1e-43de-8a85-a6c3ee16e9a8",
   "metadata": {
    "tags": []
   },
   "outputs": [
    {
     "name": "stdout",
     "output_type": "stream",
     "text": [
      "act\tlocalization_results_108000.csv  mem_seq_pythia-2.8b-deduped\n",
      "attrib\tlocalization_results_143000.csv  mem_seq_pythia-6.9b-deduped\n",
      "greedy\tlocalization_results_36000.csv\t slim\n",
      "hc\tlocalization_results_72000.csv\n"
     ]
    }
   ],
   "source": [
    "!ls /pscratch/sd/m/mansisak/memorization/model_ckpts/EleutherAI_edit/"
   ]
  },
  {
   "cell_type": "code",
   "execution_count": 96,
   "id": "f7ea4b9e-c194-4272-9c27-f9db487c97cd",
   "metadata": {},
   "outputs": [
    {
     "name": "stdout",
     "output_type": "stream",
     "text": [
      "lm_bd_reg.pdf              math_bd_train_loss.pdf\n",
      "lm_bd_test_perplexity.pdf  math_bd_train.pdf\n",
      "lm_bd_train_loss.pdf       math_noise_reg.pdf\n",
      "lm_bd_train.pdf            math_noise_test_acc.pdf\n",
      "lm_dup_noise_train.pdf     math_noise_train_loss.pdf\n",
      "lm_noise_reg.pdf           math_noise_train.pdf\n",
      "math_bd_reg.pdf            pythia_unlearning_results.ipynb\n",
      "math_bd_test_acc.pdf\n"
     ]
    }
   ],
   "source": [
    "ls "
   ]
  },
  {
   "cell_type": "code",
   "execution_count": 126,
   "id": "bf91b5b6-b20b-4a16-9982-5d6fd50017f7",
   "metadata": {
    "tags": []
   },
   "outputs": [],
   "source": [
    "import pandas as pd\n",
    "import numpy as np\n",
    "import torch\n",
    "import copy"
   ]
  },
  {
   "cell_type": "markdown",
   "id": "8ab27cb6-f7d1-4d7c-bc0b-06aa85db5a94",
   "metadata": {
    "jp-MarkdownHeadingCollapsed": true,
    "tags": []
   },
   "source": [
    "# Load in Results + Visualize Tables of unlearning @ different time points/models"
   ]
  },
  {
   "cell_type": "code",
   "execution_count": 98,
   "id": "1caeb3b8-a15b-4e0a-9137-b0d7960a12e5",
   "metadata": {
    "tags": []
   },
   "outputs": [
    {
     "data": {
      "text/html": [
       "<div>\n",
       "<style scoped>\n",
       "    .dataframe tbody tr th:only-of-type {\n",
       "        vertical-align: middle;\n",
       "    }\n",
       "\n",
       "    .dataframe tbody tr th {\n",
       "        vertical-align: top;\n",
       "    }\n",
       "\n",
       "    .dataframe thead th {\n",
       "        text-align: right;\n",
       "    }\n",
       "</style>\n",
       "<table border=\"1\" class=\"dataframe\">\n",
       "  <thead>\n",
       "    <tr style=\"text-align: right;\">\n",
       "      <th></th>\n",
       "      <th>model_name</th>\n",
       "      <th>localization_method</th>\n",
       "      <th>ratio</th>\n",
       "      <th>batch_size</th>\n",
       "      <th>epochs</th>\n",
       "      <th>lambda_l1</th>\n",
       "      <th>stop_loss</th>\n",
       "      <th>lr</th>\n",
       "      <th>prompt_len</th>\n",
       "      <th>ig_steps</th>\n",
       "      <th>momentum</th>\n",
       "      <th>weight_decay</th>\n",
       "      <th>step</th>\n",
       "      <th>assess_mem</th>\n",
       "      <th>seed</th>\n",
       "      <th>model_path</th>\n",
       "      <th>results_path</th>\n",
       "      <th>perc</th>\n",
       "      <th>perp</th>\n",
       "      <th>unlearn_set_name</th>\n",
       "    </tr>\n",
       "  </thead>\n",
       "  <tbody>\n",
       "    <tr>\n",
       "      <th>0</th>\n",
       "      <td>EleutherAI/pythia-6.9b-deduped</td>\n",
       "      <td>act</td>\n",
       "      <td>0.001</td>\n",
       "      <td>32</td>\n",
       "      <td>1</td>\n",
       "      <td>1000</td>\n",
       "      <td>0.1</td>\n",
       "      <td>0.1</td>\n",
       "      <td>32</td>\n",
       "      <td>1</td>\n",
       "      <td>0.9</td>\n",
       "      <td>0.0005</td>\n",
       "      <td>72000</td>\n",
       "      <td>0</td>\n",
       "      <td>0</td>\n",
       "      <td>../../model_ckpts/EleutherAI/pythia-6.9b-deduped</td>\n",
       "      <td>../../model_ckpts/EleutherAI_edit/localization...</td>\n",
       "      <td>0.564356</td>\n",
       "      <td>20.980392</td>\n",
       "      <td>NaN</td>\n",
       "    </tr>\n",
       "    <tr>\n",
       "      <th>1</th>\n",
       "      <td>EleutherAI/pythia-6.9b-deduped</td>\n",
       "      <td>act</td>\n",
       "      <td>0.001</td>\n",
       "      <td>32</td>\n",
       "      <td>1</td>\n",
       "      <td>1000</td>\n",
       "      <td>0.1</td>\n",
       "      <td>0.1</td>\n",
       "      <td>32</td>\n",
       "      <td>1</td>\n",
       "      <td>0.9</td>\n",
       "      <td>0.0005</td>\n",
       "      <td>72000</td>\n",
       "      <td>0</td>\n",
       "      <td>0</td>\n",
       "      <td>../../model_ckpts/EleutherAI/pythia-6.9b-deduped</td>\n",
       "      <td>../../model_ckpts/EleutherAI_edit/localization...</td>\n",
       "      <td>0.281188</td>\n",
       "      <td>21.607843</td>\n",
       "      <td>mem</td>\n",
       "    </tr>\n",
       "    <tr>\n",
       "      <th>2</th>\n",
       "      <td>EleutherAI/pythia-6.9b-deduped</td>\n",
       "      <td>act</td>\n",
       "      <td>0.010</td>\n",
       "      <td>32</td>\n",
       "      <td>1</td>\n",
       "      <td>1000</td>\n",
       "      <td>0.1</td>\n",
       "      <td>0.1</td>\n",
       "      <td>32</td>\n",
       "      <td>1</td>\n",
       "      <td>0.9</td>\n",
       "      <td>0.0005</td>\n",
       "      <td>72000</td>\n",
       "      <td>0</td>\n",
       "      <td>0</td>\n",
       "      <td>../../model_ckpts/EleutherAI/pythia-6.9b-deduped</td>\n",
       "      <td>../../model_ckpts/EleutherAI_edit/localization...</td>\n",
       "      <td>0.164356</td>\n",
       "      <td>23.372549</td>\n",
       "      <td>mem</td>\n",
       "    </tr>\n",
       "    <tr>\n",
       "      <th>3</th>\n",
       "      <td>EleutherAI/pythia-6.9b-deduped</td>\n",
       "      <td>act</td>\n",
       "      <td>0.050</td>\n",
       "      <td>32</td>\n",
       "      <td>1</td>\n",
       "      <td>1000</td>\n",
       "      <td>0.1</td>\n",
       "      <td>0.1</td>\n",
       "      <td>32</td>\n",
       "      <td>1</td>\n",
       "      <td>0.9</td>\n",
       "      <td>0.0005</td>\n",
       "      <td>72000</td>\n",
       "      <td>0</td>\n",
       "      <td>0</td>\n",
       "      <td>../../model_ckpts/EleutherAI/pythia-6.9b-deduped</td>\n",
       "      <td>../../model_ckpts/EleutherAI_edit/localization...</td>\n",
       "      <td>0.108911</td>\n",
       "      <td>25.411765</td>\n",
       "      <td>mem</td>\n",
       "    </tr>\n",
       "    <tr>\n",
       "      <th>4</th>\n",
       "      <td>EleutherAI/pythia-6.9b-deduped</td>\n",
       "      <td>hc</td>\n",
       "      <td>0.001</td>\n",
       "      <td>32</td>\n",
       "      <td>1</td>\n",
       "      <td>1000</td>\n",
       "      <td>0.1</td>\n",
       "      <td>0.1</td>\n",
       "      <td>32</td>\n",
       "      <td>1</td>\n",
       "      <td>0.9</td>\n",
       "      <td>0.0005</td>\n",
       "      <td>72000</td>\n",
       "      <td>0</td>\n",
       "      <td>0</td>\n",
       "      <td>../../model_ckpts/EleutherAI/pythia-6.9b-deduped</td>\n",
       "      <td>../../model_ckpts/EleutherAI_edit/localization...</td>\n",
       "      <td>0.512871</td>\n",
       "      <td>21.568627</td>\n",
       "      <td>mem</td>\n",
       "    </tr>\n",
       "  </tbody>\n",
       "</table>\n",
       "</div>"
      ],
      "text/plain": [
       "                       model_name localization_method  ratio  batch_size  \\\n",
       "0  EleutherAI/pythia-6.9b-deduped                 act  0.001          32   \n",
       "1  EleutherAI/pythia-6.9b-deduped                 act  0.001          32   \n",
       "2  EleutherAI/pythia-6.9b-deduped                 act  0.010          32   \n",
       "3  EleutherAI/pythia-6.9b-deduped                 act  0.050          32   \n",
       "4  EleutherAI/pythia-6.9b-deduped                  hc  0.001          32   \n",
       "\n",
       "   epochs  lambda_l1  stop_loss   lr  prompt_len  ig_steps  momentum  \\\n",
       "0       1       1000        0.1  0.1          32         1       0.9   \n",
       "1       1       1000        0.1  0.1          32         1       0.9   \n",
       "2       1       1000        0.1  0.1          32         1       0.9   \n",
       "3       1       1000        0.1  0.1          32         1       0.9   \n",
       "4       1       1000        0.1  0.1          32         1       0.9   \n",
       "\n",
       "   weight_decay   step  assess_mem  seed  \\\n",
       "0        0.0005  72000           0     0   \n",
       "1        0.0005  72000           0     0   \n",
       "2        0.0005  72000           0     0   \n",
       "3        0.0005  72000           0     0   \n",
       "4        0.0005  72000           0     0   \n",
       "\n",
       "                                         model_path  \\\n",
       "0  ../../model_ckpts/EleutherAI/pythia-6.9b-deduped   \n",
       "1  ../../model_ckpts/EleutherAI/pythia-6.9b-deduped   \n",
       "2  ../../model_ckpts/EleutherAI/pythia-6.9b-deduped   \n",
       "3  ../../model_ckpts/EleutherAI/pythia-6.9b-deduped   \n",
       "4  ../../model_ckpts/EleutherAI/pythia-6.9b-deduped   \n",
       "\n",
       "                                        results_path      perc       perp  \\\n",
       "0  ../../model_ckpts/EleutherAI_edit/localization...  0.564356  20.980392   \n",
       "1  ../../model_ckpts/EleutherAI_edit/localization...  0.281188  21.607843   \n",
       "2  ../../model_ckpts/EleutherAI_edit/localization...  0.164356  23.372549   \n",
       "3  ../../model_ckpts/EleutherAI_edit/localization...  0.108911  25.411765   \n",
       "4  ../../model_ckpts/EleutherAI_edit/localization...  0.512871  21.568627   \n",
       "\n",
       "  unlearn_set_name  \n",
       "0              NaN  \n",
       "1              mem  \n",
       "2              mem  \n",
       "3              mem  \n",
       "4              mem  "
      ]
     },
     "execution_count": 98,
     "metadata": {},
     "output_type": "execute_result"
    }
   ],
   "source": [
    "result_path = \"/pscratch/sd/m/mansisak/memorization/model_ckpts/EleutherAI_edit/\"\n",
    "\n",
    "file_name = \"localization_results_72000.csv\"\n",
    "\n",
    "df = pd.read_csv(f'{result_path}{file_name}')\n",
    "\n",
    "base_stats = df.loc[0].copy()\n",
    "df = df.drop_duplicates()\n",
    "df.head()"
   ]
  },
  {
   "cell_type": "code",
   "execution_count": 99,
   "id": "280dccd8-de20-4168-a224-cad684559897",
   "metadata": {
    "tags": []
   },
   "outputs": [
    {
     "data": {
      "text/html": [
       "<div>\n",
       "<style scoped>\n",
       "    .dataframe tbody tr th:only-of-type {\n",
       "        vertical-align: middle;\n",
       "    }\n",
       "\n",
       "    .dataframe tbody tr th {\n",
       "        vertical-align: top;\n",
       "    }\n",
       "\n",
       "    .dataframe thead th {\n",
       "        text-align: right;\n",
       "    }\n",
       "</style>\n",
       "<table border=\"1\" class=\"dataframe\">\n",
       "  <thead>\n",
       "    <tr style=\"text-align: right;\">\n",
       "      <th></th>\n",
       "      <th>model_name</th>\n",
       "      <th>localization_method</th>\n",
       "      <th>ratio</th>\n",
       "      <th>batch_size</th>\n",
       "      <th>epochs</th>\n",
       "      <th>lambda_l1</th>\n",
       "      <th>stop_loss</th>\n",
       "      <th>lr</th>\n",
       "      <th>prompt_len</th>\n",
       "      <th>ig_steps</th>\n",
       "      <th>momentum</th>\n",
       "      <th>weight_decay</th>\n",
       "      <th>step</th>\n",
       "      <th>assess_mem</th>\n",
       "      <th>seed</th>\n",
       "      <th>model_path</th>\n",
       "      <th>results_path</th>\n",
       "      <th>perc</th>\n",
       "      <th>perp</th>\n",
       "      <th>unlearn_set_name</th>\n",
       "    </tr>\n",
       "  </thead>\n",
       "  <tbody>\n",
       "    <tr>\n",
       "      <th>0</th>\n",
       "      <td>EleutherAI/pythia-6.9b-deduped</td>\n",
       "      <td>act</td>\n",
       "      <td>0.001</td>\n",
       "      <td>32</td>\n",
       "      <td>1</td>\n",
       "      <td>1000</td>\n",
       "      <td>0.1</td>\n",
       "      <td>0.1</td>\n",
       "      <td>32</td>\n",
       "      <td>1</td>\n",
       "      <td>0.9</td>\n",
       "      <td>0.0005</td>\n",
       "      <td>72000</td>\n",
       "      <td>0</td>\n",
       "      <td>0</td>\n",
       "      <td>../../model_ckpts/EleutherAI/pythia-6.9b-deduped</td>\n",
       "      <td>../../model_ckpts/EleutherAI_edit/localization...</td>\n",
       "      <td>0.564356</td>\n",
       "      <td>20.980392</td>\n",
       "      <td>NaN</td>\n",
       "    </tr>\n",
       "    <tr>\n",
       "      <th>24</th>\n",
       "      <td>EleutherAI/pythia-2.8b-deduped</td>\n",
       "      <td>act</td>\n",
       "      <td>0.001</td>\n",
       "      <td>32</td>\n",
       "      <td>1</td>\n",
       "      <td>1000</td>\n",
       "      <td>0.1</td>\n",
       "      <td>0.1</td>\n",
       "      <td>32</td>\n",
       "      <td>1</td>\n",
       "      <td>0.9</td>\n",
       "      <td>0.0005</td>\n",
       "      <td>72000</td>\n",
       "      <td>0</td>\n",
       "      <td>1</td>\n",
       "      <td>../../model_ckpts/EleutherAI/pythia-2.8b-deduped</td>\n",
       "      <td>../../model_ckpts/EleutherAI_edit/localization...</td>\n",
       "      <td>0.372277</td>\n",
       "      <td>23.509804</td>\n",
       "      <td>NaN</td>\n",
       "    </tr>\n",
       "    <tr>\n",
       "      <th>26</th>\n",
       "      <td>EleutherAI/pythia-2.8b-deduped</td>\n",
       "      <td>act</td>\n",
       "      <td>0.001</td>\n",
       "      <td>32</td>\n",
       "      <td>1</td>\n",
       "      <td>1000</td>\n",
       "      <td>0.1</td>\n",
       "      <td>0.1</td>\n",
       "      <td>32</td>\n",
       "      <td>1</td>\n",
       "      <td>0.9</td>\n",
       "      <td>0.0005</td>\n",
       "      <td>72000</td>\n",
       "      <td>0</td>\n",
       "      <td>0</td>\n",
       "      <td>../../model_ckpts/EleutherAI/pythia-2.8b-deduped</td>\n",
       "      <td>../../model_ckpts/EleutherAI_edit/localization...</td>\n",
       "      <td>0.372277</td>\n",
       "      <td>23.509804</td>\n",
       "      <td>NaN</td>\n",
       "    </tr>\n",
       "    <tr>\n",
       "      <th>28</th>\n",
       "      <td>EleutherAI/pythia-2.8b-deduped</td>\n",
       "      <td>act</td>\n",
       "      <td>0.001</td>\n",
       "      <td>32</td>\n",
       "      <td>1</td>\n",
       "      <td>1000</td>\n",
       "      <td>0.1</td>\n",
       "      <td>0.1</td>\n",
       "      <td>32</td>\n",
       "      <td>1</td>\n",
       "      <td>0.9</td>\n",
       "      <td>0.0005</td>\n",
       "      <td>72000</td>\n",
       "      <td>0</td>\n",
       "      <td>3</td>\n",
       "      <td>../../model_ckpts/EleutherAI/pythia-2.8b-deduped</td>\n",
       "      <td>../../model_ckpts/EleutherAI_edit/localization...</td>\n",
       "      <td>0.372277</td>\n",
       "      <td>23.509804</td>\n",
       "      <td>NaN</td>\n",
       "    </tr>\n",
       "  </tbody>\n",
       "</table>\n",
       "</div>"
      ],
      "text/plain": [
       "                        model_name localization_method  ratio  batch_size  \\\n",
       "0   EleutherAI/pythia-6.9b-deduped                 act  0.001          32   \n",
       "24  EleutherAI/pythia-2.8b-deduped                 act  0.001          32   \n",
       "26  EleutherAI/pythia-2.8b-deduped                 act  0.001          32   \n",
       "28  EleutherAI/pythia-2.8b-deduped                 act  0.001          32   \n",
       "\n",
       "    epochs  lambda_l1  stop_loss   lr  prompt_len  ig_steps  momentum  \\\n",
       "0        1       1000        0.1  0.1          32         1       0.9   \n",
       "24       1       1000        0.1  0.1          32         1       0.9   \n",
       "26       1       1000        0.1  0.1          32         1       0.9   \n",
       "28       1       1000        0.1  0.1          32         1       0.9   \n",
       "\n",
       "    weight_decay   step  assess_mem  seed  \\\n",
       "0         0.0005  72000           0     0   \n",
       "24        0.0005  72000           0     1   \n",
       "26        0.0005  72000           0     0   \n",
       "28        0.0005  72000           0     3   \n",
       "\n",
       "                                          model_path  \\\n",
       "0   ../../model_ckpts/EleutherAI/pythia-6.9b-deduped   \n",
       "24  ../../model_ckpts/EleutherAI/pythia-2.8b-deduped   \n",
       "26  ../../model_ckpts/EleutherAI/pythia-2.8b-deduped   \n",
       "28  ../../model_ckpts/EleutherAI/pythia-2.8b-deduped   \n",
       "\n",
       "                                         results_path      perc       perp  \\\n",
       "0   ../../model_ckpts/EleutherAI_edit/localization...  0.564356  20.980392   \n",
       "24  ../../model_ckpts/EleutherAI_edit/localization...  0.372277  23.509804   \n",
       "26  ../../model_ckpts/EleutherAI_edit/localization...  0.372277  23.509804   \n",
       "28  ../../model_ckpts/EleutherAI_edit/localization...  0.372277  23.509804   \n",
       "\n",
       "   unlearn_set_name  \n",
       "0               NaN  \n",
       "24              NaN  \n",
       "26              NaN  \n",
       "28              NaN  "
      ]
     },
     "execution_count": 99,
     "metadata": {},
     "output_type": "execute_result"
    }
   ],
   "source": [
    "df[df['unlearn_set_name'].isna()]"
   ]
  },
  {
   "cell_type": "code",
   "execution_count": 100,
   "id": "e33e369d-c092-4640-9cdc-c70f2e1bd504",
   "metadata": {
    "tags": []
   },
   "outputs": [],
   "source": [
    "import statistics\n",
    "import math\n",
    "def return_ideal_method_for_lang(base_early_stats, weight_early, backdoor=False):\n",
    "  #desired columns\n",
    "  cols = [\"perc\", \"perp\",'localization_method','ratio']\n",
    "\n",
    "  #Convert base stats to a df\n",
    "  base_frame = base_early_stats.to_frame().T[cols]\n",
    "\n",
    "  #Generate Percent Differences\n",
    "  weight_early[\"perc_diff\"] =  (weight_early['perc'] - base_early_stats['perc']) /  base_early_stats['perc']\n",
    "\n",
    "\n",
    "  weight_early[\"perp_diff\"] = (weight_early['perp'] - base_early_stats['perp']) /  base_early_stats['perp']\n",
    "\n",
    "  weight_early[\"score\"] = 0 # zero initialize -- we will populate it below\n",
    "\n",
    "  #Compute Scores\n",
    "  for index, row in weight_early.iterrows():\n",
    "\n",
    "\n",
    "    if row['unlearn_set_name'] == \"mem\":\n",
    "        if row['perc_diff'] == 0:\n",
    "            weight_early.loc[index, \"score\"] += 100 # this is how we penalize zero perc drop in mem\n",
    "        weight_early.loc[index, \"score\"] += (row['perc_diff'])\n",
    "\n",
    "\n",
    "\n",
    "        weight_early.loc[index, \"score\"] += statistics.mean([row['perp_diff']])\n",
    "\n",
    "  df = pd.DataFrame(columns=cols)\n",
    "  #append base stats to df\n",
    "  base_frame['localization_method'] = \"BASE_STATS\"\n",
    "  df = pd.concat([df, base_frame])\n",
    "\n",
    "  #Print out ideal method for each dist based on the min score\n",
    "  for unlearn_set in ['greedy', 'durable', 'durable_agg', 'random', 'random_greedy', \"hc\", \"slim\", 'act', ]:\n",
    "    #print(unlearn_set)\n",
    "    subset = weight_early.loc[weight_early['localization_method'] == unlearn_set]\n",
    "    if subset.shape[0] == 0:\n",
    "      #print(\"no results yet for: \", unlearn_set)\n",
    "      continue\n",
    "    sub_frame = subset[subset.score == subset.score.min()].drop_duplicates()\n",
    "    sub_frame = sub_frame[cols]\n",
    "    #print(sub_frame)\n",
    "    df = pd.concat([df, sub_frame])\n",
    "\n",
    "  df[['ratio',]] *= 100\n",
    "\n",
    "  return df.drop_duplicates()\n"
   ]
  },
  {
   "cell_type": "code",
   "execution_count": 101,
   "id": "692cbd5d-c96f-4cb0-88f7-956bf24c39fa",
   "metadata": {
    "tags": []
   },
   "outputs": [
    {
     "name": "stdout",
     "output_type": "stream",
     "text": [
      "STEP:  36000  model_name:   EleutherAI/pythia-6.9b-deduped\n",
      "    perc perp localization_method  ratio\n",
      "0     42   22          BASE_STATS    0.1\n",
      "128    5   27              greedy  0.001\n",
      "11    14   27                  hc    5.0\n",
      "19    37   23                slim    5.0\n",
      "3     11   26                 act    5.0\n",
      "STEP:  72000  model_name:   EleutherAI/pythia-6.9b-deduped\n",
      "    perc perp localization_method  ratio\n",
      "0     56   20          BASE_STATS    0.1\n",
      "130    4   27              greedy  0.001\n",
      "11    16   26                  hc    5.0\n",
      "19    48   21                slim    5.0\n",
      "2     16   23                 act    1.0\n",
      "STEP:  108000  model_name:   EleutherAI/pythia-6.9b-deduped\n",
      "    perc perp localization_method  ratio\n",
      "0     72   19          BASE_STATS    0.1\n",
      "131    4   27              greedy  0.001\n",
      "12    17   25                  hc    5.0\n",
      "19    56   20                slim    5.0\n",
      "2     15   22                 act    1.0\n",
      "STEP:  143000  model_name:   EleutherAI/pythia-6.9b-deduped\n",
      "    perc perp localization_method  ratio\n",
      "0     89   19          BASE_STATS    0.1\n",
      "128    3   30              greedy  0.001\n",
      "12    15   26                  hc    5.0\n",
      "19    57   20                slim    5.0\n",
      "2     14   22                 act    1.0\n",
      "STEP:  36000  model_name:   EleutherAI/pythia-2.8b-deduped\n",
      "    perc perp localization_method  ratio\n",
      "26    28   25          BASE_STATS    0.1\n",
      "125    5   31              greedy  0.001\n",
      "72    11   30                  hc    5.0\n",
      "106   24   25                slim    5.0\n",
      "31    11   28                 act    1.0\n",
      "STEP:  72000  model_name:   EleutherAI/pythia-2.8b-deduped\n"
     ]
    },
    {
     "name": "stderr",
     "output_type": "stream",
     "text": [
      "/tmp/ipykernel_1699323/4188130009.py:25: FutureWarning: Setting an item of incompatible dtype is deprecated and will raise in a future error of pandas. Value '-0.40476190476190477' has dtype incompatible with int64, please explicitly cast to a compatible dtype first.\n",
      "  weight_early.loc[index, \"score\"] += (row['perc_diff'])\n",
      "/tmp/ipykernel_1699323/4188130009.py:25: FutureWarning: Setting an item of incompatible dtype is deprecated and will raise in a future error of pandas. Value '-0.5' has dtype incompatible with int64, please explicitly cast to a compatible dtype first.\n",
      "  weight_early.loc[index, \"score\"] += (row['perc_diff'])\n",
      "/tmp/ipykernel_1699323/4188130009.py:25: FutureWarning: Setting an item of incompatible dtype is deprecated and will raise in a future error of pandas. Value '-0.6111111111111112' has dtype incompatible with int64, please explicitly cast to a compatible dtype first.\n",
      "  weight_early.loc[index, \"score\"] += (row['perc_diff'])\n",
      "/tmp/ipykernel_1699323/4188130009.py:25: FutureWarning: Setting an item of incompatible dtype is deprecated and will raise in a future error of pandas. Value '-0.6629213483146067' has dtype incompatible with int64, please explicitly cast to a compatible dtype first.\n",
      "  weight_early.loc[index, \"score\"] += (row['perc_diff'])\n",
      "/tmp/ipykernel_1699323/4188130009.py:25: FutureWarning: Setting an item of incompatible dtype is deprecated and will raise in a future error of pandas. Value '-0.39285714285714285' has dtype incompatible with int64, please explicitly cast to a compatible dtype first.\n",
      "  weight_early.loc[index, \"score\"] += (row['perc_diff'])\n",
      "/tmp/ipykernel_1699323/4188130009.py:25: FutureWarning: Setting an item of incompatible dtype is deprecated and will raise in a future error of pandas. Value '-0.43243243243243246' has dtype incompatible with int64, please explicitly cast to a compatible dtype first.\n",
      "  weight_early.loc[index, \"score\"] += (row['perc_diff'])\n"
     ]
    },
    {
     "name": "stdout",
     "output_type": "stream",
     "text": [
      "    perc perp localization_method  ratio\n",
      "24    37   23          BASE_STATS    0.1\n",
      "127    3   31              greedy  0.001\n",
      "53     5   33                  hc    5.0\n",
      "94    26   24                slim    5.0\n",
      "30    12   25                 act    1.0\n",
      "STEP:  108000  model_name:   EleutherAI/pythia-2.8b-deduped\n",
      "    perc perp localization_method  ratio\n",
      "22    48   22          BASE_STATS    0.1\n",
      "128    4   31              greedy  0.001\n",
      "60    15   28                  hc    5.0\n",
      "81    30   23                slim    5.0\n",
      "30    16   24                 act    1.0\n",
      "STEP:  143000  model_name:   EleutherAI/pythia-2.8b-deduped\n",
      "    perc perp localization_method  ratio\n",
      "26    53   21          BASE_STATS    0.1\n",
      "125    4   32              greedy  0.001\n",
      "46    19   27                  hc    1.0\n",
      "108   31   23                slim    5.0\n",
      "33    15   23                 act    1.0\n"
     ]
    },
    {
     "name": "stderr",
     "output_type": "stream",
     "text": [
      "/tmp/ipykernel_1699323/4188130009.py:25: FutureWarning: Setting an item of incompatible dtype is deprecated and will raise in a future error of pandas. Value '-0.4166666666666667' has dtype incompatible with int64, please explicitly cast to a compatible dtype first.\n",
      "  weight_early.loc[index, \"score\"] += (row['perc_diff'])\n",
      "/tmp/ipykernel_1699323/4188130009.py:25: FutureWarning: Setting an item of incompatible dtype is deprecated and will raise in a future error of pandas. Value '-0.49056603773584906' has dtype incompatible with int64, please explicitly cast to a compatible dtype first.\n",
      "  weight_early.loc[index, \"score\"] += (row['perc_diff'])\n"
     ]
    }
   ],
   "source": [
    "result_path = \"/pscratch/sd/m/mansisak/memorization/model_ckpts/EleutherAI_edit/\"\n",
    "for model_name in ['EleutherAI/pythia-6.9b-deduped', 'EleutherAI/pythia-2.8b-deduped']:\n",
    "    for step in [36000, 72000, 108000, 143000]:\n",
    "        print(\"STEP: \", step, \" model_name:  \", model_name)\n",
    "        file_name = f\"localization_results_{step}.csv\"\n",
    "\n",
    "        df = pd.read_csv(f'{result_path}{file_name}')\n",
    "        for col in df.columns:\n",
    "            if col in [\"perc\"]:\n",
    "                df[col] = df[col].apply(lambda x: round(x, 2))\n",
    "                df[col] = df[col].apply(lambda x: int(x*100))\n",
    "            if col in [\"perp\"]:\n",
    "                df[col] = df[col].apply(lambda x: int(x))\n",
    "            if col in ['ratio']:\n",
    "                df[col] = df[col].apply(lambda x: round(x, 6))\n",
    "        df = df[df['model_name'] == model_name]\n",
    "        #base_stats = df.loc[0].copy()\n",
    "        base_stats = df[df['unlearn_set_name'].isna()].iloc[0]\n",
    "        df = df.drop_duplicates()\n",
    "        \n",
    "\n",
    "\n",
    "        df = return_ideal_method_for_lang(base_stats, df, backdoor=False)\n",
    "        print(df)"
   ]
  },
  {
   "cell_type": "markdown",
   "id": "65e89aaf-5236-4531-a9c3-8e91f740cfaa",
   "metadata": {
    "tags": []
   },
   "source": [
    "# Unlearn Accross Time"
   ]
  },
  {
   "cell_type": "code",
   "execution_count": 209,
   "id": "c2bc3584-74e6-4731-a7eb-ca9495c2e547",
   "metadata": {},
   "outputs": [],
   "source": [
    "seq_before = []\n",
    "seq_after = []\n",
    "ckpt_dir = \"/pscratch/sd/m/mansisak/memorization/model_ckpts/\"\n",
    "for step in [108000, 143000]:\n",
    "\n",
    "    #load original mem set\n",
    "    mem_seq_original = torch.load(f'{ckpt_dir}{step}/EleutherAI_edit/mem_seq_pythia-2.8b-deduped')\n",
    "    seq_before.append(mem_seq_original)\n",
    "\n",
    "    #load mem set after unlearning\n",
    "    mem_seq_after_edit = torch.load(f'{ckpt_dir}{step}/EleutherAI_edit/act/mem/0.01/mem_seq_pythia-2.8b-deduped')\n",
    "    #mem_seq_after_edit = torch.load(f'{ckpt_dir}{step}/EleutherAI_edit/random_greedy/mem/0.01/1/0.1/0.9/0.0005/mem_seq_pythia-2.8b-deduped')\n",
    "    #mem_seq_after_edit = torch.load(f'{ckpt_dir}{step}/EleutherAI_edit/hc/mem/0.01/1/1000/0.1/0.1/mem_seq_pythia-2.8b-deduped')\n",
    "    seq_after.append(mem_seq_after_edit)"
   ]
  },
  {
   "cell_type": "code",
   "execution_count": 210,
   "id": "246e279f-2df0-48f2-86ec-53e18602bd89",
   "metadata": {
    "tags": []
   },
   "outputs": [
    {
     "data": {
      "text/plain": [
       "torch.Size([243, 80])"
      ]
     },
     "execution_count": 210,
     "metadata": {},
     "output_type": "execute_result"
    }
   ],
   "source": [
    "seq_before[0].shape"
   ]
  },
  {
   "cell_type": "code",
   "execution_count": 211,
   "id": "4e43676d-d726-4c84-bd71-f8a456d1f0bf",
   "metadata": {
    "tags": []
   },
   "outputs": [
    {
     "data": {
      "text/plain": [
       "torch.Size([270, 80])"
      ]
     },
     "execution_count": 211,
     "metadata": {},
     "output_type": "execute_result"
    }
   ],
   "source": [
    "seq_before[1].shape"
   ]
  },
  {
   "cell_type": "code",
   "execution_count": 212,
   "id": "6a0063aa-c85c-489d-98fa-35b78e91689d",
   "metadata": {
    "tags": []
   },
   "outputs": [
    {
     "data": {
      "text/plain": [
       "torch.Size([80, 80])"
      ]
     },
     "execution_count": 212,
     "metadata": {},
     "output_type": "execute_result"
    }
   ],
   "source": [
    "seq_after[0].shape"
   ]
  },
  {
   "cell_type": "code",
   "execution_count": 213,
   "id": "598d3c94-5ec5-4ebe-9b1a-8dbdaa200a12",
   "metadata": {
    "tags": []
   },
   "outputs": [
    {
     "data": {
      "text/plain": [
       "torch.Size([69, 80])"
      ]
     },
     "execution_count": 213,
     "metadata": {},
     "output_type": "execute_result"
    }
   ],
   "source": [
    "seq_after[1].shape"
   ]
  },
  {
   "cell_type": "code",
   "execution_count": 200,
   "id": "64b22f4f-7fd7-4108-a534-294a51578060",
   "metadata": {
    "tags": []
   },
   "outputs": [],
   "source": [
    "def get_common_mem_seq_at_all_time(seq_before):\n",
    "    #bc we unlearn at different time points, we want to find a common subset of points that is memorized at each training set\n",
    "    \n",
    "    base_mem_seq = seq_before[0] # the earliest timepiont has fewest mem seqence\n",
    "    common_seqs = []\n",
    "    for row in base_mem_seq: #iterate thru all rows of base mem seq\n",
    "        common = False\n",
    "        for seq in seq_before: #see if later time points contain it\n",
    "            if row in seq:\n",
    "                common=True\n",
    "                \n",
    "        if common:\n",
    "            common_seqs.append(copy.deepcopy(row))\n",
    "    \n",
    "    return torch.stack(common_seqs, dim=0)"
   ]
  },
  {
   "cell_type": "code",
   "execution_count": 201,
   "id": "b5d4fb6f-712a-450b-9f32-539ffa217221",
   "metadata": {
    "tags": []
   },
   "outputs": [],
   "source": [
    "common_seqs = get_common_mem_seq_at_all_time(seq_before)"
   ]
  },
  {
   "cell_type": "code",
   "execution_count": 202,
   "id": "c8bebf69-4f5f-4295-b966-1c790ef9cf61",
   "metadata": {
    "tags": []
   },
   "outputs": [
    {
     "data": {
      "text/plain": [
       "torch.Size([243, 80])"
      ]
     },
     "execution_count": 202,
     "metadata": {},
     "output_type": "execute_result"
    }
   ],
   "source": [
    "common_seqs.shape #there are 80 common seqences memorized at each time point (we will compare unlearning methods on these 80 sequences"
   ]
  },
  {
   "cell_type": "code",
   "execution_count": 245,
   "id": "7722b34d-6401-449a-90ed-aec0a8153d1b",
   "metadata": {
    "tags": []
   },
   "outputs": [],
   "source": [
    "def check_overlap(seq_after, common_seqs, steps=[108000, 143000]):\n",
    "    #Now we want to compare unlearning at multiple timepoints!\n",
    "    not_unlearn_set_over_time = []\n",
    "    for seq in seq_after:\n",
    "        not_unlearn_set = []\n",
    "        for row in seq:\n",
    "            if row in common_seqs:\n",
    "                #print(\"row not unlearned\")\n",
    "                not_unlearn_set.append(copy.deepcopy(row))\n",
    "        print(torch.stack(not_unlearn_set, dim=0).shape)\n",
    "        not_unlearned_set = torch.stack(not_unlearn_set, dim=0)\n",
    "        not_unlearn_set_over_time.append(copy.deepcopy(not_unlearned_set))\n",
    "        \n",
    "    for i in range(len(steps)):\n",
    "        step = steps[i]\n",
    "        print(f\"Perc unlearn @ step {step}: \", 100 * (common_seqs.shape[0] - not_unlearn_set_over_time[i].shape[0])/ common_seqs.shape[0], \"%\")\n",
    "    \n",
    "    return not_unlearn_set_over_time # we wnat to know how many of these sequenes were unlearned overtime\n",
    "    "
   ]
  },
  {
   "cell_type": "code",
   "execution_count": 246,
   "id": "f33c711d-30d4-4dc1-ad39-17e0c388b67c",
   "metadata": {
    "tags": []
   },
   "outputs": [
    {
     "name": "stdout",
     "output_type": "stream",
     "text": [
      "torch.Size([80, 80])\n",
      "torch.Size([69, 80])\n",
      "Perc unlearn 2 step 108000:  67.07818930041152 %\n",
      "Perc unlearn 2 step 143000:  71.60493827160494 %\n"
     ]
    }
   ],
   "source": [
    "not_unlearn_set_over_time = check_overlap(seq_after, common_seqs)"
   ]
  },
  {
   "cell_type": "code",
   "execution_count": null,
   "id": "628213af-2184-4b3f-92bc-0bf4d6e58be0",
   "metadata": {},
   "outputs": [],
   "source": [
    "#"
   ]
  },
  {
   "cell_type": "code",
   "execution_count": 207,
   "id": "2384df24-7a97-4bbe-b260-efc649a1c8df",
   "metadata": {
    "tags": []
   },
   "outputs": [
    {
     "data": {
      "text/plain": [
       "torch.Size([242, 80])"
      ]
     },
     "execution_count": 207,
     "metadata": {},
     "output_type": "execute_result"
    }
   ],
   "source": [
    "not_unlearn_set_over_time[0].shape"
   ]
  },
  {
   "cell_type": "markdown",
   "id": "cec542f4-38b7-41a5-8c9d-a5dae068d325",
   "metadata": {},
   "source": [
    "# Git commit"
   ]
  },
  {
   "cell_type": "code",
   "execution_count": 102,
   "id": "75447702-0dec-4d8c-8ab0-d33f4ead394d",
   "metadata": {
    "tags": []
   },
   "outputs": [
    {
     "name": "stdout",
     "output_type": "stream",
     "text": [
      "black................................................(no files to check)\u001b[46;30mSkipped\u001b[m\n",
      "[main 9af544c] updated unlearning visualization/analysis\n",
      " 1 file changed, 9 insertions(+), 1 deletion(-)\n"
     ]
    }
   ],
   "source": [
    "!git add /pscratch/sd/m/mansisak/memorization/figs/pythia_unlearning_results.ipynb\n",
    "!git commit -m \"updated unlearning visualization/analysis\""
   ]
  }
 ],
 "metadata": {
  "kernelspec": {
   "display_name": "NERSC Python",
   "language": "python",
   "name": "python3"
  },
  "language_info": {
   "codemirror_mode": {
    "name": "ipython",
    "version": 3
   },
   "file_extension": ".py",
   "mimetype": "text/x-python",
   "name": "python",
   "nbconvert_exporter": "python",
   "pygments_lexer": "ipython3",
   "version": "3.11.7"
  }
 },
 "nbformat": 4,
 "nbformat_minor": 5
}
