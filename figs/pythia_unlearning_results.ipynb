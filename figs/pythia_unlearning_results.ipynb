{
 "cells": [
  {
   "cell_type": "markdown",
   "id": "f8f6464a-0c8b-4120-a72d-feef17af34e5",
   "metadata": {
    "tags": []
   },
   "source": [
    "# Set Up"
   ]
  },
  {
   "cell_type": "code",
   "execution_count": 5,
   "id": "9f20b6c9-c0fb-4d47-81eb-8cf6b1315f79",
   "metadata": {
    "tags": []
   },
   "outputs": [
    {
     "data": {
      "text/plain": [
       "'/pscratch/sd/m/mansisak/memorization/figs'"
      ]
     },
     "execution_count": 5,
     "metadata": {},
     "output_type": "execute_result"
    }
   ],
   "source": [
    "%pwd\n"
   ]
  },
  {
   "cell_type": "code",
   "execution_count": null,
   "id": "826d3dfc-dcb6-4a05-855a-bd79c370a6c2",
   "metadata": {
    "tags": []
   },
   "outputs": [],
   "source": [
    "!conda list"
   ]
  },
  {
   "cell_type": "code",
   "execution_count": 6,
   "id": "38bcda98-affa-4d15-8fb3-58b0c75cc23c",
   "metadata": {
    "tags": []
   },
   "outputs": [],
   "source": [
    "!module load conda"
   ]
  },
  {
   "cell_type": "code",
   "execution_count": 7,
   "id": "8f2850d3-4da6-4395-bad3-55cc1a0ee15e",
   "metadata": {
    "tags": []
   },
   "outputs": [],
   "source": [
    "!conda activate /pscratch/sd/m/mansisak/memorization/env/"
   ]
  },
  {
   "cell_type": "code",
   "execution_count": 24,
   "id": "07607395-fd1e-43de-8a85-a6c3ee16e9a8",
   "metadata": {
    "tags": []
   },
   "outputs": [
    {
     "name": "stdout",
     "output_type": "stream",
     "text": [
      "act\tlocalization_results_108000.csv  mem_seq_pythia-2.8b-deduped\n",
      "attrib\tlocalization_results_143000.csv  mem_seq_pythia-6.9b-deduped\n",
      "greedy\tlocalization_results_36000.csv\t slim\n",
      "hc\tlocalization_results_72000.csv\n"
     ]
    }
   ],
   "source": [
    "!ls /pscratch/sd/m/mansisak/memorization/model_ckpts/EleutherAI_edit/"
   ]
  },
  {
   "cell_type": "code",
   "execution_count": null,
   "id": "f7ea4b9e-c194-4272-9c27-f9db487c97cd",
   "metadata": {},
   "outputs": [],
   "source": [
    "ls "
   ]
  },
  {
   "cell_type": "code",
   "execution_count": 16,
   "id": "bf91b5b6-b20b-4a16-9982-5d6fd50017f7",
   "metadata": {
    "tags": []
   },
   "outputs": [],
   "source": [
    "import pandas as pd"
   ]
  },
  {
   "cell_type": "markdown",
   "id": "8ab27cb6-f7d1-4d7c-bc0b-06aa85db5a94",
   "metadata": {},
   "source": [
    "# Load in Results"
   ]
  },
  {
   "cell_type": "code",
   "execution_count": 19,
   "id": "1caeb3b8-a15b-4e0a-9137-b0d7960a12e5",
   "metadata": {
    "tags": []
   },
   "outputs": [
    {
     "data": {
      "text/html": [
       "<div>\n",
       "<style scoped>\n",
       "    .dataframe tbody tr th:only-of-type {\n",
       "        vertical-align: middle;\n",
       "    }\n",
       "\n",
       "    .dataframe tbody tr th {\n",
       "        vertical-align: top;\n",
       "    }\n",
       "\n",
       "    .dataframe thead th {\n",
       "        text-align: right;\n",
       "    }\n",
       "</style>\n",
       "<table border=\"1\" class=\"dataframe\">\n",
       "  <thead>\n",
       "    <tr style=\"text-align: right;\">\n",
       "      <th></th>\n",
       "      <th>model_name</th>\n",
       "      <th>localization_method</th>\n",
       "      <th>ratio</th>\n",
       "      <th>batch_size</th>\n",
       "      <th>epochs</th>\n",
       "      <th>lambda_l1</th>\n",
       "      <th>stop_loss</th>\n",
       "      <th>lr</th>\n",
       "      <th>prompt_len</th>\n",
       "      <th>ig_steps</th>\n",
       "      <th>momentum</th>\n",
       "      <th>weight_decay</th>\n",
       "      <th>step</th>\n",
       "      <th>assess_mem</th>\n",
       "      <th>seed</th>\n",
       "      <th>model_path</th>\n",
       "      <th>results_path</th>\n",
       "      <th>perc</th>\n",
       "      <th>perp</th>\n",
       "      <th>unlearn_set_name</th>\n",
       "    </tr>\n",
       "  </thead>\n",
       "  <tbody>\n",
       "    <tr>\n",
       "      <th>0</th>\n",
       "      <td>EleutherAI/pythia-6.9b-deduped</td>\n",
       "      <td>act</td>\n",
       "      <td>0.001</td>\n",
       "      <td>32</td>\n",
       "      <td>1</td>\n",
       "      <td>1000</td>\n",
       "      <td>0.1</td>\n",
       "      <td>0.1</td>\n",
       "      <td>32</td>\n",
       "      <td>1</td>\n",
       "      <td>0.9</td>\n",
       "      <td>0.0005</td>\n",
       "      <td>72000</td>\n",
       "      <td>0</td>\n",
       "      <td>0</td>\n",
       "      <td>../../model_ckpts/EleutherAI/pythia-6.9b-deduped</td>\n",
       "      <td>../../model_ckpts/EleutherAI_edit/localization...</td>\n",
       "      <td>0.564356</td>\n",
       "      <td>20.980392</td>\n",
       "      <td>NaN</td>\n",
       "    </tr>\n",
       "    <tr>\n",
       "      <th>1</th>\n",
       "      <td>EleutherAI/pythia-6.9b-deduped</td>\n",
       "      <td>act</td>\n",
       "      <td>0.001</td>\n",
       "      <td>32</td>\n",
       "      <td>1</td>\n",
       "      <td>1000</td>\n",
       "      <td>0.1</td>\n",
       "      <td>0.1</td>\n",
       "      <td>32</td>\n",
       "      <td>1</td>\n",
       "      <td>0.9</td>\n",
       "      <td>0.0005</td>\n",
       "      <td>72000</td>\n",
       "      <td>0</td>\n",
       "      <td>0</td>\n",
       "      <td>../../model_ckpts/EleutherAI/pythia-6.9b-deduped</td>\n",
       "      <td>../../model_ckpts/EleutherAI_edit/localization...</td>\n",
       "      <td>0.281188</td>\n",
       "      <td>21.607843</td>\n",
       "      <td>mem</td>\n",
       "    </tr>\n",
       "    <tr>\n",
       "      <th>2</th>\n",
       "      <td>EleutherAI/pythia-6.9b-deduped</td>\n",
       "      <td>act</td>\n",
       "      <td>0.010</td>\n",
       "      <td>32</td>\n",
       "      <td>1</td>\n",
       "      <td>1000</td>\n",
       "      <td>0.1</td>\n",
       "      <td>0.1</td>\n",
       "      <td>32</td>\n",
       "      <td>1</td>\n",
       "      <td>0.9</td>\n",
       "      <td>0.0005</td>\n",
       "      <td>72000</td>\n",
       "      <td>0</td>\n",
       "      <td>0</td>\n",
       "      <td>../../model_ckpts/EleutherAI/pythia-6.9b-deduped</td>\n",
       "      <td>../../model_ckpts/EleutherAI_edit/localization...</td>\n",
       "      <td>0.164356</td>\n",
       "      <td>23.372549</td>\n",
       "      <td>mem</td>\n",
       "    </tr>\n",
       "    <tr>\n",
       "      <th>3</th>\n",
       "      <td>EleutherAI/pythia-6.9b-deduped</td>\n",
       "      <td>act</td>\n",
       "      <td>0.050</td>\n",
       "      <td>32</td>\n",
       "      <td>1</td>\n",
       "      <td>1000</td>\n",
       "      <td>0.1</td>\n",
       "      <td>0.1</td>\n",
       "      <td>32</td>\n",
       "      <td>1</td>\n",
       "      <td>0.9</td>\n",
       "      <td>0.0005</td>\n",
       "      <td>72000</td>\n",
       "      <td>0</td>\n",
       "      <td>0</td>\n",
       "      <td>../../model_ckpts/EleutherAI/pythia-6.9b-deduped</td>\n",
       "      <td>../../model_ckpts/EleutherAI_edit/localization...</td>\n",
       "      <td>0.108911</td>\n",
       "      <td>25.411765</td>\n",
       "      <td>mem</td>\n",
       "    </tr>\n",
       "    <tr>\n",
       "      <th>4</th>\n",
       "      <td>EleutherAI/pythia-6.9b-deduped</td>\n",
       "      <td>hc</td>\n",
       "      <td>0.001</td>\n",
       "      <td>32</td>\n",
       "      <td>1</td>\n",
       "      <td>1000</td>\n",
       "      <td>0.1</td>\n",
       "      <td>0.1</td>\n",
       "      <td>32</td>\n",
       "      <td>1</td>\n",
       "      <td>0.9</td>\n",
       "      <td>0.0005</td>\n",
       "      <td>72000</td>\n",
       "      <td>0</td>\n",
       "      <td>0</td>\n",
       "      <td>../../model_ckpts/EleutherAI/pythia-6.9b-deduped</td>\n",
       "      <td>../../model_ckpts/EleutherAI_edit/localization...</td>\n",
       "      <td>0.512871</td>\n",
       "      <td>21.568627</td>\n",
       "      <td>mem</td>\n",
       "    </tr>\n",
       "  </tbody>\n",
       "</table>\n",
       "</div>"
      ],
      "text/plain": [
       "                       model_name localization_method  ratio  batch_size  \\\n",
       "0  EleutherAI/pythia-6.9b-deduped                 act  0.001          32   \n",
       "1  EleutherAI/pythia-6.9b-deduped                 act  0.001          32   \n",
       "2  EleutherAI/pythia-6.9b-deduped                 act  0.010          32   \n",
       "3  EleutherAI/pythia-6.9b-deduped                 act  0.050          32   \n",
       "4  EleutherAI/pythia-6.9b-deduped                  hc  0.001          32   \n",
       "\n",
       "   epochs  lambda_l1  stop_loss   lr  prompt_len  ig_steps  momentum  \\\n",
       "0       1       1000        0.1  0.1          32         1       0.9   \n",
       "1       1       1000        0.1  0.1          32         1       0.9   \n",
       "2       1       1000        0.1  0.1          32         1       0.9   \n",
       "3       1       1000        0.1  0.1          32         1       0.9   \n",
       "4       1       1000        0.1  0.1          32         1       0.9   \n",
       "\n",
       "   weight_decay   step  assess_mem  seed  \\\n",
       "0        0.0005  72000           0     0   \n",
       "1        0.0005  72000           0     0   \n",
       "2        0.0005  72000           0     0   \n",
       "3        0.0005  72000           0     0   \n",
       "4        0.0005  72000           0     0   \n",
       "\n",
       "                                         model_path  \\\n",
       "0  ../../model_ckpts/EleutherAI/pythia-6.9b-deduped   \n",
       "1  ../../model_ckpts/EleutherAI/pythia-6.9b-deduped   \n",
       "2  ../../model_ckpts/EleutherAI/pythia-6.9b-deduped   \n",
       "3  ../../model_ckpts/EleutherAI/pythia-6.9b-deduped   \n",
       "4  ../../model_ckpts/EleutherAI/pythia-6.9b-deduped   \n",
       "\n",
       "                                        results_path      perc       perp  \\\n",
       "0  ../../model_ckpts/EleutherAI_edit/localization...  0.564356  20.980392   \n",
       "1  ../../model_ckpts/EleutherAI_edit/localization...  0.281188  21.607843   \n",
       "2  ../../model_ckpts/EleutherAI_edit/localization...  0.164356  23.372549   \n",
       "3  ../../model_ckpts/EleutherAI_edit/localization...  0.108911  25.411765   \n",
       "4  ../../model_ckpts/EleutherAI_edit/localization...  0.512871  21.568627   \n",
       "\n",
       "  unlearn_set_name  \n",
       "0              NaN  \n",
       "1              mem  \n",
       "2              mem  \n",
       "3              mem  \n",
       "4              mem  "
      ]
     },
     "execution_count": 19,
     "metadata": {},
     "output_type": "execute_result"
    }
   ],
   "source": [
    "result_path = \"/pscratch/sd/m/mansisak/memorization/model_ckpts/EleutherAI_edit/\"\n",
    "\n",
    "file_name = \"localization_results_72000.csv\"\n",
    "\n",
    "df = pd.read_csv(f'{result_path}{file_name}')\n",
    "\n",
    "base_stats = df.loc[0].copy()\n",
    "df = df.drop_duplicates()\n",
    "df.head()"
   ]
  }
 ],
 "metadata": {
  "kernelspec": {
   "display_name": "NERSC Python",
   "language": "python",
   "name": "python3"
  },
  "language_info": {
   "codemirror_mode": {
    "name": "ipython",
    "version": 3
   },
   "file_extension": ".py",
   "mimetype": "text/x-python",
   "name": "python",
   "nbconvert_exporter": "python",
   "pygments_lexer": "ipython3",
   "version": "3.11.7"
  }
 },
 "nbformat": 4,
 "nbformat_minor": 5
}
