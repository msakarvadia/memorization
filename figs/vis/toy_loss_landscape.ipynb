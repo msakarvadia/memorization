{
 "cells": [
  {
   "cell_type": "code",
   "execution_count": 12,
   "id": "40e1966c-ccff-41a5-a3a0-59f00e3ec0fb",
   "metadata": {
    "tags": []
   },
   "outputs": [],
   "source": [
    "# Load Model:\n",
    "from transformers import GPT2Config, GPT2Model,GPT2LMHeadModel\n",
    "import math\n",
    "import torch\n",
    "\n",
    "def load_from_ckpt(path, model):\n",
    "  ckpt = torch.load(path, map_location=torch.device('cpu'))\n",
    "  model.load_state_dict(ckpt['model_state_dict'])\n",
    "  #optimizer.load_state_dict(ckpt['optimizer_state_dict'])\n",
    "  #finished_epochs = ckpt['epoch']\n",
    "  train_losses = ckpt['train_losses']\n",
    "  test_losses = ckpt['test_losses']\n",
    "  train_accuracies = ckpt['train_accuracies']\n",
    "  test_accuracies = ckpt['test_accuracies']\n",
    "  train_perplexities = ckpt[\"train_perplexities\"]\n",
    "  test_perplexities = ckpt[\"test_perplexities\"]\n",
    "  percent_memorized  = ckpt['percent_memorized']\n",
    "  train_losses = ckpt['train_losses']\n",
    "  test_losses = ckpt['test_losses']\n",
    "  return train_losses, test_losses, train_accuracies, test_accuracies, percent_memorized, model, test_perplexities, train_perplexities, train_losses, test_losses\n",
    "\n",
    "configuration = GPT2Config(\n",
    "                    vocab_size = 50257,\n",
    "                    n_layer = 4 ,\n",
    "                    n_head = 4,\n",
    "                    n_embd = 128,\n",
    "                    n_positions = 150,\n",
    "                    bos_token_id = 10,\n",
    "                    eos_token_id = 11 ,\n",
    "                    use_cache = False,\n",
    "                    hidden_states = False,\n",
    "                    output_attentions = False,\n",
    "                    activation_function = \"relu\",\n",
    "                    attn_pdrop=0,\n",
    "                    resid_pdrop=0,\n",
    "                    embd_pdrop=0,\n",
    "                    initializer_range = 0.8 / math.sqrt(128) #0.8 / sqrt(d_model)\n",
    ")\n",
    "\n",
    "model = GPT2LMHeadModel(configuration)"
   ]
  },
  {
   "cell_type": "code",
   "execution_count": 6,
   "id": "e35d614d-c2e0-4a7c-b1a6-838f1af28a36",
   "metadata": {
    "tags": []
   },
   "outputs": [
    {
     "name": "stdout",
     "output_type": "stream",
     "text": [
      "4_layer_100_epoch.pth  loss_landscapes.py  toy_loss_landscape.ipynb\n",
      "loss_landscapes.ipynb  README.md\n"
     ]
    }
   ],
   "source": [
    "!ls "
   ]
  },
  {
   "cell_type": "code",
   "execution_count": 13,
   "id": "afabb3dd-30d0-44df-9ccf-5e943805ea30",
   "metadata": {
    "tags": []
   },
   "outputs": [
    {
     "ename": "KeyError",
     "evalue": "'train_losses'",
     "output_type": "error",
     "traceback": [
      "\u001b[0;31m---------------------------------------------------------------------------\u001b[0m",
      "\u001b[0;31mKeyError\u001b[0m                                  Traceback (most recent call last)",
      "Cell \u001b[0;32mIn[13], line 2\u001b[0m\n\u001b[1;32m      1\u001b[0m path \u001b[38;5;241m=\u001b[39m \u001b[38;5;124m'\u001b[39m\u001b[38;5;124m4_layer_100_epoch.pth\u001b[39m\u001b[38;5;124m'\u001b[39m\n\u001b[0;32m----> 2\u001b[0m train_losses, test_losses, train_accuracies, test_accuracies, percent_memorized, model, test_perplexities, train_perplexities, train_losses, test_losses \u001b[38;5;241m=\u001b[39m \u001b[43mload_from_ckpt\u001b[49m\u001b[43m(\u001b[49m\u001b[43mpath\u001b[49m\u001b[43m,\u001b[49m\u001b[43m \u001b[49m\u001b[43mmodel\u001b[49m\u001b[43m)\u001b[49m\n",
      "Cell \u001b[0;32mIn[12], line 11\u001b[0m, in \u001b[0;36mload_from_ckpt\u001b[0;34m(path, model)\u001b[0m\n\u001b[1;32m      8\u001b[0m model\u001b[38;5;241m.\u001b[39mload_state_dict(ckpt[\u001b[38;5;124m'\u001b[39m\u001b[38;5;124mmodel_state_dict\u001b[39m\u001b[38;5;124m'\u001b[39m])\n\u001b[1;32m      9\u001b[0m \u001b[38;5;66;03m#optimizer.load_state_dict(ckpt['optimizer_state_dict'])\u001b[39;00m\n\u001b[1;32m     10\u001b[0m \u001b[38;5;66;03m#finished_epochs = ckpt['epoch']\u001b[39;00m\n\u001b[0;32m---> 11\u001b[0m train_losses \u001b[38;5;241m=\u001b[39m \u001b[43mckpt\u001b[49m\u001b[43m[\u001b[49m\u001b[38;5;124;43m'\u001b[39;49m\u001b[38;5;124;43mtrain_losses\u001b[39;49m\u001b[38;5;124;43m'\u001b[39;49m\u001b[43m]\u001b[49m\n\u001b[1;32m     12\u001b[0m test_losses \u001b[38;5;241m=\u001b[39m ckpt[\u001b[38;5;124m'\u001b[39m\u001b[38;5;124mtest_losses\u001b[39m\u001b[38;5;124m'\u001b[39m]\n\u001b[1;32m     13\u001b[0m train_accuracies \u001b[38;5;241m=\u001b[39m ckpt[\u001b[38;5;124m'\u001b[39m\u001b[38;5;124mtrain_accuracies\u001b[39m\u001b[38;5;124m'\u001b[39m]\n",
      "\u001b[0;31mKeyError\u001b[0m: 'train_losses'"
     ]
    }
   ],
   "source": [
    "path = '4_layer_100_epoch.pth'\n",
    "train_losses, test_losses, train_accuracies, test_accuracies, percent_memorized, model, test_perplexities, train_perplexities, train_losses, test_losses = load_from_ckpt(path, model)"
   ]
  }
 ],
 "metadata": {
  "kernelspec": {
   "display_name": "NERSC Python",
   "language": "python",
   "name": "python3"
  },
  "language_info": {
   "codemirror_mode": {
    "name": "ipython",
    "version": 3
   },
   "file_extension": ".py",
   "mimetype": "text/x-python",
   "name": "python",
   "nbconvert_exporter": "python",
   "pygments_lexer": "ipython3",
   "version": "3.11.7"
  }
 },
 "nbformat": 4,
 "nbformat_minor": 5
}
