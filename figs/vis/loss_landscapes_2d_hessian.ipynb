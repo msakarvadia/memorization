{
 "cells": [
  {
   "cell_type": "markdown",
   "id": "240107bb-bda6-4cb3-b373-99496185b06e",
   "metadata": {
    "tags": []
   },
   "source": [
    "# Set Up/Imports"
   ]
  },
  {
   "cell_type": "code",
   "execution_count": 1,
   "id": "990856d1-5032-4f5f-8d4a-84ff2f0a3887",
   "metadata": {},
   "outputs": [],
   "source": [
    "%load_ext autoreload\n",
    "%autoreload 2"
   ]
  },
  {
   "cell_type": "code",
   "execution_count": 2,
   "id": "692346f5-61b2-435c-b0a2-b2e5833181fe",
   "metadata": {
    "tags": []
   },
   "outputs": [],
   "source": [
    "# conda activate \"/pscratch/sd/m/mansisak/memorization/env/\""
   ]
  },
  {
   "cell_type": "code",
   "execution_count": 3,
   "id": "9512f68a-39fd-4e37-825d-b2415fa10198",
   "metadata": {
    "tags": []
   },
   "outputs": [],
   "source": [
    "# !pip list"
   ]
  },
  {
   "cell_type": "code",
   "execution_count": 4,
   "id": "0039350a-fa65-49c0-acb7-b763c9aa5198",
   "metadata": {
    "tags": []
   },
   "outputs": [],
   "source": [
    "#pip install accelerate"
   ]
  },
  {
   "cell_type": "code",
   "execution_count": 5,
   "id": "b65bfcf8-bc73-49b7-98fe-ebad53b40ca8",
   "metadata": {
    "tags": []
   },
   "outputs": [
    {
     "name": "stderr",
     "output_type": "stream",
     "text": [
      "/global/cfs/cdirs/m636/geniesse/envs/memorization/lib/python3.10/site-packages/transformers/utils/hub.py:124: FutureWarning: Using `TRANSFORMERS_CACHE` is deprecated and will be removed in v5 of Transformers. Use `HF_HOME` instead.\n",
      "  warnings.warn(\n"
     ]
    }
   ],
   "source": [
    "import torch\n",
    "import os\n",
    "from transformers import AutoModelForCausalLM\n",
    "from torch.utils.data import DataLoader\n",
    "from tqdm import tqdm\n",
    "\n",
    "### TODO: figure out automatically\n",
    "# device = \"cpu\"\n",
    "device = \"cuda:1\""
   ]
  },
  {
   "cell_type": "markdown",
   "id": "a2bd0961-4ef1-4ed8-952b-55c43e12cce8",
   "metadata": {
    "tags": []
   },
   "source": [
    "# Load in Models"
   ]
  },
  {
   "cell_type": "code",
   "execution_count": 6,
   "id": "f2c93588-3a75-49b6-bef8-41da12d99c8e",
   "metadata": {
    "tags": []
   },
   "outputs": [],
   "source": [
    "def print_edited_model_paths(parent_path):\n",
    "    \n",
    "    total_exp = 0\n",
    "    for model_name in ['pythia-6.9b-deduped', 'pythia-2.8b-deduped']:\n",
    "        y_idx = 0\n",
    "        for step in [36000, 72000, 108000, 143000]:\n",
    "            for loc_method in [\n",
    "                  \"act\",\n",
    "                  \"hc\",\n",
    "                  \"slim\",\n",
    "                  \"durable\",\n",
    "                  \"durable_agg\",\n",
    "                  \"random\",\n",
    "                  \"random_greedy\",\n",
    "                  \"greedy\",\n",
    "              ]:\n",
    "                \n",
    "                for ratio in [0.00001, 0.0001, 0.001, 0.01, 0.05, 0.1, 0.25, 0.3]:\n",
    "                    result_path = f\"{parent_path}{step}/EleutherAI_edit/{loc_method}/mem/{ratio}\"\n",
    "                    if loc_method not in [\"random\", \"random_greedy\"]:\n",
    "                        if ratio >= 0.1:\n",
    "                            continue\n",
    "\n",
    "                    # this ratio is too small for neuron-level methods\n",
    "                    if loc_method in [\"zero\", \"hc\", \"ig\", \"slim\", \"act\"]:\n",
    "                        if ratio <= 0.0001:\n",
    "                            continue\n",
    "\n",
    "                    if loc_method in [\"greedy\"]:\n",
    "                        if ratio > 0.00001:\n",
    "                            continue\n",
    "                            \n",
    "                    ######\n",
    "                    if loc_method in [\"greedy\", \"durable\", \"durable_agg\",\"act\"]:\n",
    "                        model_path = f'{result_path}/{model_name}'\n",
    "                        total_exp += 1\n",
    "\n",
    "                    if loc_method in [\"slim\", \"hc\"]:\n",
    "                        for epochs in [1, 10, 20]:\n",
    "                            total_exp += 1\n",
    "                            model_path = f'{result_path}/{epochs}/1000/0.1/0.1/{model_name}'                      \n",
    "\n",
    "                    if loc_method in [\"random\", \"random_greedy\"]:\n",
    "                        for epochs in [1, 10, 20]:\n",
    "                            total_exp += 1\n",
    "                            model_path = f'{result_path}/{epochs}/0.1/0.9/0.0005/{model_name}'\n",
    "                    if os.path.isfile(model_path):\n",
    "                        print(\"edited model exists:\", model_path)\n",
    "                    else:\n",
    "                        print(\"edited model doesn't exist yet: \", model_path)\n",
    "\n",
    "    print(\"total_expeirments: \", total_exp)\n",
    "\n"
   ]
  },
  {
   "cell_type": "code",
   "execution_count": 7,
   "id": "1865793f-b745-4f7c-8532-4591860afc1a",
   "metadata": {
    "tags": []
   },
   "outputs": [
    {
     "name": "stdout",
     "output_type": "stream",
     "text": [
      "edited model exists: /pscratch/sd/m/mansisak/memorization/model_ckpts/36000/EleutherAI_edit/act/mem/0.001/pythia-6.9b-deduped\n",
      "edited model exists: /pscratch/sd/m/mansisak/memorization/model_ckpts/36000/EleutherAI_edit/act/mem/0.01/pythia-6.9b-deduped\n",
      "edited model exists: /pscratch/sd/m/mansisak/memorization/model_ckpts/36000/EleutherAI_edit/act/mem/0.05/pythia-6.9b-deduped\n",
      "edited model exists: /pscratch/sd/m/mansisak/memorization/model_ckpts/36000/EleutherAI_edit/hc/mem/0.001/20/1000/0.1/0.1/pythia-6.9b-deduped\n",
      "edited model exists: /pscratch/sd/m/mansisak/memorization/model_ckpts/36000/EleutherAI_edit/hc/mem/0.01/20/1000/0.1/0.1/pythia-6.9b-deduped\n",
      "edited model exists: /pscratch/sd/m/mansisak/memorization/model_ckpts/36000/EleutherAI_edit/hc/mem/0.05/20/1000/0.1/0.1/pythia-6.9b-deduped\n",
      "edited model exists: /pscratch/sd/m/mansisak/memorization/model_ckpts/36000/EleutherAI_edit/slim/mem/0.001/20/1000/0.1/0.1/pythia-6.9b-deduped\n",
      "edited model exists: /pscratch/sd/m/mansisak/memorization/model_ckpts/36000/EleutherAI_edit/slim/mem/0.01/20/1000/0.1/0.1/pythia-6.9b-deduped\n",
      "edited model exists: /pscratch/sd/m/mansisak/memorization/model_ckpts/36000/EleutherAI_edit/slim/mem/0.05/20/1000/0.1/0.1/pythia-6.9b-deduped\n",
      "edited model exists: /pscratch/sd/m/mansisak/memorization/model_ckpts/36000/EleutherAI_edit/durable/mem/1e-05/pythia-6.9b-deduped\n",
      "edited model exists: /pscratch/sd/m/mansisak/memorization/model_ckpts/36000/EleutherAI_edit/durable/mem/0.0001/pythia-6.9b-deduped\n",
      "edited model exists: /pscratch/sd/m/mansisak/memorization/model_ckpts/36000/EleutherAI_edit/durable/mem/0.001/pythia-6.9b-deduped\n",
      "edited model exists: /pscratch/sd/m/mansisak/memorization/model_ckpts/36000/EleutherAI_edit/durable/mem/0.01/pythia-6.9b-deduped\n",
      "edited model exists: /pscratch/sd/m/mansisak/memorization/model_ckpts/36000/EleutherAI_edit/durable/mem/0.05/pythia-6.9b-deduped\n",
      "edited model exists: /pscratch/sd/m/mansisak/memorization/model_ckpts/36000/EleutherAI_edit/durable_agg/mem/1e-05/pythia-6.9b-deduped\n",
      "edited model exists: /pscratch/sd/m/mansisak/memorization/model_ckpts/36000/EleutherAI_edit/durable_agg/mem/0.0001/pythia-6.9b-deduped\n",
      "edited model exists: /pscratch/sd/m/mansisak/memorization/model_ckpts/36000/EleutherAI_edit/durable_agg/mem/0.001/pythia-6.9b-deduped\n",
      "edited model exists: /pscratch/sd/m/mansisak/memorization/model_ckpts/36000/EleutherAI_edit/durable_agg/mem/0.01/pythia-6.9b-deduped\n",
      "edited model exists: /pscratch/sd/m/mansisak/memorization/model_ckpts/36000/EleutherAI_edit/durable_agg/mem/0.05/pythia-6.9b-deduped\n",
      "edited model exists: /pscratch/sd/m/mansisak/memorization/model_ckpts/36000/EleutherAI_edit/random/mem/1e-05/20/0.1/0.9/0.0005/pythia-6.9b-deduped\n",
      "edited model exists: /pscratch/sd/m/mansisak/memorization/model_ckpts/36000/EleutherAI_edit/random/mem/0.0001/20/0.1/0.9/0.0005/pythia-6.9b-deduped\n",
      "edited model exists: /pscratch/sd/m/mansisak/memorization/model_ckpts/36000/EleutherAI_edit/random/mem/0.001/20/0.1/0.9/0.0005/pythia-6.9b-deduped\n",
      "edited model exists: /pscratch/sd/m/mansisak/memorization/model_ckpts/36000/EleutherAI_edit/random/mem/0.01/20/0.1/0.9/0.0005/pythia-6.9b-deduped\n",
      "edited model exists: /pscratch/sd/m/mansisak/memorization/model_ckpts/36000/EleutherAI_edit/random/mem/0.05/20/0.1/0.9/0.0005/pythia-6.9b-deduped\n",
      "edited model exists: /pscratch/sd/m/mansisak/memorization/model_ckpts/36000/EleutherAI_edit/random/mem/0.1/20/0.1/0.9/0.0005/pythia-6.9b-deduped\n",
      "edited model exists: /pscratch/sd/m/mansisak/memorization/model_ckpts/36000/EleutherAI_edit/random/mem/0.25/20/0.1/0.9/0.0005/pythia-6.9b-deduped\n",
      "edited model exists: /pscratch/sd/m/mansisak/memorization/model_ckpts/36000/EleutherAI_edit/random/mem/0.3/20/0.1/0.9/0.0005/pythia-6.9b-deduped\n",
      "edited model exists: /pscratch/sd/m/mansisak/memorization/model_ckpts/36000/EleutherAI_edit/random_greedy/mem/1e-05/20/0.1/0.9/0.0005/pythia-6.9b-deduped\n",
      "edited model exists: /pscratch/sd/m/mansisak/memorization/model_ckpts/36000/EleutherAI_edit/random_greedy/mem/0.0001/20/0.1/0.9/0.0005/pythia-6.9b-deduped\n",
      "edited model doesn't exist yet:  /pscratch/sd/m/mansisak/memorization/model_ckpts/36000/EleutherAI_edit/random_greedy/mem/0.001/20/0.1/0.9/0.0005/pythia-6.9b-deduped\n",
      "edited model doesn't exist yet:  /pscratch/sd/m/mansisak/memorization/model_ckpts/36000/EleutherAI_edit/random_greedy/mem/0.01/20/0.1/0.9/0.0005/pythia-6.9b-deduped\n",
      "edited model doesn't exist yet:  /pscratch/sd/m/mansisak/memorization/model_ckpts/36000/EleutherAI_edit/random_greedy/mem/0.05/20/0.1/0.9/0.0005/pythia-6.9b-deduped\n",
      "edited model doesn't exist yet:  /pscratch/sd/m/mansisak/memorization/model_ckpts/36000/EleutherAI_edit/random_greedy/mem/0.1/20/0.1/0.9/0.0005/pythia-6.9b-deduped\n",
      "edited model doesn't exist yet:  /pscratch/sd/m/mansisak/memorization/model_ckpts/36000/EleutherAI_edit/random_greedy/mem/0.25/20/0.1/0.9/0.0005/pythia-6.9b-deduped\n",
      "edited model doesn't exist yet:  /pscratch/sd/m/mansisak/memorization/model_ckpts/36000/EleutherAI_edit/random_greedy/mem/0.3/20/0.1/0.9/0.0005/pythia-6.9b-deduped\n",
      "edited model exists: /pscratch/sd/m/mansisak/memorization/model_ckpts/36000/EleutherAI_edit/greedy/mem/1e-05/pythia-6.9b-deduped\n",
      "edited model exists: /pscratch/sd/m/mansisak/memorization/model_ckpts/72000/EleutherAI_edit/act/mem/0.001/pythia-6.9b-deduped\n",
      "edited model exists: /pscratch/sd/m/mansisak/memorization/model_ckpts/72000/EleutherAI_edit/act/mem/0.01/pythia-6.9b-deduped\n",
      "edited model exists: /pscratch/sd/m/mansisak/memorization/model_ckpts/72000/EleutherAI_edit/act/mem/0.05/pythia-6.9b-deduped\n",
      "edited model exists: /pscratch/sd/m/mansisak/memorization/model_ckpts/72000/EleutherAI_edit/hc/mem/0.001/20/1000/0.1/0.1/pythia-6.9b-deduped\n",
      "edited model exists: /pscratch/sd/m/mansisak/memorization/model_ckpts/72000/EleutherAI_edit/hc/mem/0.01/20/1000/0.1/0.1/pythia-6.9b-deduped\n",
      "edited model exists: /pscratch/sd/m/mansisak/memorization/model_ckpts/72000/EleutherAI_edit/hc/mem/0.05/20/1000/0.1/0.1/pythia-6.9b-deduped\n",
      "edited model exists: /pscratch/sd/m/mansisak/memorization/model_ckpts/72000/EleutherAI_edit/slim/mem/0.001/20/1000/0.1/0.1/pythia-6.9b-deduped\n",
      "edited model exists: /pscratch/sd/m/mansisak/memorization/model_ckpts/72000/EleutherAI_edit/slim/mem/0.01/20/1000/0.1/0.1/pythia-6.9b-deduped\n",
      "edited model exists: /pscratch/sd/m/mansisak/memorization/model_ckpts/72000/EleutherAI_edit/slim/mem/0.05/20/1000/0.1/0.1/pythia-6.9b-deduped\n",
      "edited model exists: /pscratch/sd/m/mansisak/memorization/model_ckpts/72000/EleutherAI_edit/durable/mem/1e-05/pythia-6.9b-deduped\n",
      "edited model exists: /pscratch/sd/m/mansisak/memorization/model_ckpts/72000/EleutherAI_edit/durable/mem/0.0001/pythia-6.9b-deduped\n",
      "edited model exists: /pscratch/sd/m/mansisak/memorization/model_ckpts/72000/EleutherAI_edit/durable/mem/0.001/pythia-6.9b-deduped\n",
      "edited model exists: /pscratch/sd/m/mansisak/memorization/model_ckpts/72000/EleutherAI_edit/durable/mem/0.01/pythia-6.9b-deduped\n",
      "edited model exists: /pscratch/sd/m/mansisak/memorization/model_ckpts/72000/EleutherAI_edit/durable/mem/0.05/pythia-6.9b-deduped\n",
      "edited model exists: /pscratch/sd/m/mansisak/memorization/model_ckpts/72000/EleutherAI_edit/durable_agg/mem/1e-05/pythia-6.9b-deduped\n",
      "edited model exists: /pscratch/sd/m/mansisak/memorization/model_ckpts/72000/EleutherAI_edit/durable_agg/mem/0.0001/pythia-6.9b-deduped\n",
      "edited model exists: /pscratch/sd/m/mansisak/memorization/model_ckpts/72000/EleutherAI_edit/durable_agg/mem/0.001/pythia-6.9b-deduped\n",
      "edited model exists: /pscratch/sd/m/mansisak/memorization/model_ckpts/72000/EleutherAI_edit/durable_agg/mem/0.01/pythia-6.9b-deduped\n",
      "edited model exists: /pscratch/sd/m/mansisak/memorization/model_ckpts/72000/EleutherAI_edit/durable_agg/mem/0.05/pythia-6.9b-deduped\n",
      "edited model exists: /pscratch/sd/m/mansisak/memorization/model_ckpts/72000/EleutherAI_edit/random/mem/1e-05/20/0.1/0.9/0.0005/pythia-6.9b-deduped\n",
      "edited model exists: /pscratch/sd/m/mansisak/memorization/model_ckpts/72000/EleutherAI_edit/random/mem/0.0001/20/0.1/0.9/0.0005/pythia-6.9b-deduped\n",
      "edited model exists: /pscratch/sd/m/mansisak/memorization/model_ckpts/72000/EleutherAI_edit/random/mem/0.001/20/0.1/0.9/0.0005/pythia-6.9b-deduped\n",
      "edited model exists: /pscratch/sd/m/mansisak/memorization/model_ckpts/72000/EleutherAI_edit/random/mem/0.01/20/0.1/0.9/0.0005/pythia-6.9b-deduped\n",
      "edited model exists: /pscratch/sd/m/mansisak/memorization/model_ckpts/72000/EleutherAI_edit/random/mem/0.05/20/0.1/0.9/0.0005/pythia-6.9b-deduped\n",
      "edited model exists: /pscratch/sd/m/mansisak/memorization/model_ckpts/72000/EleutherAI_edit/random/mem/0.1/20/0.1/0.9/0.0005/pythia-6.9b-deduped\n",
      "edited model exists: /pscratch/sd/m/mansisak/memorization/model_ckpts/72000/EleutherAI_edit/random/mem/0.25/20/0.1/0.9/0.0005/pythia-6.9b-deduped\n",
      "edited model exists: /pscratch/sd/m/mansisak/memorization/model_ckpts/72000/EleutherAI_edit/random/mem/0.3/20/0.1/0.9/0.0005/pythia-6.9b-deduped\n",
      "edited model exists: /pscratch/sd/m/mansisak/memorization/model_ckpts/72000/EleutherAI_edit/random_greedy/mem/1e-05/20/0.1/0.9/0.0005/pythia-6.9b-deduped\n",
      "edited model exists: /pscratch/sd/m/mansisak/memorization/model_ckpts/72000/EleutherAI_edit/random_greedy/mem/0.0001/20/0.1/0.9/0.0005/pythia-6.9b-deduped\n",
      "edited model doesn't exist yet:  /pscratch/sd/m/mansisak/memorization/model_ckpts/72000/EleutherAI_edit/random_greedy/mem/0.001/20/0.1/0.9/0.0005/pythia-6.9b-deduped\n",
      "edited model doesn't exist yet:  /pscratch/sd/m/mansisak/memorization/model_ckpts/72000/EleutherAI_edit/random_greedy/mem/0.01/20/0.1/0.9/0.0005/pythia-6.9b-deduped\n",
      "edited model doesn't exist yet:  /pscratch/sd/m/mansisak/memorization/model_ckpts/72000/EleutherAI_edit/random_greedy/mem/0.05/20/0.1/0.9/0.0005/pythia-6.9b-deduped\n",
      "edited model doesn't exist yet:  /pscratch/sd/m/mansisak/memorization/model_ckpts/72000/EleutherAI_edit/random_greedy/mem/0.1/20/0.1/0.9/0.0005/pythia-6.9b-deduped\n",
      "edited model doesn't exist yet:  /pscratch/sd/m/mansisak/memorization/model_ckpts/72000/EleutherAI_edit/random_greedy/mem/0.25/20/0.1/0.9/0.0005/pythia-6.9b-deduped\n",
      "edited model doesn't exist yet:  /pscratch/sd/m/mansisak/memorization/model_ckpts/72000/EleutherAI_edit/random_greedy/mem/0.3/20/0.1/0.9/0.0005/pythia-6.9b-deduped\n",
      "edited model exists: /pscratch/sd/m/mansisak/memorization/model_ckpts/72000/EleutherAI_edit/greedy/mem/1e-05/pythia-6.9b-deduped\n",
      "edited model exists: /pscratch/sd/m/mansisak/memorization/model_ckpts/108000/EleutherAI_edit/act/mem/0.001/pythia-6.9b-deduped\n",
      "edited model exists: /pscratch/sd/m/mansisak/memorization/model_ckpts/108000/EleutherAI_edit/act/mem/0.01/pythia-6.9b-deduped\n",
      "edited model exists: /pscratch/sd/m/mansisak/memorization/model_ckpts/108000/EleutherAI_edit/act/mem/0.05/pythia-6.9b-deduped\n",
      "edited model exists: /pscratch/sd/m/mansisak/memorization/model_ckpts/108000/EleutherAI_edit/hc/mem/0.001/20/1000/0.1/0.1/pythia-6.9b-deduped\n",
      "edited model exists: /pscratch/sd/m/mansisak/memorization/model_ckpts/108000/EleutherAI_edit/hc/mem/0.01/20/1000/0.1/0.1/pythia-6.9b-deduped\n",
      "edited model exists: /pscratch/sd/m/mansisak/memorization/model_ckpts/108000/EleutherAI_edit/hc/mem/0.05/20/1000/0.1/0.1/pythia-6.9b-deduped\n",
      "edited model exists: /pscratch/sd/m/mansisak/memorization/model_ckpts/108000/EleutherAI_edit/slim/mem/0.001/20/1000/0.1/0.1/pythia-6.9b-deduped\n",
      "edited model exists: /pscratch/sd/m/mansisak/memorization/model_ckpts/108000/EleutherAI_edit/slim/mem/0.01/20/1000/0.1/0.1/pythia-6.9b-deduped\n",
      "edited model exists: /pscratch/sd/m/mansisak/memorization/model_ckpts/108000/EleutherAI_edit/slim/mem/0.05/20/1000/0.1/0.1/pythia-6.9b-deduped\n",
      "edited model exists: /pscratch/sd/m/mansisak/memorization/model_ckpts/108000/EleutherAI_edit/durable/mem/1e-05/pythia-6.9b-deduped\n",
      "edited model exists: /pscratch/sd/m/mansisak/memorization/model_ckpts/108000/EleutherAI_edit/durable/mem/0.0001/pythia-6.9b-deduped\n",
      "edited model exists: /pscratch/sd/m/mansisak/memorization/model_ckpts/108000/EleutherAI_edit/durable/mem/0.001/pythia-6.9b-deduped\n",
      "edited model exists: /pscratch/sd/m/mansisak/memorization/model_ckpts/108000/EleutherAI_edit/durable/mem/0.01/pythia-6.9b-deduped\n",
      "edited model exists: /pscratch/sd/m/mansisak/memorization/model_ckpts/108000/EleutherAI_edit/durable/mem/0.05/pythia-6.9b-deduped\n",
      "edited model exists: /pscratch/sd/m/mansisak/memorization/model_ckpts/108000/EleutherAI_edit/durable_agg/mem/1e-05/pythia-6.9b-deduped\n",
      "edited model exists: /pscratch/sd/m/mansisak/memorization/model_ckpts/108000/EleutherAI_edit/durable_agg/mem/0.0001/pythia-6.9b-deduped\n",
      "edited model exists: /pscratch/sd/m/mansisak/memorization/model_ckpts/108000/EleutherAI_edit/durable_agg/mem/0.001/pythia-6.9b-deduped\n",
      "edited model exists: /pscratch/sd/m/mansisak/memorization/model_ckpts/108000/EleutherAI_edit/durable_agg/mem/0.01/pythia-6.9b-deduped\n",
      "edited model exists: /pscratch/sd/m/mansisak/memorization/model_ckpts/108000/EleutherAI_edit/durable_agg/mem/0.05/pythia-6.9b-deduped\n",
      "edited model exists: /pscratch/sd/m/mansisak/memorization/model_ckpts/108000/EleutherAI_edit/random/mem/1e-05/20/0.1/0.9/0.0005/pythia-6.9b-deduped\n",
      "edited model exists: /pscratch/sd/m/mansisak/memorization/model_ckpts/108000/EleutherAI_edit/random/mem/0.0001/20/0.1/0.9/0.0005/pythia-6.9b-deduped\n",
      "edited model exists: /pscratch/sd/m/mansisak/memorization/model_ckpts/108000/EleutherAI_edit/random/mem/0.001/20/0.1/0.9/0.0005/pythia-6.9b-deduped\n",
      "edited model exists: /pscratch/sd/m/mansisak/memorization/model_ckpts/108000/EleutherAI_edit/random/mem/0.01/20/0.1/0.9/0.0005/pythia-6.9b-deduped\n",
      "edited model exists: /pscratch/sd/m/mansisak/memorization/model_ckpts/108000/EleutherAI_edit/random/mem/0.05/20/0.1/0.9/0.0005/pythia-6.9b-deduped\n",
      "edited model exists: /pscratch/sd/m/mansisak/memorization/model_ckpts/108000/EleutherAI_edit/random/mem/0.1/20/0.1/0.9/0.0005/pythia-6.9b-deduped\n",
      "edited model exists: /pscratch/sd/m/mansisak/memorization/model_ckpts/108000/EleutherAI_edit/random/mem/0.25/20/0.1/0.9/0.0005/pythia-6.9b-deduped\n",
      "edited model exists: /pscratch/sd/m/mansisak/memorization/model_ckpts/108000/EleutherAI_edit/random/mem/0.3/20/0.1/0.9/0.0005/pythia-6.9b-deduped\n",
      "edited model exists: /pscratch/sd/m/mansisak/memorization/model_ckpts/108000/EleutherAI_edit/random_greedy/mem/1e-05/20/0.1/0.9/0.0005/pythia-6.9b-deduped\n",
      "edited model doesn't exist yet:  /pscratch/sd/m/mansisak/memorization/model_ckpts/108000/EleutherAI_edit/random_greedy/mem/0.0001/20/0.1/0.9/0.0005/pythia-6.9b-deduped\n",
      "edited model doesn't exist yet:  /pscratch/sd/m/mansisak/memorization/model_ckpts/108000/EleutherAI_edit/random_greedy/mem/0.001/20/0.1/0.9/0.0005/pythia-6.9b-deduped\n",
      "edited model doesn't exist yet:  /pscratch/sd/m/mansisak/memorization/model_ckpts/108000/EleutherAI_edit/random_greedy/mem/0.01/20/0.1/0.9/0.0005/pythia-6.9b-deduped\n",
      "edited model doesn't exist yet:  /pscratch/sd/m/mansisak/memorization/model_ckpts/108000/EleutherAI_edit/random_greedy/mem/0.05/20/0.1/0.9/0.0005/pythia-6.9b-deduped\n",
      "edited model doesn't exist yet:  /pscratch/sd/m/mansisak/memorization/model_ckpts/108000/EleutherAI_edit/random_greedy/mem/0.1/20/0.1/0.9/0.0005/pythia-6.9b-deduped\n",
      "edited model doesn't exist yet:  /pscratch/sd/m/mansisak/memorization/model_ckpts/108000/EleutherAI_edit/random_greedy/mem/0.25/20/0.1/0.9/0.0005/pythia-6.9b-deduped\n",
      "edited model doesn't exist yet:  /pscratch/sd/m/mansisak/memorization/model_ckpts/108000/EleutherAI_edit/random_greedy/mem/0.3/20/0.1/0.9/0.0005/pythia-6.9b-deduped\n",
      "edited model doesn't exist yet:  /pscratch/sd/m/mansisak/memorization/model_ckpts/108000/EleutherAI_edit/greedy/mem/1e-05/pythia-6.9b-deduped\n",
      "edited model exists: /pscratch/sd/m/mansisak/memorization/model_ckpts/143000/EleutherAI_edit/act/mem/0.001/pythia-6.9b-deduped\n",
      "edited model exists: /pscratch/sd/m/mansisak/memorization/model_ckpts/143000/EleutherAI_edit/act/mem/0.01/pythia-6.9b-deduped\n",
      "edited model exists: /pscratch/sd/m/mansisak/memorization/model_ckpts/143000/EleutherAI_edit/act/mem/0.05/pythia-6.9b-deduped\n",
      "edited model exists: /pscratch/sd/m/mansisak/memorization/model_ckpts/143000/EleutherAI_edit/hc/mem/0.001/20/1000/0.1/0.1/pythia-6.9b-deduped\n",
      "edited model exists: /pscratch/sd/m/mansisak/memorization/model_ckpts/143000/EleutherAI_edit/hc/mem/0.01/20/1000/0.1/0.1/pythia-6.9b-deduped\n",
      "edited model exists: /pscratch/sd/m/mansisak/memorization/model_ckpts/143000/EleutherAI_edit/hc/mem/0.05/20/1000/0.1/0.1/pythia-6.9b-deduped\n",
      "edited model exists: /pscratch/sd/m/mansisak/memorization/model_ckpts/143000/EleutherAI_edit/slim/mem/0.001/20/1000/0.1/0.1/pythia-6.9b-deduped\n",
      "edited model exists: /pscratch/sd/m/mansisak/memorization/model_ckpts/143000/EleutherAI_edit/slim/mem/0.01/20/1000/0.1/0.1/pythia-6.9b-deduped\n",
      "edited model exists: /pscratch/sd/m/mansisak/memorization/model_ckpts/143000/EleutherAI_edit/slim/mem/0.05/20/1000/0.1/0.1/pythia-6.9b-deduped\n",
      "edited model exists: /pscratch/sd/m/mansisak/memorization/model_ckpts/143000/EleutherAI_edit/durable/mem/1e-05/pythia-6.9b-deduped\n",
      "edited model exists: /pscratch/sd/m/mansisak/memorization/model_ckpts/143000/EleutherAI_edit/durable/mem/0.0001/pythia-6.9b-deduped\n",
      "edited model exists: /pscratch/sd/m/mansisak/memorization/model_ckpts/143000/EleutherAI_edit/durable/mem/0.001/pythia-6.9b-deduped\n",
      "edited model exists: /pscratch/sd/m/mansisak/memorization/model_ckpts/143000/EleutherAI_edit/durable/mem/0.01/pythia-6.9b-deduped\n",
      "edited model exists: /pscratch/sd/m/mansisak/memorization/model_ckpts/143000/EleutherAI_edit/durable/mem/0.05/pythia-6.9b-deduped\n",
      "edited model exists: /pscratch/sd/m/mansisak/memorization/model_ckpts/143000/EleutherAI_edit/durable_agg/mem/1e-05/pythia-6.9b-deduped\n",
      "edited model exists: /pscratch/sd/m/mansisak/memorization/model_ckpts/143000/EleutherAI_edit/durable_agg/mem/0.0001/pythia-6.9b-deduped\n",
      "edited model exists: /pscratch/sd/m/mansisak/memorization/model_ckpts/143000/EleutherAI_edit/durable_agg/mem/0.001/pythia-6.9b-deduped\n",
      "edited model exists: /pscratch/sd/m/mansisak/memorization/model_ckpts/143000/EleutherAI_edit/durable_agg/mem/0.01/pythia-6.9b-deduped\n",
      "edited model exists: /pscratch/sd/m/mansisak/memorization/model_ckpts/143000/EleutherAI_edit/durable_agg/mem/0.05/pythia-6.9b-deduped\n",
      "edited model exists: /pscratch/sd/m/mansisak/memorization/model_ckpts/143000/EleutherAI_edit/random/mem/1e-05/20/0.1/0.9/0.0005/pythia-6.9b-deduped\n",
      "edited model exists: /pscratch/sd/m/mansisak/memorization/model_ckpts/143000/EleutherAI_edit/random/mem/0.0001/20/0.1/0.9/0.0005/pythia-6.9b-deduped\n",
      "edited model exists: /pscratch/sd/m/mansisak/memorization/model_ckpts/143000/EleutherAI_edit/random/mem/0.001/20/0.1/0.9/0.0005/pythia-6.9b-deduped\n",
      "edited model exists: /pscratch/sd/m/mansisak/memorization/model_ckpts/143000/EleutherAI_edit/random/mem/0.01/20/0.1/0.9/0.0005/pythia-6.9b-deduped\n",
      "edited model exists: /pscratch/sd/m/mansisak/memorization/model_ckpts/143000/EleutherAI_edit/random/mem/0.05/20/0.1/0.9/0.0005/pythia-6.9b-deduped\n",
      "edited model exists: /pscratch/sd/m/mansisak/memorization/model_ckpts/143000/EleutherAI_edit/random/mem/0.1/20/0.1/0.9/0.0005/pythia-6.9b-deduped\n",
      "edited model exists: /pscratch/sd/m/mansisak/memorization/model_ckpts/143000/EleutherAI_edit/random/mem/0.25/20/0.1/0.9/0.0005/pythia-6.9b-deduped\n",
      "edited model exists: /pscratch/sd/m/mansisak/memorization/model_ckpts/143000/EleutherAI_edit/random/mem/0.3/20/0.1/0.9/0.0005/pythia-6.9b-deduped\n",
      "edited model exists: /pscratch/sd/m/mansisak/memorization/model_ckpts/143000/EleutherAI_edit/random_greedy/mem/1e-05/20/0.1/0.9/0.0005/pythia-6.9b-deduped\n",
      "edited model doesn't exist yet:  /pscratch/sd/m/mansisak/memorization/model_ckpts/143000/EleutherAI_edit/random_greedy/mem/0.0001/20/0.1/0.9/0.0005/pythia-6.9b-deduped\n",
      "edited model doesn't exist yet:  /pscratch/sd/m/mansisak/memorization/model_ckpts/143000/EleutherAI_edit/random_greedy/mem/0.001/20/0.1/0.9/0.0005/pythia-6.9b-deduped\n",
      "edited model doesn't exist yet:  /pscratch/sd/m/mansisak/memorization/model_ckpts/143000/EleutherAI_edit/random_greedy/mem/0.01/20/0.1/0.9/0.0005/pythia-6.9b-deduped\n",
      "edited model doesn't exist yet:  /pscratch/sd/m/mansisak/memorization/model_ckpts/143000/EleutherAI_edit/random_greedy/mem/0.05/20/0.1/0.9/0.0005/pythia-6.9b-deduped\n",
      "edited model doesn't exist yet:  /pscratch/sd/m/mansisak/memorization/model_ckpts/143000/EleutherAI_edit/random_greedy/mem/0.1/20/0.1/0.9/0.0005/pythia-6.9b-deduped\n",
      "edited model doesn't exist yet:  /pscratch/sd/m/mansisak/memorization/model_ckpts/143000/EleutherAI_edit/random_greedy/mem/0.25/20/0.1/0.9/0.0005/pythia-6.9b-deduped\n",
      "edited model doesn't exist yet:  /pscratch/sd/m/mansisak/memorization/model_ckpts/143000/EleutherAI_edit/random_greedy/mem/0.3/20/0.1/0.9/0.0005/pythia-6.9b-deduped\n",
      "edited model doesn't exist yet:  /pscratch/sd/m/mansisak/memorization/model_ckpts/143000/EleutherAI_edit/greedy/mem/1e-05/pythia-6.9b-deduped\n",
      "edited model exists: /pscratch/sd/m/mansisak/memorization/model_ckpts/36000/EleutherAI_edit/act/mem/0.001/pythia-2.8b-deduped\n",
      "edited model exists: /pscratch/sd/m/mansisak/memorization/model_ckpts/36000/EleutherAI_edit/act/mem/0.01/pythia-2.8b-deduped\n",
      "edited model exists: /pscratch/sd/m/mansisak/memorization/model_ckpts/36000/EleutherAI_edit/act/mem/0.05/pythia-2.8b-deduped\n",
      "edited model exists: /pscratch/sd/m/mansisak/memorization/model_ckpts/36000/EleutherAI_edit/hc/mem/0.001/20/1000/0.1/0.1/pythia-2.8b-deduped\n",
      "edited model exists: /pscratch/sd/m/mansisak/memorization/model_ckpts/36000/EleutherAI_edit/hc/mem/0.01/20/1000/0.1/0.1/pythia-2.8b-deduped\n",
      "edited model exists: /pscratch/sd/m/mansisak/memorization/model_ckpts/36000/EleutherAI_edit/hc/mem/0.05/20/1000/0.1/0.1/pythia-2.8b-deduped\n",
      "edited model exists: /pscratch/sd/m/mansisak/memorization/model_ckpts/36000/EleutherAI_edit/slim/mem/0.001/20/1000/0.1/0.1/pythia-2.8b-deduped\n",
      "edited model exists: /pscratch/sd/m/mansisak/memorization/model_ckpts/36000/EleutherAI_edit/slim/mem/0.01/20/1000/0.1/0.1/pythia-2.8b-deduped\n",
      "edited model exists: /pscratch/sd/m/mansisak/memorization/model_ckpts/36000/EleutherAI_edit/slim/mem/0.05/20/1000/0.1/0.1/pythia-2.8b-deduped\n",
      "edited model exists: /pscratch/sd/m/mansisak/memorization/model_ckpts/36000/EleutherAI_edit/durable/mem/1e-05/pythia-2.8b-deduped\n",
      "edited model exists: /pscratch/sd/m/mansisak/memorization/model_ckpts/36000/EleutherAI_edit/durable/mem/0.0001/pythia-2.8b-deduped\n",
      "edited model exists: /pscratch/sd/m/mansisak/memorization/model_ckpts/36000/EleutherAI_edit/durable/mem/0.001/pythia-2.8b-deduped\n",
      "edited model exists: /pscratch/sd/m/mansisak/memorization/model_ckpts/36000/EleutherAI_edit/durable/mem/0.01/pythia-2.8b-deduped\n",
      "edited model exists: /pscratch/sd/m/mansisak/memorization/model_ckpts/36000/EleutherAI_edit/durable/mem/0.05/pythia-2.8b-deduped\n",
      "edited model exists: /pscratch/sd/m/mansisak/memorization/model_ckpts/36000/EleutherAI_edit/durable_agg/mem/1e-05/pythia-2.8b-deduped\n",
      "edited model exists: /pscratch/sd/m/mansisak/memorization/model_ckpts/36000/EleutherAI_edit/durable_agg/mem/0.0001/pythia-2.8b-deduped\n",
      "edited model exists: /pscratch/sd/m/mansisak/memorization/model_ckpts/36000/EleutherAI_edit/durable_agg/mem/0.001/pythia-2.8b-deduped\n",
      "edited model exists: /pscratch/sd/m/mansisak/memorization/model_ckpts/36000/EleutherAI_edit/durable_agg/mem/0.01/pythia-2.8b-deduped\n",
      "edited model exists: /pscratch/sd/m/mansisak/memorization/model_ckpts/36000/EleutherAI_edit/durable_agg/mem/0.05/pythia-2.8b-deduped\n",
      "edited model exists: /pscratch/sd/m/mansisak/memorization/model_ckpts/36000/EleutherAI_edit/random/mem/1e-05/20/0.1/0.9/0.0005/pythia-2.8b-deduped\n",
      "edited model exists: /pscratch/sd/m/mansisak/memorization/model_ckpts/36000/EleutherAI_edit/random/mem/0.0001/20/0.1/0.9/0.0005/pythia-2.8b-deduped\n",
      "edited model exists: /pscratch/sd/m/mansisak/memorization/model_ckpts/36000/EleutherAI_edit/random/mem/0.001/20/0.1/0.9/0.0005/pythia-2.8b-deduped\n",
      "edited model exists: /pscratch/sd/m/mansisak/memorization/model_ckpts/36000/EleutherAI_edit/random/mem/0.01/20/0.1/0.9/0.0005/pythia-2.8b-deduped\n",
      "edited model exists: /pscratch/sd/m/mansisak/memorization/model_ckpts/36000/EleutherAI_edit/random/mem/0.05/20/0.1/0.9/0.0005/pythia-2.8b-deduped\n",
      "edited model exists: /pscratch/sd/m/mansisak/memorization/model_ckpts/36000/EleutherAI_edit/random/mem/0.1/20/0.1/0.9/0.0005/pythia-2.8b-deduped\n",
      "edited model exists: /pscratch/sd/m/mansisak/memorization/model_ckpts/36000/EleutherAI_edit/random/mem/0.25/20/0.1/0.9/0.0005/pythia-2.8b-deduped\n",
      "edited model exists: /pscratch/sd/m/mansisak/memorization/model_ckpts/36000/EleutherAI_edit/random/mem/0.3/20/0.1/0.9/0.0005/pythia-2.8b-deduped\n",
      "edited model exists: /pscratch/sd/m/mansisak/memorization/model_ckpts/36000/EleutherAI_edit/random_greedy/mem/1e-05/20/0.1/0.9/0.0005/pythia-2.8b-deduped\n",
      "edited model exists: /pscratch/sd/m/mansisak/memorization/model_ckpts/36000/EleutherAI_edit/random_greedy/mem/0.0001/20/0.1/0.9/0.0005/pythia-2.8b-deduped\n",
      "edited model exists: /pscratch/sd/m/mansisak/memorization/model_ckpts/36000/EleutherAI_edit/random_greedy/mem/0.001/20/0.1/0.9/0.0005/pythia-2.8b-deduped\n",
      "edited model exists: /pscratch/sd/m/mansisak/memorization/model_ckpts/36000/EleutherAI_edit/random_greedy/mem/0.01/20/0.1/0.9/0.0005/pythia-2.8b-deduped\n",
      "edited model exists: /pscratch/sd/m/mansisak/memorization/model_ckpts/36000/EleutherAI_edit/random_greedy/mem/0.05/20/0.1/0.9/0.0005/pythia-2.8b-deduped\n",
      "edited model exists: /pscratch/sd/m/mansisak/memorization/model_ckpts/36000/EleutherAI_edit/random_greedy/mem/0.1/20/0.1/0.9/0.0005/pythia-2.8b-deduped\n",
      "edited model doesn't exist yet:  /pscratch/sd/m/mansisak/memorization/model_ckpts/36000/EleutherAI_edit/random_greedy/mem/0.25/20/0.1/0.9/0.0005/pythia-2.8b-deduped\n",
      "edited model doesn't exist yet:  /pscratch/sd/m/mansisak/memorization/model_ckpts/36000/EleutherAI_edit/random_greedy/mem/0.3/20/0.1/0.9/0.0005/pythia-2.8b-deduped\n",
      "edited model exists: /pscratch/sd/m/mansisak/memorization/model_ckpts/36000/EleutherAI_edit/greedy/mem/1e-05/pythia-2.8b-deduped\n",
      "edited model exists: /pscratch/sd/m/mansisak/memorization/model_ckpts/72000/EleutherAI_edit/act/mem/0.001/pythia-2.8b-deduped\n",
      "edited model exists: /pscratch/sd/m/mansisak/memorization/model_ckpts/72000/EleutherAI_edit/act/mem/0.01/pythia-2.8b-deduped\n",
      "edited model exists: /pscratch/sd/m/mansisak/memorization/model_ckpts/72000/EleutherAI_edit/act/mem/0.05/pythia-2.8b-deduped\n",
      "edited model exists: /pscratch/sd/m/mansisak/memorization/model_ckpts/72000/EleutherAI_edit/hc/mem/0.001/20/1000/0.1/0.1/pythia-2.8b-deduped\n",
      "edited model exists: /pscratch/sd/m/mansisak/memorization/model_ckpts/72000/EleutherAI_edit/hc/mem/0.01/20/1000/0.1/0.1/pythia-2.8b-deduped\n",
      "edited model exists: /pscratch/sd/m/mansisak/memorization/model_ckpts/72000/EleutherAI_edit/hc/mem/0.05/20/1000/0.1/0.1/pythia-2.8b-deduped\n",
      "edited model exists: /pscratch/sd/m/mansisak/memorization/model_ckpts/72000/EleutherAI_edit/slim/mem/0.001/20/1000/0.1/0.1/pythia-2.8b-deduped\n",
      "edited model exists: /pscratch/sd/m/mansisak/memorization/model_ckpts/72000/EleutherAI_edit/slim/mem/0.01/20/1000/0.1/0.1/pythia-2.8b-deduped\n",
      "edited model exists: /pscratch/sd/m/mansisak/memorization/model_ckpts/72000/EleutherAI_edit/slim/mem/0.05/20/1000/0.1/0.1/pythia-2.8b-deduped\n",
      "edited model exists: /pscratch/sd/m/mansisak/memorization/model_ckpts/72000/EleutherAI_edit/durable/mem/1e-05/pythia-2.8b-deduped\n",
      "edited model exists: /pscratch/sd/m/mansisak/memorization/model_ckpts/72000/EleutherAI_edit/durable/mem/0.0001/pythia-2.8b-deduped\n",
      "edited model exists: /pscratch/sd/m/mansisak/memorization/model_ckpts/72000/EleutherAI_edit/durable/mem/0.001/pythia-2.8b-deduped\n",
      "edited model exists: /pscratch/sd/m/mansisak/memorization/model_ckpts/72000/EleutherAI_edit/durable/mem/0.01/pythia-2.8b-deduped\n",
      "edited model exists: /pscratch/sd/m/mansisak/memorization/model_ckpts/72000/EleutherAI_edit/durable/mem/0.05/pythia-2.8b-deduped\n",
      "edited model exists: /pscratch/sd/m/mansisak/memorization/model_ckpts/72000/EleutherAI_edit/durable_agg/mem/1e-05/pythia-2.8b-deduped\n",
      "edited model exists: /pscratch/sd/m/mansisak/memorization/model_ckpts/72000/EleutherAI_edit/durable_agg/mem/0.0001/pythia-2.8b-deduped\n",
      "edited model exists: /pscratch/sd/m/mansisak/memorization/model_ckpts/72000/EleutherAI_edit/durable_agg/mem/0.001/pythia-2.8b-deduped\n",
      "edited model exists: /pscratch/sd/m/mansisak/memorization/model_ckpts/72000/EleutherAI_edit/durable_agg/mem/0.01/pythia-2.8b-deduped\n",
      "edited model exists: /pscratch/sd/m/mansisak/memorization/model_ckpts/72000/EleutherAI_edit/durable_agg/mem/0.05/pythia-2.8b-deduped\n",
      "edited model exists: /pscratch/sd/m/mansisak/memorization/model_ckpts/72000/EleutherAI_edit/random/mem/1e-05/20/0.1/0.9/0.0005/pythia-2.8b-deduped\n",
      "edited model exists: /pscratch/sd/m/mansisak/memorization/model_ckpts/72000/EleutherAI_edit/random/mem/0.0001/20/0.1/0.9/0.0005/pythia-2.8b-deduped\n",
      "edited model exists: /pscratch/sd/m/mansisak/memorization/model_ckpts/72000/EleutherAI_edit/random/mem/0.001/20/0.1/0.9/0.0005/pythia-2.8b-deduped\n",
      "edited model exists: /pscratch/sd/m/mansisak/memorization/model_ckpts/72000/EleutherAI_edit/random/mem/0.01/20/0.1/0.9/0.0005/pythia-2.8b-deduped\n",
      "edited model exists: /pscratch/sd/m/mansisak/memorization/model_ckpts/72000/EleutherAI_edit/random/mem/0.05/20/0.1/0.9/0.0005/pythia-2.8b-deduped\n",
      "edited model exists: /pscratch/sd/m/mansisak/memorization/model_ckpts/72000/EleutherAI_edit/random/mem/0.1/20/0.1/0.9/0.0005/pythia-2.8b-deduped\n",
      "edited model exists: /pscratch/sd/m/mansisak/memorization/model_ckpts/72000/EleutherAI_edit/random/mem/0.25/20/0.1/0.9/0.0005/pythia-2.8b-deduped\n",
      "edited model exists: /pscratch/sd/m/mansisak/memorization/model_ckpts/72000/EleutherAI_edit/random/mem/0.3/20/0.1/0.9/0.0005/pythia-2.8b-deduped\n",
      "edited model exists: /pscratch/sd/m/mansisak/memorization/model_ckpts/72000/EleutherAI_edit/random_greedy/mem/1e-05/20/0.1/0.9/0.0005/pythia-2.8b-deduped\n",
      "edited model exists: /pscratch/sd/m/mansisak/memorization/model_ckpts/72000/EleutherAI_edit/random_greedy/mem/0.0001/20/0.1/0.9/0.0005/pythia-2.8b-deduped\n",
      "edited model exists: /pscratch/sd/m/mansisak/memorization/model_ckpts/72000/EleutherAI_edit/random_greedy/mem/0.001/20/0.1/0.9/0.0005/pythia-2.8b-deduped\n",
      "edited model exists: /pscratch/sd/m/mansisak/memorization/model_ckpts/72000/EleutherAI_edit/random_greedy/mem/0.01/20/0.1/0.9/0.0005/pythia-2.8b-deduped\n",
      "edited model exists: /pscratch/sd/m/mansisak/memorization/model_ckpts/72000/EleutherAI_edit/random_greedy/mem/0.05/20/0.1/0.9/0.0005/pythia-2.8b-deduped\n",
      "edited model exists: /pscratch/sd/m/mansisak/memorization/model_ckpts/72000/EleutherAI_edit/random_greedy/mem/0.1/20/0.1/0.9/0.0005/pythia-2.8b-deduped\n",
      "edited model doesn't exist yet:  /pscratch/sd/m/mansisak/memorization/model_ckpts/72000/EleutherAI_edit/random_greedy/mem/0.25/20/0.1/0.9/0.0005/pythia-2.8b-deduped\n",
      "edited model doesn't exist yet:  /pscratch/sd/m/mansisak/memorization/model_ckpts/72000/EleutherAI_edit/random_greedy/mem/0.3/20/0.1/0.9/0.0005/pythia-2.8b-deduped\n",
      "edited model exists: /pscratch/sd/m/mansisak/memorization/model_ckpts/72000/EleutherAI_edit/greedy/mem/1e-05/pythia-2.8b-deduped\n",
      "edited model exists: /pscratch/sd/m/mansisak/memorization/model_ckpts/108000/EleutherAI_edit/act/mem/0.001/pythia-2.8b-deduped\n",
      "edited model exists: /pscratch/sd/m/mansisak/memorization/model_ckpts/108000/EleutherAI_edit/act/mem/0.01/pythia-2.8b-deduped\n",
      "edited model exists: /pscratch/sd/m/mansisak/memorization/model_ckpts/108000/EleutherAI_edit/act/mem/0.05/pythia-2.8b-deduped\n",
      "edited model exists: /pscratch/sd/m/mansisak/memorization/model_ckpts/108000/EleutherAI_edit/hc/mem/0.001/20/1000/0.1/0.1/pythia-2.8b-deduped\n",
      "edited model exists: /pscratch/sd/m/mansisak/memorization/model_ckpts/108000/EleutherAI_edit/hc/mem/0.01/20/1000/0.1/0.1/pythia-2.8b-deduped\n",
      "edited model exists: /pscratch/sd/m/mansisak/memorization/model_ckpts/108000/EleutherAI_edit/hc/mem/0.05/20/1000/0.1/0.1/pythia-2.8b-deduped\n",
      "edited model exists: /pscratch/sd/m/mansisak/memorization/model_ckpts/108000/EleutherAI_edit/slim/mem/0.001/20/1000/0.1/0.1/pythia-2.8b-deduped\n",
      "edited model exists: /pscratch/sd/m/mansisak/memorization/model_ckpts/108000/EleutherAI_edit/slim/mem/0.01/20/1000/0.1/0.1/pythia-2.8b-deduped\n",
      "edited model exists: /pscratch/sd/m/mansisak/memorization/model_ckpts/108000/EleutherAI_edit/slim/mem/0.05/20/1000/0.1/0.1/pythia-2.8b-deduped\n",
      "edited model exists: /pscratch/sd/m/mansisak/memorization/model_ckpts/108000/EleutherAI_edit/durable/mem/1e-05/pythia-2.8b-deduped\n",
      "edited model exists: /pscratch/sd/m/mansisak/memorization/model_ckpts/108000/EleutherAI_edit/durable/mem/0.0001/pythia-2.8b-deduped\n",
      "edited model exists: /pscratch/sd/m/mansisak/memorization/model_ckpts/108000/EleutherAI_edit/durable/mem/0.001/pythia-2.8b-deduped\n",
      "edited model exists: /pscratch/sd/m/mansisak/memorization/model_ckpts/108000/EleutherAI_edit/durable/mem/0.01/pythia-2.8b-deduped\n",
      "edited model exists: /pscratch/sd/m/mansisak/memorization/model_ckpts/108000/EleutherAI_edit/durable/mem/0.05/pythia-2.8b-deduped\n",
      "edited model exists: /pscratch/sd/m/mansisak/memorization/model_ckpts/108000/EleutherAI_edit/durable_agg/mem/1e-05/pythia-2.8b-deduped\n",
      "edited model exists: /pscratch/sd/m/mansisak/memorization/model_ckpts/108000/EleutherAI_edit/durable_agg/mem/0.0001/pythia-2.8b-deduped\n",
      "edited model exists: /pscratch/sd/m/mansisak/memorization/model_ckpts/108000/EleutherAI_edit/durable_agg/mem/0.001/pythia-2.8b-deduped\n",
      "edited model exists: /pscratch/sd/m/mansisak/memorization/model_ckpts/108000/EleutherAI_edit/durable_agg/mem/0.01/pythia-2.8b-deduped\n",
      "edited model exists: /pscratch/sd/m/mansisak/memorization/model_ckpts/108000/EleutherAI_edit/durable_agg/mem/0.05/pythia-2.8b-deduped\n",
      "edited model exists: /pscratch/sd/m/mansisak/memorization/model_ckpts/108000/EleutherAI_edit/random/mem/1e-05/20/0.1/0.9/0.0005/pythia-2.8b-deduped\n",
      "edited model exists: /pscratch/sd/m/mansisak/memorization/model_ckpts/108000/EleutherAI_edit/random/mem/0.0001/20/0.1/0.9/0.0005/pythia-2.8b-deduped\n",
      "edited model exists: /pscratch/sd/m/mansisak/memorization/model_ckpts/108000/EleutherAI_edit/random/mem/0.001/20/0.1/0.9/0.0005/pythia-2.8b-deduped\n",
      "edited model exists: /pscratch/sd/m/mansisak/memorization/model_ckpts/108000/EleutherAI_edit/random/mem/0.01/20/0.1/0.9/0.0005/pythia-2.8b-deduped\n",
      "edited model exists: /pscratch/sd/m/mansisak/memorization/model_ckpts/108000/EleutherAI_edit/random/mem/0.05/20/0.1/0.9/0.0005/pythia-2.8b-deduped\n",
      "edited model exists: /pscratch/sd/m/mansisak/memorization/model_ckpts/108000/EleutherAI_edit/random/mem/0.1/20/0.1/0.9/0.0005/pythia-2.8b-deduped\n",
      "edited model exists: /pscratch/sd/m/mansisak/memorization/model_ckpts/108000/EleutherAI_edit/random/mem/0.25/20/0.1/0.9/0.0005/pythia-2.8b-deduped\n",
      "edited model exists: /pscratch/sd/m/mansisak/memorization/model_ckpts/108000/EleutherAI_edit/random/mem/0.3/20/0.1/0.9/0.0005/pythia-2.8b-deduped\n",
      "edited model exists: /pscratch/sd/m/mansisak/memorization/model_ckpts/108000/EleutherAI_edit/random_greedy/mem/1e-05/20/0.1/0.9/0.0005/pythia-2.8b-deduped\n",
      "edited model exists: /pscratch/sd/m/mansisak/memorization/model_ckpts/108000/EleutherAI_edit/random_greedy/mem/0.0001/20/0.1/0.9/0.0005/pythia-2.8b-deduped\n",
      "edited model exists: /pscratch/sd/m/mansisak/memorization/model_ckpts/108000/EleutherAI_edit/random_greedy/mem/0.001/20/0.1/0.9/0.0005/pythia-2.8b-deduped\n",
      "edited model exists: /pscratch/sd/m/mansisak/memorization/model_ckpts/108000/EleutherAI_edit/random_greedy/mem/0.01/20/0.1/0.9/0.0005/pythia-2.8b-deduped\n",
      "edited model exists: /pscratch/sd/m/mansisak/memorization/model_ckpts/108000/EleutherAI_edit/random_greedy/mem/0.05/20/0.1/0.9/0.0005/pythia-2.8b-deduped\n",
      "edited model exists: /pscratch/sd/m/mansisak/memorization/model_ckpts/108000/EleutherAI_edit/random_greedy/mem/0.1/20/0.1/0.9/0.0005/pythia-2.8b-deduped\n",
      "edited model doesn't exist yet:  /pscratch/sd/m/mansisak/memorization/model_ckpts/108000/EleutherAI_edit/random_greedy/mem/0.25/20/0.1/0.9/0.0005/pythia-2.8b-deduped\n",
      "edited model doesn't exist yet:  /pscratch/sd/m/mansisak/memorization/model_ckpts/108000/EleutherAI_edit/random_greedy/mem/0.3/20/0.1/0.9/0.0005/pythia-2.8b-deduped\n",
      "edited model exists: /pscratch/sd/m/mansisak/memorization/model_ckpts/108000/EleutherAI_edit/greedy/mem/1e-05/pythia-2.8b-deduped\n",
      "edited model exists: /pscratch/sd/m/mansisak/memorization/model_ckpts/143000/EleutherAI_edit/act/mem/0.001/pythia-2.8b-deduped\n",
      "edited model exists: /pscratch/sd/m/mansisak/memorization/model_ckpts/143000/EleutherAI_edit/act/mem/0.01/pythia-2.8b-deduped\n",
      "edited model exists: /pscratch/sd/m/mansisak/memorization/model_ckpts/143000/EleutherAI_edit/act/mem/0.05/pythia-2.8b-deduped\n",
      "edited model exists: /pscratch/sd/m/mansisak/memorization/model_ckpts/143000/EleutherAI_edit/hc/mem/0.001/20/1000/0.1/0.1/pythia-2.8b-deduped\n",
      "edited model exists: /pscratch/sd/m/mansisak/memorization/model_ckpts/143000/EleutherAI_edit/hc/mem/0.01/20/1000/0.1/0.1/pythia-2.8b-deduped\n",
      "edited model exists: /pscratch/sd/m/mansisak/memorization/model_ckpts/143000/EleutherAI_edit/hc/mem/0.05/20/1000/0.1/0.1/pythia-2.8b-deduped\n",
      "edited model exists: /pscratch/sd/m/mansisak/memorization/model_ckpts/143000/EleutherAI_edit/slim/mem/0.001/20/1000/0.1/0.1/pythia-2.8b-deduped\n",
      "edited model exists: /pscratch/sd/m/mansisak/memorization/model_ckpts/143000/EleutherAI_edit/slim/mem/0.01/20/1000/0.1/0.1/pythia-2.8b-deduped\n",
      "edited model exists: /pscratch/sd/m/mansisak/memorization/model_ckpts/143000/EleutherAI_edit/slim/mem/0.05/20/1000/0.1/0.1/pythia-2.8b-deduped\n",
      "edited model exists: /pscratch/sd/m/mansisak/memorization/model_ckpts/143000/EleutherAI_edit/durable/mem/1e-05/pythia-2.8b-deduped\n",
      "edited model exists: /pscratch/sd/m/mansisak/memorization/model_ckpts/143000/EleutherAI_edit/durable/mem/0.0001/pythia-2.8b-deduped\n",
      "edited model exists: /pscratch/sd/m/mansisak/memorization/model_ckpts/143000/EleutherAI_edit/durable/mem/0.001/pythia-2.8b-deduped\n",
      "edited model exists: /pscratch/sd/m/mansisak/memorization/model_ckpts/143000/EleutherAI_edit/durable/mem/0.01/pythia-2.8b-deduped\n",
      "edited model exists: /pscratch/sd/m/mansisak/memorization/model_ckpts/143000/EleutherAI_edit/durable/mem/0.05/pythia-2.8b-deduped\n",
      "edited model exists: /pscratch/sd/m/mansisak/memorization/model_ckpts/143000/EleutherAI_edit/durable_agg/mem/1e-05/pythia-2.8b-deduped\n",
      "edited model exists: /pscratch/sd/m/mansisak/memorization/model_ckpts/143000/EleutherAI_edit/durable_agg/mem/0.0001/pythia-2.8b-deduped\n",
      "edited model exists: /pscratch/sd/m/mansisak/memorization/model_ckpts/143000/EleutherAI_edit/durable_agg/mem/0.001/pythia-2.8b-deduped\n",
      "edited model exists: /pscratch/sd/m/mansisak/memorization/model_ckpts/143000/EleutherAI_edit/durable_agg/mem/0.01/pythia-2.8b-deduped\n",
      "edited model exists: /pscratch/sd/m/mansisak/memorization/model_ckpts/143000/EleutherAI_edit/durable_agg/mem/0.05/pythia-2.8b-deduped\n",
      "edited model exists: /pscratch/sd/m/mansisak/memorization/model_ckpts/143000/EleutherAI_edit/random/mem/1e-05/20/0.1/0.9/0.0005/pythia-2.8b-deduped\n",
      "edited model exists: /pscratch/sd/m/mansisak/memorization/model_ckpts/143000/EleutherAI_edit/random/mem/0.0001/20/0.1/0.9/0.0005/pythia-2.8b-deduped\n",
      "edited model exists: /pscratch/sd/m/mansisak/memorization/model_ckpts/143000/EleutherAI_edit/random/mem/0.001/20/0.1/0.9/0.0005/pythia-2.8b-deduped\n",
      "edited model exists: /pscratch/sd/m/mansisak/memorization/model_ckpts/143000/EleutherAI_edit/random/mem/0.01/20/0.1/0.9/0.0005/pythia-2.8b-deduped\n",
      "edited model exists: /pscratch/sd/m/mansisak/memorization/model_ckpts/143000/EleutherAI_edit/random/mem/0.05/20/0.1/0.9/0.0005/pythia-2.8b-deduped\n",
      "edited model exists: /pscratch/sd/m/mansisak/memorization/model_ckpts/143000/EleutherAI_edit/random/mem/0.1/20/0.1/0.9/0.0005/pythia-2.8b-deduped\n",
      "edited model exists: /pscratch/sd/m/mansisak/memorization/model_ckpts/143000/EleutherAI_edit/random/mem/0.25/20/0.1/0.9/0.0005/pythia-2.8b-deduped\n",
      "edited model exists: /pscratch/sd/m/mansisak/memorization/model_ckpts/143000/EleutherAI_edit/random/mem/0.3/20/0.1/0.9/0.0005/pythia-2.8b-deduped\n",
      "edited model exists: /pscratch/sd/m/mansisak/memorization/model_ckpts/143000/EleutherAI_edit/random_greedy/mem/1e-05/20/0.1/0.9/0.0005/pythia-2.8b-deduped\n",
      "edited model exists: /pscratch/sd/m/mansisak/memorization/model_ckpts/143000/EleutherAI_edit/random_greedy/mem/0.0001/20/0.1/0.9/0.0005/pythia-2.8b-deduped\n",
      "edited model exists: /pscratch/sd/m/mansisak/memorization/model_ckpts/143000/EleutherAI_edit/random_greedy/mem/0.001/20/0.1/0.9/0.0005/pythia-2.8b-deduped\n",
      "edited model exists: /pscratch/sd/m/mansisak/memorization/model_ckpts/143000/EleutherAI_edit/random_greedy/mem/0.01/20/0.1/0.9/0.0005/pythia-2.8b-deduped\n",
      "edited model exists: /pscratch/sd/m/mansisak/memorization/model_ckpts/143000/EleutherAI_edit/random_greedy/mem/0.05/20/0.1/0.9/0.0005/pythia-2.8b-deduped\n",
      "edited model exists: /pscratch/sd/m/mansisak/memorization/model_ckpts/143000/EleutherAI_edit/random_greedy/mem/0.1/20/0.1/0.9/0.0005/pythia-2.8b-deduped\n",
      "edited model doesn't exist yet:  /pscratch/sd/m/mansisak/memorization/model_ckpts/143000/EleutherAI_edit/random_greedy/mem/0.25/20/0.1/0.9/0.0005/pythia-2.8b-deduped\n",
      "edited model doesn't exist yet:  /pscratch/sd/m/mansisak/memorization/model_ckpts/143000/EleutherAI_edit/random_greedy/mem/0.3/20/0.1/0.9/0.0005/pythia-2.8b-deduped\n",
      "edited model exists: /pscratch/sd/m/mansisak/memorization/model_ckpts/143000/EleutherAI_edit/greedy/mem/1e-05/pythia-2.8b-deduped\n",
      "total_expeirments:  640\n"
     ]
    }
   ],
   "source": [
    "# parent_path = \"/pscratch/sd/m/mansisak/memorization/model_ckpts/\"\n",
    "parent_path = \"/pscratch/sd/m/mansisak/memorization/model_ckpts/\"\n",
    "\n",
    "print_edited_model_paths(parent_path)"
   ]
  },
  {
   "cell_type": "code",
   "execution_count": 8,
   "id": "2c036efd-bbcd-4a48-b8c6-b2f74155fd00",
   "metadata": {
    "tags": []
   },
   "outputs": [
    {
     "name": "stderr",
     "output_type": "stream",
     "text": [
      "/tmp/ipykernel_1964286/3153447877.py:27: UserWarning: The use of `x.T` on tensors of dimension other than 2 to reverse their shape is deprecated and it will throw an error in a future release. Consider `x.mT` to transpose batches of matrices or `x.permute(*torch.arange(x.ndim - 1, -1, -1))` to reverse the dimensions of a tensor. (Triggered internally at ../aten/src/ATen/native/TensorShape.cpp:3637.)\n",
      "  sd[k] = sd[k].T\n"
     ]
    },
    {
     "data": {
      "text/plain": [
       "GPTNeoXForCausalLM(\n",
       "  (gpt_neox): GPTNeoXModel(\n",
       "    (embed_in): Embedding(50304, 2560)\n",
       "    (emb_dropout): Dropout(p=0.0, inplace=False)\n",
       "    (layers): ModuleList(\n",
       "      (0-31): 32 x GPTNeoXLayer(\n",
       "        (input_layernorm): LayerNorm((2560,), eps=1e-05, elementwise_affine=True)\n",
       "        (post_attention_layernorm): LayerNorm((2560,), eps=1e-05, elementwise_affine=True)\n",
       "        (post_attention_dropout): Dropout(p=0.0, inplace=False)\n",
       "        (post_mlp_dropout): Dropout(p=0.0, inplace=False)\n",
       "        (attention): GPTNeoXAttention(\n",
       "          (rotary_emb): GPTNeoXRotaryEmbedding()\n",
       "          (query_key_value): Linear(in_features=2560, out_features=7680, bias=True)\n",
       "          (dense): Linear(in_features=2560, out_features=2560, bias=True)\n",
       "          (attention_dropout): Dropout(p=0.0, inplace=False)\n",
       "        )\n",
       "        (mlp): GPTNeoXMLP(\n",
       "          (dense_h_to_4h): Linear(in_features=2560, out_features=10240, bias=True)\n",
       "          (dense_4h_to_h): Linear(in_features=10240, out_features=2560, bias=True)\n",
       "          (act): GELUActivation()\n",
       "        )\n",
       "      )\n",
       "    )\n",
       "    (final_layer_norm): LayerNorm((2560,), eps=1e-05, elementwise_affine=True)\n",
       "  )\n",
       "  (embed_out): Linear(in_features=2560, out_features=50304, bias=False)\n",
       ")"
      ]
     },
     "execution_count": 8,
     "metadata": {},
     "output_type": "execute_result"
    }
   ],
   "source": [
    "# Example of how to load in a model:\n",
    "\n",
    "model = AutoModelForCausalLM.from_pretrained(\n",
    "    \"EleutherAI/pythia-2.8b-deduped\",\n",
    "    torch_dtype=torch.float16,\n",
    "    device_map=device\n",
    ")\n",
    "\n",
    "# sd_path = '/pscratch/sd/m/mansisak/memorization/model_ckpts/old_run/143000/EleutherAI_edit/random_greedy/mem/0.001/20/0.1/0.9/0.0005/pythia-2.8b-deduped'\n",
    "sd_paths = dict(\n",
    "    unedited = None,\n",
    "    good_edit = \"/pscratch/sd/m/mansisak/memorization/model_ckpts/143000/EleutherAI_edit/random_greedy/mem/0.001/20/0.1/0.9/0.0005/pythia-2.8b-deduped\",\n",
    "    bad_edit = \"/pscratch/sd/m/mansisak/memorization/model_ckpts/143000/EleutherAI_edit/random/mem/0.1/20/0.1/0.9/0.0005/pythia-2.8b-deduped\",\n",
    ")\n",
    "\n",
    "# choose which model to load\n",
    "use_model = \"bad_edit\"\n",
    "sd_path = sd_paths.get(use_model)\n",
    "\n",
    "if sd_path is not None:\n",
    "    sd = torch.load(sd_path, map_location=device)[\"model_state_dict\"]\n",
    "    if \"random\" in sd_path:\n",
    "        for k in sd:\n",
    "            if \"4h\" in k:\n",
    "                #rint(sd[k].shape)\n",
    "                #rint(k)\n",
    "                sd[k] = sd[k].T\n",
    "    model.load_state_dict(sd, assign=True)\n",
    "model.eval()"
   ]
  },
  {
   "cell_type": "code",
   "execution_count": 9,
   "id": "fff41486-4b7d-4042-b023-c536b52d6ac0",
   "metadata": {
    "tags": []
   },
   "outputs": [
    {
     "name": "stdout",
     "output_type": "stream",
     "text": [
      "total 4\n",
      "4 drwxr-xr-x 11 mansisak mansisak 4096 Sep  3 06:26 EleutherAI_edit\n"
     ]
    }
   ],
   "source": [
    "!ls -ls /pscratch/sd/m/mansisak/memorization/model_ckpts/143000"
   ]
  },
  {
   "cell_type": "code",
   "execution_count": 10,
   "id": "21f1b8eb-b502-4c11-a2a8-0113053b1340",
   "metadata": {
    "tags": []
   },
   "outputs": [
    {
     "data": {
      "text/plain": [
       "device(type='cuda', index=1)"
      ]
     },
     "execution_count": 10,
     "metadata": {},
     "output_type": "execute_result"
    }
   ],
   "source": [
    "model.device"
   ]
  },
  {
   "cell_type": "markdown",
   "id": "e9b04ce0-d74c-472a-be25-eee922642533",
   "metadata": {},
   "source": [
    "# Load in Data"
   ]
  },
  {
   "cell_type": "code",
   "execution_count": 11,
   "id": "6de5bd3e-0a01-4e83-b410-f1493ad58aa5",
   "metadata": {
    "tags": []
   },
   "outputs": [
    {
     "data": {
      "text/plain": [
       "<torch.utils.data.dataloader.DataLoader at 0x7f27628e5ab0>"
      ]
     },
     "execution_count": 11,
     "metadata": {},
     "output_type": "execute_result"
    }
   ],
   "source": [
    "random_data = torch.load(\"/pscratch/sd/m/mansisak/memorization/src/data/pythia_mem_data/pile_random_batch.pt\")\n",
    "random_data_pile = torch.reshape(random_data[0:2040], (3264, 80)).to(device)\n",
    "\n",
    "random_data = random_data_pile[0:1632]\n",
    "random_subset_data = random_data_pile[0:10] # for testing purposes\n",
    "extra_data = random_data_pile[1632:]\n",
    "random_dataloader = DataLoader(random_data, batch_size=1, shuffle=False)\n",
    "random_subset_dataloader = DataLoader(random_subset_data, batch_size=1, shuffle=False)\n",
    "random_dataloader"
   ]
  },
  {
   "cell_type": "code",
   "execution_count": 12,
   "id": "cc7774c4-e98e-47ed-b198-20e2d39d0369",
   "metadata": {
    "tags": []
   },
   "outputs": [
    {
     "data": {
      "text/plain": [
       "<torch.utils.data.dataloader.DataLoader at 0x7f2782187880>"
      ]
     },
     "execution_count": 12,
     "metadata": {},
     "output_type": "execute_result"
    }
   ],
   "source": [
    "# need (inputs, targets) format for PyHessian\n",
    "hessian_dataloader = DataLoader([*zip(random_data, random_data)], batch_size=1, shuffle=False)\n",
    "hessian_dataloader"
   ]
  },
  {
   "cell_type": "code",
   "execution_count": 13,
   "id": "71d6bddc-3610-4622-93a6-b1f06fccd777",
   "metadata": {
    "tags": []
   },
   "outputs": [
    {
     "data": {
      "text/plain": [
       "<torch.utils.data.dataloader.DataLoader at 0x7f27628e5810>"
      ]
     },
     "execution_count": 13,
     "metadata": {},
     "output_type": "execute_result"
    }
   ],
   "source": [
    "# need (inputs, targets) format for PyHessian\n",
    "hessian_subset_dataloader = DataLoader([*zip(random_subset_data, random_subset_data)], batch_size=1, shuffle=False)\n",
    "hessian_subset_dataloader"
   ]
  },
  {
   "cell_type": "markdown",
   "id": "6e0195c8-f054-4c1c-919f-46b75f8a6393",
   "metadata": {},
   "source": [
    "# Model Inference"
   ]
  },
  {
   "cell_type": "code",
   "execution_count": 14,
   "id": "701138ae-5dde-401e-988f-6aa8eb3a899d",
   "metadata": {
    "tags": []
   },
   "outputs": [],
   "source": [
    "def perplexity(model, dataloader):\n",
    "    avg_metric = 0\n",
    "    for i, batch in enumerate(dataloader):\n",
    "        with torch.no_grad():\n",
    "            model_output = model(batch, labels=batch)\n",
    "        loss = model_output.loss\n",
    "        loss_exp = torch.exp(loss)\n",
    "        if torch.isinf(loss_exp):\n",
    "            print(f\"Skipping invalid loss...\")\n",
    "            print(f\"    {i=}, loss={loss.item()}, exp(loss)={torch.exp(loss).item()}\")\n",
    "        avg_metric += loss_exp\n",
    "        # print(loss.item())\n",
    "    return avg_metric / len(dataloader)\n",
    "\n",
    "\n",
    "def perplexity_criterion(model_output, targets=None):\n",
    "    loss = model_output.loss\n",
    "    return torch.exp(loss)\n",
    "\n",
    "\n",
    "def average_loss(model, dataloader, num_batches=-1):\n",
    "    avg_metric = 0\n",
    "    for i, batch in enumerate(dataloader):\n",
    "        if (num_batches > 0) and (i >= num_batches):\n",
    "            break\n",
    "        with torch.no_grad():\n",
    "            model_output = model(batch, labels=batch)\n",
    "        loss = model_output.loss\n",
    "        avg_metric += loss\n",
    "        # print(loss.item())\n",
    "    return avg_metric / len(dataloader)\n",
    "\n",
    "\n",
    "from torch.nn import CrossEntropyLoss\n",
    "def loss_criterion(model_output, inputs):\n",
    "    # Shift so that tokens < n predict n\n",
    "    shift_labels = inputs[..., 1:].contiguous()\n",
    "    shift_logits = model_output.logits[..., :-1, :].contiguous()\n",
    "    # Calculate per-token loss\n",
    "    loss_fct = CrossEntropyLoss(reduction=\"none\")\n",
    "    loss = loss_fct(shift_logits.view(-1, shift_logits.size(-1)), shift_labels.view(-1))\n",
    "    # Resize and average loss per sample\n",
    "    loss_per_sample = loss.view(shift_logits.size(0), shift_logits.size(1)).mean(axis=1)\n",
    "    return (loss_per_sample).mean()\n"
   ]
  },
  {
   "cell_type": "code",
   "execution_count": null,
   "id": "a32f43ba-0e19-4eb8-88d5-790895e65e94",
   "metadata": {
    "tags": []
   },
   "outputs": [],
   "source": [
    "average_loss(model, random_dataloader)"
   ]
  },
  {
   "cell_type": "code",
   "execution_count": null,
   "id": "6b399cd5-416e-4d04-8996-98a4372ca579",
   "metadata": {},
   "outputs": [],
   "source": [
    "loss_criterion(model(random_data[:10]), random_data[:10])"
   ]
  },
  {
   "cell_type": "markdown",
   "id": "670be195-92ae-4270-bdc0-860a792b39b2",
   "metadata": {},
   "source": [
    "# Loss Landscape stuff"
   ]
  },
  {
   "cell_type": "code",
   "execution_count": 15,
   "id": "603ae303-9c10-43c8-939c-55aade290580",
   "metadata": {
    "tags": []
   },
   "outputs": [],
   "source": [
    "import numpy as np\n",
    "from pyhessian import hessian\n",
    "from pyhessian.utils import normalization\n",
    "import copy\n",
    "\n",
    "import matplotlib.pyplot as plt"
   ]
  },
  {
   "cell_type": "code",
   "execution_count": 16,
   "id": "26d01b6d-a8de-4d80-b865-3d50d636d5ec",
   "metadata": {
    "tags": []
   },
   "outputs": [],
   "source": [
    "def get_params(model_orig, model_perb, direction, alpha):\n",
    "    for m_orig, m_perb, d in zip(\n",
    "        model_orig.parameters(), model_perb.parameters(), direction\n",
    "    ):\n",
    "        m_perb.data = m_orig.data + alpha * d\n",
    "    return model_perb"
   ]
  },
  {
   "cell_type": "markdown",
   "id": "2cacefb7-e419-4087-bd9e-ca05e5cfec9c",
   "metadata": {},
   "source": [
    "## 2D Hessian directions"
   ]
  },
  {
   "cell_type": "code",
   "execution_count": 29,
   "id": "12b1b02f-896e-43ab-a11e-15d517459414",
   "metadata": {},
   "outputs": [],
   "source": [
    "\n",
    "import torch \n",
    "from torch.autograd import grad\n",
    "from scipy.sparse.linalg import LinearOperator, eigsh\n",
    "import numpy as np\n",
    "\n",
    "def get_hessian_eigenvectors(model_, compute_loss_fn, train_data_loader, num_batches, device, n_top_vectors, param_extract_fn):\n",
    "    \"\"\"\n",
    "    model: a pytorch model\n",
    "    loss_fn: a pytorch loss function\n",
    "    train_data_loader: a pytorch data loader\n",
    "    num_batches: number of batches to use for the hessian calculation\n",
    "    device: the device to use for the hessian calculation\n",
    "    n_top_vectors: number of top eigenvalues / eigenvectors to return\n",
    "    param_extract_fn: a function that takes a model and returns a list of parameters to compute the hessian with respect to (pass None to use all parameters)\n",
    "    returns: a tuple of (eigenvalues, eigenvectors)\n",
    "    eigenvalues: a numpy array of the top eigenvalues, arranged in increasing order\n",
    "    eigenvectors: a numpy array of the top eigenvectors, arranged in increasing order, shape (n_top_vectors, num_params)\n",
    "    \"\"\"\n",
    "    param_extract_fn = param_extract_fn or (lambda x: x.parameters())\n",
    "    num_params = sum(p.numel() for p in param_extract_fn(model_))\n",
    "    # subset_images, subset_labels = [], []\n",
    "    # for batch_idx, (images, labels) in enumerate(train_data_loader):\n",
    "    #     if batch_idx >= num_batches:\n",
    "    #         break\n",
    "    #     subset_images.append(images.to(device))\n",
    "    #     subset_labels.append(labels.to(device))\n",
    "    # subset_images = torch.cat(subset_images)\n",
    "    # subset_labels = torch.cat(subset_labels)\n",
    "    \n",
    "    def hessian_vector_product(vector):\n",
    "        model_.zero_grad()\n",
    "        # grad_params = grad(compute_loss_fn(model, subset_images, subset_labels), param_extract_fn(model), create_graph=True)\n",
    "        grad_params = grad(compute_loss_fn(model_, train_data_loader, num_batches), model_.parameters(), create_graph=True)\n",
    "        flat_grad = torch.cat([g.view(-1) for g in grad_params])\n",
    "        grad_vector_product = torch.sum(flat_grad * vector)\n",
    "        hvp = grad(grad_vector_product, model_.parameters(), retain_graph=True)\n",
    "        return torch.cat([g.contiguous().view(-1) for g in hvp])\n",
    "\n",
    "    def matvec(v):\n",
    "        v_tensor = torch.tensor(v, dtype=torch.float32, device=device)\n",
    "        return hessian_vector_product(v_tensor).cpu().detach().numpy()\n",
    "\n",
    "    linear_operator = LinearOperator((num_params, num_params), matvec=matvec)\n",
    "    eigenvalues, eigenvectors = eigsh(linear_operator, k=n_top_vectors, tol=0.001, which='LM', return_eigenvectors=True)\n",
    "    eigenvectors = np.transpose(eigenvectors)\n",
    "    return eigenvalues, eigenvectors\n",
    "  "
   ]
  },
  {
   "cell_type": "code",
   "execution_count": 30,
   "id": "dbe49c12-83cb-47ef-9a28-096580d890f4",
   "metadata": {
    "tags": []
   },
   "outputs": [],
   "source": [
    "\n",
    "def average_loss(model, dataloader, num_batches=-1):\n",
    "    avg_metric = 0\n",
    "    for i, batch in enumerate(dataloader):\n",
    "        if (num_batches > 0) and (i >= num_batches):\n",
    "            break\n",
    "        with torch.no_grad():\n",
    "            model_output = model(batch, labels=batch)\n",
    "        loss = model_output.loss\n",
    "        avg_metric += loss\n",
    "        # print(loss.item())\n",
    "        \n",
    "    return avg_metric / len(dataloader)\n"
   ]
  },
  {
   "cell_type": "code",
   "execution_count": 31,
   "id": "be34c9ef-3302-47b1-ae65-702ef5b0f6a9",
   "metadata": {},
   "outputs": [],
   "source": [
    "device = \"cuda:1\"\n",
    "\n",
    "# with torch.no_grad():\n",
    "# model.eval()\n",
    "# model_perb = copy.deepcopy(model)\n",
    "# model_perb.eval()\n",
    "\n",
    "# model = model.to(\"cpu\")\n",
    "# model_perb = model_perb.to(device)"
   ]
  },
  {
   "cell_type": "code",
   "execution_count": 32,
   "id": "b8f0851b-f66d-4e95-8e0a-90b7a0e54b4b",
   "metadata": {
    "tags": []
   },
   "outputs": [
    {
     "data": {
      "text/plain": [
       "GPTNeoXForCausalLM(\n",
       "  (gpt_neox): GPTNeoXModel(\n",
       "    (embed_in): Embedding(50304, 2560)\n",
       "    (emb_dropout): Dropout(p=0.0, inplace=False)\n",
       "    (layers): ModuleList(\n",
       "      (0-31): 32 x GPTNeoXLayer(\n",
       "        (input_layernorm): LayerNorm((2560,), eps=1e-05, elementwise_affine=True)\n",
       "        (post_attention_layernorm): LayerNorm((2560,), eps=1e-05, elementwise_affine=True)\n",
       "        (post_attention_dropout): Dropout(p=0.0, inplace=False)\n",
       "        (post_mlp_dropout): Dropout(p=0.0, inplace=False)\n",
       "        (attention): GPTNeoXAttention(\n",
       "          (rotary_emb): GPTNeoXRotaryEmbedding()\n",
       "          (query_key_value): Linear(in_features=2560, out_features=7680, bias=True)\n",
       "          (dense): Linear(in_features=2560, out_features=2560, bias=True)\n",
       "          (attention_dropout): Dropout(p=0.0, inplace=False)\n",
       "        )\n",
       "        (mlp): GPTNeoXMLP(\n",
       "          (dense_h_to_4h): Linear(in_features=2560, out_features=10240, bias=True)\n",
       "          (dense_4h_to_h): Linear(in_features=10240, out_features=2560, bias=True)\n",
       "          (act): GELUActivation()\n",
       "        )\n",
       "      )\n",
       "    )\n",
       "    (final_layer_norm): LayerNorm((2560,), eps=1e-05, elementwise_affine=True)\n",
       "  )\n",
       "  (embed_out): Linear(in_features=2560, out_features=50304, bias=False)\n",
       ")"
      ]
     },
     "execution_count": 32,
     "metadata": {},
     "output_type": "execute_result"
    }
   ],
   "source": [
    "model.train()"
   ]
  },
  {
   "cell_type": "code",
   "execution_count": 33,
   "id": "67021377-680f-439e-92ed-673e70dca47f",
   "metadata": {
    "tags": []
   },
   "outputs": [],
   "source": [
    "for module in model.modules():\n",
    "    for p in module.parameters():\n",
    "        p.requires_grad = True"
   ]
  },
  {
   "cell_type": "code",
   "execution_count": 34,
   "id": "0e55411d-cb6d-4cde-a6c5-06e5f9c9276a",
   "metadata": {},
   "outputs": [
    {
     "ename": "RuntimeError",
     "evalue": "element 0 of tensors does not require grad and does not have a grad_fn",
     "output_type": "error",
     "traceback": [
      "\u001b[0;31m---------------------------------------------------------------------------\u001b[0m",
      "\u001b[0;31mRuntimeError\u001b[0m                              Traceback (most recent call last)",
      "Cell \u001b[0;32mIn[34], line 6\u001b[0m\n\u001b[1;32m      1\u001b[0m \u001b[38;5;66;03m# torch.set_grad_enabled(True)  # Context-manager \u001b[39;00m\n\u001b[1;32m      2\u001b[0m \n\u001b[1;32m      3\u001b[0m \n\u001b[1;32m      4\u001b[0m \u001b[38;5;66;03m### Compute top Hessian eigenvectors\u001b[39;00m\n\u001b[1;32m      5\u001b[0m \u001b[38;5;66;03m# [version 1] compute eigenvectors\u001b[39;00m\n\u001b[0;32m----> 6\u001b[0m top_eigenvalues, top_eigenvectors \u001b[38;5;241m=\u001b[39m \u001b[43mget_hessian_eigenvectors\u001b[49m\u001b[43m(\u001b[49m\n\u001b[1;32m      7\u001b[0m \u001b[43m    \u001b[49m\u001b[43mmodel\u001b[49m\u001b[43m,\u001b[49m\u001b[43m \u001b[49m\u001b[43maverage_loss\u001b[49m\u001b[43m,\u001b[49m\u001b[43m \u001b[49m\u001b[43mcopy\u001b[49m\u001b[38;5;241;43m.\u001b[39;49m\u001b[43mdeepcopy\u001b[49m\u001b[43m(\u001b[49m\u001b[43mrandom_subset_dataloader\u001b[49m\u001b[43m)\u001b[49m\u001b[43m,\u001b[49m\u001b[43m \u001b[49m\u001b[38;5;241;43m-\u001b[39;49m\u001b[38;5;241;43m1\u001b[39;49m\u001b[43m,\u001b[49m\u001b[43m \u001b[49m\u001b[38;5;124;43m'\u001b[39;49m\u001b[38;5;124;43mcuda:1\u001b[39;49m\u001b[38;5;124;43m'\u001b[39;49m\u001b[43m,\u001b[49m\u001b[43m \u001b[49m\u001b[38;5;241;43m2\u001b[39;49m\u001b[43m,\u001b[49m\u001b[43m \u001b[49m\u001b[38;5;28;43;01mNone\u001b[39;49;00m\n\u001b[1;32m      8\u001b[0m \u001b[43m)\u001b[49m\n\u001b[1;32m      9\u001b[0m top_eigenvalues \u001b[38;5;241m=\u001b[39m top_eigenvalues[::\u001b[38;5;241m-\u001b[39m\u001b[38;5;241m1\u001b[39m]\n\u001b[1;32m     10\u001b[0m top_eigenvectors \u001b[38;5;241m=\u001b[39m top_eigenvectors[::\u001b[38;5;241m-\u001b[39m\u001b[38;5;241m1\u001b[39m, :]\n",
      "Cell \u001b[0;32mIn[29], line 43\u001b[0m, in \u001b[0;36mget_hessian_eigenvectors\u001b[0;34m(model_, compute_loss_fn, train_data_loader, num_batches, device, n_top_vectors, param_extract_fn)\u001b[0m\n\u001b[1;32m     40\u001b[0m     v_tensor \u001b[38;5;241m=\u001b[39m torch\u001b[38;5;241m.\u001b[39mtensor(v, dtype\u001b[38;5;241m=\u001b[39mtorch\u001b[38;5;241m.\u001b[39mfloat32, device\u001b[38;5;241m=\u001b[39mdevice)\n\u001b[1;32m     41\u001b[0m     \u001b[38;5;28;01mreturn\u001b[39;00m hessian_vector_product(v_tensor)\u001b[38;5;241m.\u001b[39mcpu()\u001b[38;5;241m.\u001b[39mdetach()\u001b[38;5;241m.\u001b[39mnumpy()\n\u001b[0;32m---> 43\u001b[0m linear_operator \u001b[38;5;241m=\u001b[39m \u001b[43mLinearOperator\u001b[49m\u001b[43m(\u001b[49m\u001b[43m(\u001b[49m\u001b[43mnum_params\u001b[49m\u001b[43m,\u001b[49m\u001b[43m \u001b[49m\u001b[43mnum_params\u001b[49m\u001b[43m)\u001b[49m\u001b[43m,\u001b[49m\u001b[43m \u001b[49m\u001b[43mmatvec\u001b[49m\u001b[38;5;241;43m=\u001b[39;49m\u001b[43mmatvec\u001b[49m\u001b[43m)\u001b[49m\n\u001b[1;32m     44\u001b[0m eigenvalues, eigenvectors \u001b[38;5;241m=\u001b[39m eigsh(linear_operator, k\u001b[38;5;241m=\u001b[39mn_top_vectors, tol\u001b[38;5;241m=\u001b[39m\u001b[38;5;241m0.001\u001b[39m, which\u001b[38;5;241m=\u001b[39m\u001b[38;5;124m'\u001b[39m\u001b[38;5;124mLM\u001b[39m\u001b[38;5;124m'\u001b[39m, return_eigenvectors\u001b[38;5;241m=\u001b[39m\u001b[38;5;28;01mTrue\u001b[39;00m)\n\u001b[1;32m     45\u001b[0m eigenvectors \u001b[38;5;241m=\u001b[39m np\u001b[38;5;241m.\u001b[39mtranspose(eigenvectors)\n",
      "File \u001b[0;32m/global/cfs/cdirs/m636/geniesse/envs/memorization/lib/python3.10/site-packages/scipy/sparse/linalg/_interface.py:584\u001b[0m, in \u001b[0;36m_CustomLinearOperator.__init__\u001b[0;34m(self, shape, matvec, rmatvec, matmat, dtype, rmatmat)\u001b[0m\n\u001b[1;32m    581\u001b[0m \u001b[38;5;28mself\u001b[39m\u001b[38;5;241m.\u001b[39m__rmatmat_impl \u001b[38;5;241m=\u001b[39m rmatmat\n\u001b[1;32m    582\u001b[0m \u001b[38;5;28mself\u001b[39m\u001b[38;5;241m.\u001b[39m__matmat_impl \u001b[38;5;241m=\u001b[39m matmat\n\u001b[0;32m--> 584\u001b[0m \u001b[38;5;28;43mself\u001b[39;49m\u001b[38;5;241;43m.\u001b[39;49m\u001b[43m_init_dtype\u001b[49m\u001b[43m(\u001b[49m\u001b[43m)\u001b[49m\n",
      "File \u001b[0;32m/global/cfs/cdirs/m636/geniesse/envs/memorization/lib/python3.10/site-packages/scipy/sparse/linalg/_interface.py:182\u001b[0m, in \u001b[0;36mLinearOperator._init_dtype\u001b[0;34m(self)\u001b[0m\n\u001b[1;32m    180\u001b[0m \u001b[38;5;28;01mif\u001b[39;00m \u001b[38;5;28mself\u001b[39m\u001b[38;5;241m.\u001b[39mdtype \u001b[38;5;129;01mis\u001b[39;00m \u001b[38;5;28;01mNone\u001b[39;00m:\n\u001b[1;32m    181\u001b[0m     v \u001b[38;5;241m=\u001b[39m np\u001b[38;5;241m.\u001b[39mzeros(\u001b[38;5;28mself\u001b[39m\u001b[38;5;241m.\u001b[39mshape[\u001b[38;5;241m-\u001b[39m\u001b[38;5;241m1\u001b[39m])\n\u001b[0;32m--> 182\u001b[0m     \u001b[38;5;28mself\u001b[39m\u001b[38;5;241m.\u001b[39mdtype \u001b[38;5;241m=\u001b[39m np\u001b[38;5;241m.\u001b[39masarray(\u001b[38;5;28;43mself\u001b[39;49m\u001b[38;5;241;43m.\u001b[39;49m\u001b[43mmatvec\u001b[49m\u001b[43m(\u001b[49m\u001b[43mv\u001b[49m\u001b[43m)\u001b[49m)\u001b[38;5;241m.\u001b[39mdtype\n",
      "File \u001b[0;32m/global/cfs/cdirs/m636/geniesse/envs/memorization/lib/python3.10/site-packages/scipy/sparse/linalg/_interface.py:236\u001b[0m, in \u001b[0;36mLinearOperator.matvec\u001b[0;34m(self, x)\u001b[0m\n\u001b[1;32m    233\u001b[0m \u001b[38;5;28;01mif\u001b[39;00m x\u001b[38;5;241m.\u001b[39mshape \u001b[38;5;241m!=\u001b[39m (N,) \u001b[38;5;129;01mand\u001b[39;00m x\u001b[38;5;241m.\u001b[39mshape \u001b[38;5;241m!=\u001b[39m (N,\u001b[38;5;241m1\u001b[39m):\n\u001b[1;32m    234\u001b[0m     \u001b[38;5;28;01mraise\u001b[39;00m \u001b[38;5;167;01mValueError\u001b[39;00m(\u001b[38;5;124m'\u001b[39m\u001b[38;5;124mdimension mismatch\u001b[39m\u001b[38;5;124m'\u001b[39m)\n\u001b[0;32m--> 236\u001b[0m y \u001b[38;5;241m=\u001b[39m \u001b[38;5;28;43mself\u001b[39;49m\u001b[38;5;241;43m.\u001b[39;49m\u001b[43m_matvec\u001b[49m\u001b[43m(\u001b[49m\u001b[43mx\u001b[49m\u001b[43m)\u001b[49m\n\u001b[1;32m    238\u001b[0m \u001b[38;5;28;01mif\u001b[39;00m \u001b[38;5;28misinstance\u001b[39m(x, np\u001b[38;5;241m.\u001b[39mmatrix):\n\u001b[1;32m    239\u001b[0m     y \u001b[38;5;241m=\u001b[39m asmatrix(y)\n",
      "File \u001b[0;32m/global/cfs/cdirs/m636/geniesse/envs/memorization/lib/python3.10/site-packages/scipy/sparse/linalg/_interface.py:593\u001b[0m, in \u001b[0;36m_CustomLinearOperator._matvec\u001b[0;34m(self, x)\u001b[0m\n\u001b[1;32m    592\u001b[0m \u001b[38;5;28;01mdef\u001b[39;00m \u001b[38;5;21m_matvec\u001b[39m(\u001b[38;5;28mself\u001b[39m, x):\n\u001b[0;32m--> 593\u001b[0m     \u001b[38;5;28;01mreturn\u001b[39;00m \u001b[38;5;28;43mself\u001b[39;49m\u001b[38;5;241;43m.\u001b[39;49m\u001b[43m__matvec_impl\u001b[49m\u001b[43m(\u001b[49m\u001b[43mx\u001b[49m\u001b[43m)\u001b[49m\n",
      "Cell \u001b[0;32mIn[29], line 41\u001b[0m, in \u001b[0;36mget_hessian_eigenvectors.<locals>.matvec\u001b[0;34m(v)\u001b[0m\n\u001b[1;32m     39\u001b[0m \u001b[38;5;28;01mdef\u001b[39;00m \u001b[38;5;21mmatvec\u001b[39m(v):\n\u001b[1;32m     40\u001b[0m     v_tensor \u001b[38;5;241m=\u001b[39m torch\u001b[38;5;241m.\u001b[39mtensor(v, dtype\u001b[38;5;241m=\u001b[39mtorch\u001b[38;5;241m.\u001b[39mfloat32, device\u001b[38;5;241m=\u001b[39mdevice)\n\u001b[0;32m---> 41\u001b[0m     \u001b[38;5;28;01mreturn\u001b[39;00m \u001b[43mhessian_vector_product\u001b[49m\u001b[43m(\u001b[49m\u001b[43mv_tensor\u001b[49m\u001b[43m)\u001b[49m\u001b[38;5;241m.\u001b[39mcpu()\u001b[38;5;241m.\u001b[39mdetach()\u001b[38;5;241m.\u001b[39mnumpy()\n",
      "Cell \u001b[0;32mIn[29], line 33\u001b[0m, in \u001b[0;36mget_hessian_eigenvectors.<locals>.hessian_vector_product\u001b[0;34m(vector)\u001b[0m\n\u001b[1;32m     31\u001b[0m model_\u001b[38;5;241m.\u001b[39mzero_grad()\n\u001b[1;32m     32\u001b[0m \u001b[38;5;66;03m# grad_params = grad(compute_loss_fn(model, subset_images, subset_labels), param_extract_fn(model), create_graph=True)\u001b[39;00m\n\u001b[0;32m---> 33\u001b[0m grad_params \u001b[38;5;241m=\u001b[39m \u001b[43mgrad\u001b[49m\u001b[43m(\u001b[49m\u001b[43mcompute_loss_fn\u001b[49m\u001b[43m(\u001b[49m\u001b[43mmodel_\u001b[49m\u001b[43m,\u001b[49m\u001b[43m \u001b[49m\u001b[43mtrain_data_loader\u001b[49m\u001b[43m,\u001b[49m\u001b[43m \u001b[49m\u001b[43mnum_batches\u001b[49m\u001b[43m)\u001b[49m\u001b[43m,\u001b[49m\u001b[43m \u001b[49m\u001b[43mmodel_\u001b[49m\u001b[38;5;241;43m.\u001b[39;49m\u001b[43mparameters\u001b[49m\u001b[43m(\u001b[49m\u001b[43m)\u001b[49m\u001b[43m,\u001b[49m\u001b[43m \u001b[49m\u001b[43mcreate_graph\u001b[49m\u001b[38;5;241;43m=\u001b[39;49m\u001b[38;5;28;43;01mTrue\u001b[39;49;00m\u001b[43m)\u001b[49m\n\u001b[1;32m     34\u001b[0m flat_grad \u001b[38;5;241m=\u001b[39m torch\u001b[38;5;241m.\u001b[39mcat([g\u001b[38;5;241m.\u001b[39mview(\u001b[38;5;241m-\u001b[39m\u001b[38;5;241m1\u001b[39m) \u001b[38;5;28;01mfor\u001b[39;00m g \u001b[38;5;129;01min\u001b[39;00m grad_params])\n\u001b[1;32m     35\u001b[0m grad_vector_product \u001b[38;5;241m=\u001b[39m torch\u001b[38;5;241m.\u001b[39msum(flat_grad \u001b[38;5;241m*\u001b[39m vector)\n",
      "File \u001b[0;32m/global/cfs/cdirs/m636/geniesse/envs/memorization/lib/python3.10/site-packages/torch/autograd/__init__.py:411\u001b[0m, in \u001b[0;36mgrad\u001b[0;34m(outputs, inputs, grad_outputs, retain_graph, create_graph, only_inputs, allow_unused, is_grads_batched, materialize_grads)\u001b[0m\n\u001b[1;32m    407\u001b[0m     result \u001b[38;5;241m=\u001b[39m _vmap_internals\u001b[38;5;241m.\u001b[39m_vmap(vjp, \u001b[38;5;241m0\u001b[39m, \u001b[38;5;241m0\u001b[39m, allow_none_pass_through\u001b[38;5;241m=\u001b[39m\u001b[38;5;28;01mTrue\u001b[39;00m)(\n\u001b[1;32m    408\u001b[0m         grad_outputs_\n\u001b[1;32m    409\u001b[0m     )\n\u001b[1;32m    410\u001b[0m \u001b[38;5;28;01melse\u001b[39;00m:\n\u001b[0;32m--> 411\u001b[0m     result \u001b[38;5;241m=\u001b[39m \u001b[43mVariable\u001b[49m\u001b[38;5;241;43m.\u001b[39;49m\u001b[43m_execution_engine\u001b[49m\u001b[38;5;241;43m.\u001b[39;49m\u001b[43mrun_backward\u001b[49m\u001b[43m(\u001b[49m\u001b[43m  \u001b[49m\u001b[38;5;66;43;03m# Calls into the C++ engine to run the backward pass\u001b[39;49;00m\n\u001b[1;32m    412\u001b[0m \u001b[43m        \u001b[49m\u001b[43mt_outputs\u001b[49m\u001b[43m,\u001b[49m\n\u001b[1;32m    413\u001b[0m \u001b[43m        \u001b[49m\u001b[43mgrad_outputs_\u001b[49m\u001b[43m,\u001b[49m\n\u001b[1;32m    414\u001b[0m \u001b[43m        \u001b[49m\u001b[43mretain_graph\u001b[49m\u001b[43m,\u001b[49m\n\u001b[1;32m    415\u001b[0m \u001b[43m        \u001b[49m\u001b[43mcreate_graph\u001b[49m\u001b[43m,\u001b[49m\n\u001b[1;32m    416\u001b[0m \u001b[43m        \u001b[49m\u001b[43minputs\u001b[49m\u001b[43m,\u001b[49m\n\u001b[1;32m    417\u001b[0m \u001b[43m        \u001b[49m\u001b[43mallow_unused\u001b[49m\u001b[43m,\u001b[49m\n\u001b[1;32m    418\u001b[0m \u001b[43m        \u001b[49m\u001b[43maccumulate_grad\u001b[49m\u001b[38;5;241;43m=\u001b[39;49m\u001b[38;5;28;43;01mFalse\u001b[39;49;00m\u001b[43m,\u001b[49m\n\u001b[1;32m    419\u001b[0m \u001b[43m    \u001b[49m\u001b[43m)\u001b[49m  \u001b[38;5;66;03m# Calls into the C++ engine to run the backward pass\u001b[39;00m\n\u001b[1;32m    420\u001b[0m \u001b[38;5;28;01mif\u001b[39;00m materialize_grads:\n\u001b[1;32m    421\u001b[0m     \u001b[38;5;28;01mif\u001b[39;00m \u001b[38;5;28many\u001b[39m(\n\u001b[1;32m    422\u001b[0m         result[i] \u001b[38;5;129;01mis\u001b[39;00m \u001b[38;5;28;01mNone\u001b[39;00m \u001b[38;5;129;01mand\u001b[39;00m \u001b[38;5;129;01mnot\u001b[39;00m is_tensor_like(inputs[i])\n\u001b[1;32m    423\u001b[0m         \u001b[38;5;28;01mfor\u001b[39;00m i \u001b[38;5;129;01min\u001b[39;00m \u001b[38;5;28mrange\u001b[39m(\u001b[38;5;28mlen\u001b[39m(inputs))\n\u001b[1;32m    424\u001b[0m     ):\n",
      "\u001b[0;31mRuntimeError\u001b[0m: element 0 of tensors does not require grad and does not have a grad_fn"
     ]
    }
   ],
   "source": [
    "\n",
    "### Compute top Hessian eigenvectors\n",
    "# [version 1] compute eigenvectors\n",
    "top_eigenvalues, top_eigenvectors = get_hessian_eigenvectors(\n",
    "    model, average_loss, copy.deepcopy(random_subset_dataloader), -1, 'cuda:1', 2, None\n",
    ")\n",
    "top_eigenvalues = top_eigenvalues[::-1]\n",
    "top_eigenvectors = top_eigenvectors[::-1, :]\n",
    "print(f\"            [version 1] {top_eigenvalues=}\")\n"
   ]
  },
  {
   "cell_type": "code",
   "execution_count": null,
   "id": "4d06e517-cd1f-45a4-afdf-2f633a910da2",
   "metadata": {},
   "outputs": [],
   "source": []
  },
  {
   "cell_type": "code",
   "execution_count": null,
   "id": "950c7896-ec5f-4860-80eb-73b558d43e5f",
   "metadata": {},
   "outputs": [],
   "source": []
  },
  {
   "cell_type": "code",
   "execution_count": null,
   "id": "bc21c3fb-3eb2-4a5b-9af6-62fdca4564b4",
   "metadata": {},
   "outputs": [],
   "source": []
  },
  {
   "cell_type": "code",
   "execution_count": null,
   "id": "70875fad-e7ec-4d0a-810f-7ee76ce1429c",
   "metadata": {},
   "outputs": [],
   "source": []
  },
  {
   "cell_type": "code",
   "execution_count": null,
   "id": "78aead3e-9f9e-48fc-b1cd-f0b1a697afa6",
   "metadata": {},
   "outputs": [],
   "source": []
  }
 ],
 "metadata": {
  "kernelspec": {
   "display_name": "memorization",
   "language": "python",
   "name": "memorization"
  },
  "language_info": {
   "codemirror_mode": {
    "name": "ipython",
    "version": 3
   },
   "file_extension": ".py",
   "mimetype": "text/x-python",
   "name": "python",
   "nbconvert_exporter": "python",
   "pygments_lexer": "ipython3",
   "version": "3.10.0"
  }
 },
 "nbformat": 4,
 "nbformat_minor": 5
}
