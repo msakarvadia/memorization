{
 "cells": [
  {
   "cell_type": "markdown",
   "id": "240107bb-bda6-4cb3-b373-99496185b06e",
   "metadata": {
    "tags": []
   },
   "source": [
    "# Set Up/Imports"
   ]
  },
  {
   "cell_type": "code",
   "execution_count": 1,
   "id": "990856d1-5032-4f5f-8d4a-84ff2f0a3887",
   "metadata": {},
   "outputs": [],
   "source": [
    "%load_ext autoreload\n",
    "%autoreload 2"
   ]
  },
  {
   "cell_type": "code",
   "execution_count": 2,
   "id": "692346f5-61b2-435c-b0a2-b2e5833181fe",
   "metadata": {
    "tags": []
   },
   "outputs": [],
   "source": [
    "# conda activate \"/pscratch/sd/m/mansisak/memorization/env/\""
   ]
  },
  {
   "cell_type": "code",
   "execution_count": 3,
   "id": "9512f68a-39fd-4e37-825d-b2415fa10198",
   "metadata": {
    "tags": []
   },
   "outputs": [],
   "source": [
    "# !pip list"
   ]
  },
  {
   "cell_type": "code",
   "execution_count": 4,
   "id": "0039350a-fa65-49c0-acb7-b763c9aa5198",
   "metadata": {
    "tags": []
   },
   "outputs": [],
   "source": [
    "#pip install accelerate"
   ]
  },
  {
   "cell_type": "code",
   "execution_count": 5,
   "id": "b65bfcf8-bc73-49b7-98fe-ebad53b40ca8",
   "metadata": {
    "tags": []
   },
   "outputs": [
    {
     "name": "stderr",
     "output_type": "stream",
     "text": [
      "/global/cfs/cdirs/m636/geniesse/envs/memorization/lib/python3.10/site-packages/transformers/utils/hub.py:124: FutureWarning: Using `TRANSFORMERS_CACHE` is deprecated and will be removed in v5 of Transformers. Use `HF_HOME` instead.\n",
      "  warnings.warn(\n"
     ]
    }
   ],
   "source": [
    "import torch\n",
    "import os\n",
    "from transformers import AutoModelForCausalLM\n",
    "from torch.utils.data import DataLoader\n",
    "from tqdm import tqdm\n",
    "\n",
    "### TODO: figure out automatically\n",
    "# device = \"cpu\"\n",
    "device = \"cuda\""
   ]
  },
  {
   "cell_type": "markdown",
   "id": "a2bd0961-4ef1-4ed8-952b-55c43e12cce8",
   "metadata": {
    "tags": []
   },
   "source": [
    "# Load in Models"
   ]
  },
  {
   "cell_type": "code",
   "execution_count": 6,
   "id": "f2c93588-3a75-49b6-bef8-41da12d99c8e",
   "metadata": {
    "tags": []
   },
   "outputs": [],
   "source": [
    "def print_edited_model_paths(parent_path):\n",
    "    \n",
    "    total_exp = 0\n",
    "    for model_name in ['pythia-6.9b-deduped', 'pythia-2.8b-deduped']:\n",
    "        y_idx = 0\n",
    "        for step in [36000, 72000, 108000, 143000]:\n",
    "            for loc_method in [\n",
    "                  \"act\",\n",
    "                  \"hc\",\n",
    "                  \"slim\",\n",
    "                  \"durable\",\n",
    "                  \"durable_agg\",\n",
    "                  \"random\",\n",
    "                  \"random_greedy\",\n",
    "                  \"greedy\",\n",
    "              ]:\n",
    "                \n",
    "                for ratio in [0.00001, 0.0001, 0.001, 0.01, 0.05, 0.1, 0.25, 0.3]:\n",
    "                    result_path = f\"{parent_path}{step}/EleutherAI_edit/{loc_method}/mem/{ratio}\"\n",
    "                    if loc_method not in [\"random\", \"random_greedy\"]:\n",
    "                        if ratio >= 0.1:\n",
    "                            continue\n",
    "\n",
    "                    # this ratio is too small for neuron-level methods\n",
    "                    if loc_method in [\"zero\", \"hc\", \"ig\", \"slim\", \"act\"]:\n",
    "                        if ratio <= 0.0001:\n",
    "                            continue\n",
    "\n",
    "                    if loc_method in [\"greedy\"]:\n",
    "                        if ratio > 0.00001:\n",
    "                            continue\n",
    "                            \n",
    "                    ######\n",
    "                    if loc_method in [\"greedy\", \"durable\", \"durable_agg\",\"act\"]:\n",
    "                        model_path = f'{result_path}/{model_name}'\n",
    "                        total_exp += 1\n",
    "\n",
    "                    if loc_method in [\"slim\", \"hc\"]:\n",
    "                        for epochs in [1, 10, 20]:\n",
    "                            total_exp += 1\n",
    "                            model_path = f'{result_path}/{epochs}/1000/0.1/0.1/{model_name}'                      \n",
    "\n",
    "                    if loc_method in [\"random\", \"random_greedy\"]:\n",
    "                        for epochs in [1, 10, 20]:\n",
    "                            total_exp += 1\n",
    "                            model_path = f'{result_path}/{epochs}/0.1/0.9/0.0005/{model_name}'\n",
    "                    if os.path.isfile(model_path):\n",
    "                        print(\"edited model exists:\", model_path)\n",
    "                    else:\n",
    "                        print(\"edited model doesn't exist yet: \", model_path)\n",
    "\n",
    "    print(\"total_expeirments: \", total_exp)\n",
    "\n"
   ]
  },
  {
   "cell_type": "code",
   "execution_count": 7,
   "id": "1865793f-b745-4f7c-8532-4591860afc1a",
   "metadata": {
    "tags": []
   },
   "outputs": [
    {
     "name": "stdout",
     "output_type": "stream",
     "text": [
      "edited model exists: /pscratch/sd/m/mansisak/memorization/model_ckpts/old_run/36000/EleutherAI_edit/act/mem/0.001/pythia-6.9b-deduped\n",
      "edited model exists: /pscratch/sd/m/mansisak/memorization/model_ckpts/old_run/36000/EleutherAI_edit/act/mem/0.01/pythia-6.9b-deduped\n",
      "edited model exists: /pscratch/sd/m/mansisak/memorization/model_ckpts/old_run/36000/EleutherAI_edit/act/mem/0.05/pythia-6.9b-deduped\n",
      "edited model exists: /pscratch/sd/m/mansisak/memorization/model_ckpts/old_run/36000/EleutherAI_edit/hc/mem/0.001/20/1000/0.1/0.1/pythia-6.9b-deduped\n",
      "edited model exists: /pscratch/sd/m/mansisak/memorization/model_ckpts/old_run/36000/EleutherAI_edit/hc/mem/0.01/20/1000/0.1/0.1/pythia-6.9b-deduped\n",
      "edited model exists: /pscratch/sd/m/mansisak/memorization/model_ckpts/old_run/36000/EleutherAI_edit/hc/mem/0.05/20/1000/0.1/0.1/pythia-6.9b-deduped\n",
      "edited model exists: /pscratch/sd/m/mansisak/memorization/model_ckpts/old_run/36000/EleutherAI_edit/slim/mem/0.001/20/1000/0.1/0.1/pythia-6.9b-deduped\n",
      "edited model exists: /pscratch/sd/m/mansisak/memorization/model_ckpts/old_run/36000/EleutherAI_edit/slim/mem/0.01/20/1000/0.1/0.1/pythia-6.9b-deduped\n",
      "edited model exists: /pscratch/sd/m/mansisak/memorization/model_ckpts/old_run/36000/EleutherAI_edit/slim/mem/0.05/20/1000/0.1/0.1/pythia-6.9b-deduped\n",
      "edited model exists: /pscratch/sd/m/mansisak/memorization/model_ckpts/old_run/36000/EleutherAI_edit/durable/mem/1e-05/pythia-6.9b-deduped\n",
      "edited model exists: /pscratch/sd/m/mansisak/memorization/model_ckpts/old_run/36000/EleutherAI_edit/durable/mem/0.0001/pythia-6.9b-deduped\n",
      "edited model exists: /pscratch/sd/m/mansisak/memorization/model_ckpts/old_run/36000/EleutherAI_edit/durable/mem/0.001/pythia-6.9b-deduped\n",
      "edited model exists: /pscratch/sd/m/mansisak/memorization/model_ckpts/old_run/36000/EleutherAI_edit/durable/mem/0.01/pythia-6.9b-deduped\n",
      "edited model exists: /pscratch/sd/m/mansisak/memorization/model_ckpts/old_run/36000/EleutherAI_edit/durable/mem/0.05/pythia-6.9b-deduped\n",
      "edited model exists: /pscratch/sd/m/mansisak/memorization/model_ckpts/old_run/36000/EleutherAI_edit/durable_agg/mem/1e-05/pythia-6.9b-deduped\n",
      "edited model exists: /pscratch/sd/m/mansisak/memorization/model_ckpts/old_run/36000/EleutherAI_edit/durable_agg/mem/0.0001/pythia-6.9b-deduped\n",
      "edited model exists: /pscratch/sd/m/mansisak/memorization/model_ckpts/old_run/36000/EleutherAI_edit/durable_agg/mem/0.001/pythia-6.9b-deduped\n",
      "edited model exists: /pscratch/sd/m/mansisak/memorization/model_ckpts/old_run/36000/EleutherAI_edit/durable_agg/mem/0.01/pythia-6.9b-deduped\n",
      "edited model exists: /pscratch/sd/m/mansisak/memorization/model_ckpts/old_run/36000/EleutherAI_edit/durable_agg/mem/0.05/pythia-6.9b-deduped\n",
      "edited model exists: /pscratch/sd/m/mansisak/memorization/model_ckpts/old_run/36000/EleutherAI_edit/random/mem/1e-05/20/0.1/0.9/0.0005/pythia-6.9b-deduped\n",
      "edited model exists: /pscratch/sd/m/mansisak/memorization/model_ckpts/old_run/36000/EleutherAI_edit/random/mem/0.0001/20/0.1/0.9/0.0005/pythia-6.9b-deduped\n",
      "edited model exists: /pscratch/sd/m/mansisak/memorization/model_ckpts/old_run/36000/EleutherAI_edit/random/mem/0.001/20/0.1/0.9/0.0005/pythia-6.9b-deduped\n",
      "edited model exists: /pscratch/sd/m/mansisak/memorization/model_ckpts/old_run/36000/EleutherAI_edit/random/mem/0.01/20/0.1/0.9/0.0005/pythia-6.9b-deduped\n",
      "edited model exists: /pscratch/sd/m/mansisak/memorization/model_ckpts/old_run/36000/EleutherAI_edit/random/mem/0.05/20/0.1/0.9/0.0005/pythia-6.9b-deduped\n",
      "edited model exists: /pscratch/sd/m/mansisak/memorization/model_ckpts/old_run/36000/EleutherAI_edit/random/mem/0.1/20/0.1/0.9/0.0005/pythia-6.9b-deduped\n",
      "edited model exists: /pscratch/sd/m/mansisak/memorization/model_ckpts/old_run/36000/EleutherAI_edit/random/mem/0.25/20/0.1/0.9/0.0005/pythia-6.9b-deduped\n",
      "edited model exists: /pscratch/sd/m/mansisak/memorization/model_ckpts/old_run/36000/EleutherAI_edit/random/mem/0.3/20/0.1/0.9/0.0005/pythia-6.9b-deduped\n",
      "edited model exists: /pscratch/sd/m/mansisak/memorization/model_ckpts/old_run/36000/EleutherAI_edit/random_greedy/mem/1e-05/20/0.1/0.9/0.0005/pythia-6.9b-deduped\n",
      "edited model exists: /pscratch/sd/m/mansisak/memorization/model_ckpts/old_run/36000/EleutherAI_edit/random_greedy/mem/0.0001/20/0.1/0.9/0.0005/pythia-6.9b-deduped\n",
      "edited model exists: /pscratch/sd/m/mansisak/memorization/model_ckpts/old_run/36000/EleutherAI_edit/random_greedy/mem/0.001/20/0.1/0.9/0.0005/pythia-6.9b-deduped\n",
      "edited model exists: /pscratch/sd/m/mansisak/memorization/model_ckpts/old_run/36000/EleutherAI_edit/random_greedy/mem/0.01/20/0.1/0.9/0.0005/pythia-6.9b-deduped\n",
      "edited model exists: /pscratch/sd/m/mansisak/memorization/model_ckpts/old_run/36000/EleutherAI_edit/random_greedy/mem/0.05/20/0.1/0.9/0.0005/pythia-6.9b-deduped\n",
      "edited model exists: /pscratch/sd/m/mansisak/memorization/model_ckpts/old_run/36000/EleutherAI_edit/random_greedy/mem/0.1/20/0.1/0.9/0.0005/pythia-6.9b-deduped\n",
      "edited model exists: /pscratch/sd/m/mansisak/memorization/model_ckpts/old_run/36000/EleutherAI_edit/random_greedy/mem/0.25/20/0.1/0.9/0.0005/pythia-6.9b-deduped\n",
      "edited model exists: /pscratch/sd/m/mansisak/memorization/model_ckpts/old_run/36000/EleutherAI_edit/random_greedy/mem/0.3/20/0.1/0.9/0.0005/pythia-6.9b-deduped\n",
      "edited model doesn't exist yet:  /pscratch/sd/m/mansisak/memorization/model_ckpts/old_run/36000/EleutherAI_edit/greedy/mem/1e-05/pythia-6.9b-deduped\n",
      "edited model exists: /pscratch/sd/m/mansisak/memorization/model_ckpts/old_run/72000/EleutherAI_edit/act/mem/0.001/pythia-6.9b-deduped\n",
      "edited model exists: /pscratch/sd/m/mansisak/memorization/model_ckpts/old_run/72000/EleutherAI_edit/act/mem/0.01/pythia-6.9b-deduped\n",
      "edited model exists: /pscratch/sd/m/mansisak/memorization/model_ckpts/old_run/72000/EleutherAI_edit/act/mem/0.05/pythia-6.9b-deduped\n",
      "edited model exists: /pscratch/sd/m/mansisak/memorization/model_ckpts/old_run/72000/EleutherAI_edit/hc/mem/0.001/20/1000/0.1/0.1/pythia-6.9b-deduped\n",
      "edited model exists: /pscratch/sd/m/mansisak/memorization/model_ckpts/old_run/72000/EleutherAI_edit/hc/mem/0.01/20/1000/0.1/0.1/pythia-6.9b-deduped\n",
      "edited model exists: /pscratch/sd/m/mansisak/memorization/model_ckpts/old_run/72000/EleutherAI_edit/hc/mem/0.05/20/1000/0.1/0.1/pythia-6.9b-deduped\n",
      "edited model exists: /pscratch/sd/m/mansisak/memorization/model_ckpts/old_run/72000/EleutherAI_edit/slim/mem/0.001/20/1000/0.1/0.1/pythia-6.9b-deduped\n",
      "edited model exists: /pscratch/sd/m/mansisak/memorization/model_ckpts/old_run/72000/EleutherAI_edit/slim/mem/0.01/20/1000/0.1/0.1/pythia-6.9b-deduped\n",
      "edited model exists: /pscratch/sd/m/mansisak/memorization/model_ckpts/old_run/72000/EleutherAI_edit/slim/mem/0.05/20/1000/0.1/0.1/pythia-6.9b-deduped\n",
      "edited model exists: /pscratch/sd/m/mansisak/memorization/model_ckpts/old_run/72000/EleutherAI_edit/durable/mem/1e-05/pythia-6.9b-deduped\n",
      "edited model exists: /pscratch/sd/m/mansisak/memorization/model_ckpts/old_run/72000/EleutherAI_edit/durable/mem/0.0001/pythia-6.9b-deduped\n",
      "edited model exists: /pscratch/sd/m/mansisak/memorization/model_ckpts/old_run/72000/EleutherAI_edit/durable/mem/0.001/pythia-6.9b-deduped\n",
      "edited model exists: /pscratch/sd/m/mansisak/memorization/model_ckpts/old_run/72000/EleutherAI_edit/durable/mem/0.01/pythia-6.9b-deduped\n",
      "edited model exists: /pscratch/sd/m/mansisak/memorization/model_ckpts/old_run/72000/EleutherAI_edit/durable/mem/0.05/pythia-6.9b-deduped\n",
      "edited model exists: /pscratch/sd/m/mansisak/memorization/model_ckpts/old_run/72000/EleutherAI_edit/durable_agg/mem/1e-05/pythia-6.9b-deduped\n",
      "edited model exists: /pscratch/sd/m/mansisak/memorization/model_ckpts/old_run/72000/EleutherAI_edit/durable_agg/mem/0.0001/pythia-6.9b-deduped\n",
      "edited model exists: /pscratch/sd/m/mansisak/memorization/model_ckpts/old_run/72000/EleutherAI_edit/durable_agg/mem/0.001/pythia-6.9b-deduped\n",
      "edited model exists: /pscratch/sd/m/mansisak/memorization/model_ckpts/old_run/72000/EleutherAI_edit/durable_agg/mem/0.01/pythia-6.9b-deduped\n",
      "edited model exists: /pscratch/sd/m/mansisak/memorization/model_ckpts/old_run/72000/EleutherAI_edit/durable_agg/mem/0.05/pythia-6.9b-deduped\n",
      "edited model exists: /pscratch/sd/m/mansisak/memorization/model_ckpts/old_run/72000/EleutherAI_edit/random/mem/1e-05/20/0.1/0.9/0.0005/pythia-6.9b-deduped\n",
      "edited model exists: /pscratch/sd/m/mansisak/memorization/model_ckpts/old_run/72000/EleutherAI_edit/random/mem/0.0001/20/0.1/0.9/0.0005/pythia-6.9b-deduped\n",
      "edited model exists: /pscratch/sd/m/mansisak/memorization/model_ckpts/old_run/72000/EleutherAI_edit/random/mem/0.001/20/0.1/0.9/0.0005/pythia-6.9b-deduped\n",
      "edited model exists: /pscratch/sd/m/mansisak/memorization/model_ckpts/old_run/72000/EleutherAI_edit/random/mem/0.01/20/0.1/0.9/0.0005/pythia-6.9b-deduped\n",
      "edited model exists: /pscratch/sd/m/mansisak/memorization/model_ckpts/old_run/72000/EleutherAI_edit/random/mem/0.05/20/0.1/0.9/0.0005/pythia-6.9b-deduped\n",
      "edited model exists: /pscratch/sd/m/mansisak/memorization/model_ckpts/old_run/72000/EleutherAI_edit/random/mem/0.1/20/0.1/0.9/0.0005/pythia-6.9b-deduped\n",
      "edited model exists: /pscratch/sd/m/mansisak/memorization/model_ckpts/old_run/72000/EleutherAI_edit/random/mem/0.25/20/0.1/0.9/0.0005/pythia-6.9b-deduped\n",
      "edited model exists: /pscratch/sd/m/mansisak/memorization/model_ckpts/old_run/72000/EleutherAI_edit/random/mem/0.3/20/0.1/0.9/0.0005/pythia-6.9b-deduped\n",
      "edited model exists: /pscratch/sd/m/mansisak/memorization/model_ckpts/old_run/72000/EleutherAI_edit/random_greedy/mem/1e-05/20/0.1/0.9/0.0005/pythia-6.9b-deduped\n",
      "edited model exists: /pscratch/sd/m/mansisak/memorization/model_ckpts/old_run/72000/EleutherAI_edit/random_greedy/mem/0.0001/20/0.1/0.9/0.0005/pythia-6.9b-deduped\n",
      "edited model exists: /pscratch/sd/m/mansisak/memorization/model_ckpts/old_run/72000/EleutherAI_edit/random_greedy/mem/0.001/20/0.1/0.9/0.0005/pythia-6.9b-deduped\n",
      "edited model exists: /pscratch/sd/m/mansisak/memorization/model_ckpts/old_run/72000/EleutherAI_edit/random_greedy/mem/0.01/20/0.1/0.9/0.0005/pythia-6.9b-deduped\n",
      "edited model exists: /pscratch/sd/m/mansisak/memorization/model_ckpts/old_run/72000/EleutherAI_edit/random_greedy/mem/0.05/20/0.1/0.9/0.0005/pythia-6.9b-deduped\n",
      "edited model exists: /pscratch/sd/m/mansisak/memorization/model_ckpts/old_run/72000/EleutherAI_edit/random_greedy/mem/0.1/20/0.1/0.9/0.0005/pythia-6.9b-deduped\n",
      "edited model exists: /pscratch/sd/m/mansisak/memorization/model_ckpts/old_run/72000/EleutherAI_edit/random_greedy/mem/0.25/20/0.1/0.9/0.0005/pythia-6.9b-deduped\n",
      "edited model exists: /pscratch/sd/m/mansisak/memorization/model_ckpts/old_run/72000/EleutherAI_edit/random_greedy/mem/0.3/20/0.1/0.9/0.0005/pythia-6.9b-deduped\n",
      "edited model doesn't exist yet:  /pscratch/sd/m/mansisak/memorization/model_ckpts/old_run/72000/EleutherAI_edit/greedy/mem/1e-05/pythia-6.9b-deduped\n",
      "edited model exists: /pscratch/sd/m/mansisak/memorization/model_ckpts/old_run/108000/EleutherAI_edit/act/mem/0.001/pythia-6.9b-deduped\n",
      "edited model exists: /pscratch/sd/m/mansisak/memorization/model_ckpts/old_run/108000/EleutherAI_edit/act/mem/0.01/pythia-6.9b-deduped\n",
      "edited model exists: /pscratch/sd/m/mansisak/memorization/model_ckpts/old_run/108000/EleutherAI_edit/act/mem/0.05/pythia-6.9b-deduped\n",
      "edited model exists: /pscratch/sd/m/mansisak/memorization/model_ckpts/old_run/108000/EleutherAI_edit/hc/mem/0.001/20/1000/0.1/0.1/pythia-6.9b-deduped\n",
      "edited model exists: /pscratch/sd/m/mansisak/memorization/model_ckpts/old_run/108000/EleutherAI_edit/hc/mem/0.01/20/1000/0.1/0.1/pythia-6.9b-deduped\n",
      "edited model exists: /pscratch/sd/m/mansisak/memorization/model_ckpts/old_run/108000/EleutherAI_edit/hc/mem/0.05/20/1000/0.1/0.1/pythia-6.9b-deduped\n",
      "edited model exists: /pscratch/sd/m/mansisak/memorization/model_ckpts/old_run/108000/EleutherAI_edit/slim/mem/0.001/20/1000/0.1/0.1/pythia-6.9b-deduped\n",
      "edited model exists: /pscratch/sd/m/mansisak/memorization/model_ckpts/old_run/108000/EleutherAI_edit/slim/mem/0.01/20/1000/0.1/0.1/pythia-6.9b-deduped\n",
      "edited model exists: /pscratch/sd/m/mansisak/memorization/model_ckpts/old_run/108000/EleutherAI_edit/slim/mem/0.05/20/1000/0.1/0.1/pythia-6.9b-deduped\n",
      "edited model exists: /pscratch/sd/m/mansisak/memorization/model_ckpts/old_run/108000/EleutherAI_edit/durable/mem/1e-05/pythia-6.9b-deduped\n",
      "edited model exists: /pscratch/sd/m/mansisak/memorization/model_ckpts/old_run/108000/EleutherAI_edit/durable/mem/0.0001/pythia-6.9b-deduped\n",
      "edited model exists: /pscratch/sd/m/mansisak/memorization/model_ckpts/old_run/108000/EleutherAI_edit/durable/mem/0.001/pythia-6.9b-deduped\n",
      "edited model exists: /pscratch/sd/m/mansisak/memorization/model_ckpts/old_run/108000/EleutherAI_edit/durable/mem/0.01/pythia-6.9b-deduped\n",
      "edited model exists: /pscratch/sd/m/mansisak/memorization/model_ckpts/old_run/108000/EleutherAI_edit/durable/mem/0.05/pythia-6.9b-deduped\n",
      "edited model exists: /pscratch/sd/m/mansisak/memorization/model_ckpts/old_run/108000/EleutherAI_edit/durable_agg/mem/1e-05/pythia-6.9b-deduped\n",
      "edited model exists: /pscratch/sd/m/mansisak/memorization/model_ckpts/old_run/108000/EleutherAI_edit/durable_agg/mem/0.0001/pythia-6.9b-deduped\n",
      "edited model exists: /pscratch/sd/m/mansisak/memorization/model_ckpts/old_run/108000/EleutherAI_edit/durable_agg/mem/0.001/pythia-6.9b-deduped\n",
      "edited model exists: /pscratch/sd/m/mansisak/memorization/model_ckpts/old_run/108000/EleutherAI_edit/durable_agg/mem/0.01/pythia-6.9b-deduped\n",
      "edited model exists: /pscratch/sd/m/mansisak/memorization/model_ckpts/old_run/108000/EleutherAI_edit/durable_agg/mem/0.05/pythia-6.9b-deduped\n",
      "edited model exists: /pscratch/sd/m/mansisak/memorization/model_ckpts/old_run/108000/EleutherAI_edit/random/mem/1e-05/20/0.1/0.9/0.0005/pythia-6.9b-deduped\n",
      "edited model exists: /pscratch/sd/m/mansisak/memorization/model_ckpts/old_run/108000/EleutherAI_edit/random/mem/0.0001/20/0.1/0.9/0.0005/pythia-6.9b-deduped\n",
      "edited model exists: /pscratch/sd/m/mansisak/memorization/model_ckpts/old_run/108000/EleutherAI_edit/random/mem/0.001/20/0.1/0.9/0.0005/pythia-6.9b-deduped\n",
      "edited model exists: /pscratch/sd/m/mansisak/memorization/model_ckpts/old_run/108000/EleutherAI_edit/random/mem/0.01/20/0.1/0.9/0.0005/pythia-6.9b-deduped\n",
      "edited model exists: /pscratch/sd/m/mansisak/memorization/model_ckpts/old_run/108000/EleutherAI_edit/random/mem/0.05/20/0.1/0.9/0.0005/pythia-6.9b-deduped\n",
      "edited model exists: /pscratch/sd/m/mansisak/memorization/model_ckpts/old_run/108000/EleutherAI_edit/random/mem/0.1/20/0.1/0.9/0.0005/pythia-6.9b-deduped\n",
      "edited model exists: /pscratch/sd/m/mansisak/memorization/model_ckpts/old_run/108000/EleutherAI_edit/random/mem/0.25/20/0.1/0.9/0.0005/pythia-6.9b-deduped\n",
      "edited model exists: /pscratch/sd/m/mansisak/memorization/model_ckpts/old_run/108000/EleutherAI_edit/random/mem/0.3/20/0.1/0.9/0.0005/pythia-6.9b-deduped\n",
      "edited model exists: /pscratch/sd/m/mansisak/memorization/model_ckpts/old_run/108000/EleutherAI_edit/random_greedy/mem/1e-05/20/0.1/0.9/0.0005/pythia-6.9b-deduped\n",
      "edited model exists: /pscratch/sd/m/mansisak/memorization/model_ckpts/old_run/108000/EleutherAI_edit/random_greedy/mem/0.0001/20/0.1/0.9/0.0005/pythia-6.9b-deduped\n",
      "edited model exists: /pscratch/sd/m/mansisak/memorization/model_ckpts/old_run/108000/EleutherAI_edit/random_greedy/mem/0.001/20/0.1/0.9/0.0005/pythia-6.9b-deduped\n",
      "edited model exists: /pscratch/sd/m/mansisak/memorization/model_ckpts/old_run/108000/EleutherAI_edit/random_greedy/mem/0.01/20/0.1/0.9/0.0005/pythia-6.9b-deduped\n",
      "edited model exists: /pscratch/sd/m/mansisak/memorization/model_ckpts/old_run/108000/EleutherAI_edit/random_greedy/mem/0.05/20/0.1/0.9/0.0005/pythia-6.9b-deduped\n",
      "edited model exists: /pscratch/sd/m/mansisak/memorization/model_ckpts/old_run/108000/EleutherAI_edit/random_greedy/mem/0.1/20/0.1/0.9/0.0005/pythia-6.9b-deduped\n",
      "edited model exists: /pscratch/sd/m/mansisak/memorization/model_ckpts/old_run/108000/EleutherAI_edit/random_greedy/mem/0.25/20/0.1/0.9/0.0005/pythia-6.9b-deduped\n",
      "edited model exists: /pscratch/sd/m/mansisak/memorization/model_ckpts/old_run/108000/EleutherAI_edit/random_greedy/mem/0.3/20/0.1/0.9/0.0005/pythia-6.9b-deduped\n",
      "edited model doesn't exist yet:  /pscratch/sd/m/mansisak/memorization/model_ckpts/old_run/108000/EleutherAI_edit/greedy/mem/1e-05/pythia-6.9b-deduped\n",
      "edited model exists: /pscratch/sd/m/mansisak/memorization/model_ckpts/old_run/143000/EleutherAI_edit/act/mem/0.001/pythia-6.9b-deduped\n",
      "edited model exists: /pscratch/sd/m/mansisak/memorization/model_ckpts/old_run/143000/EleutherAI_edit/act/mem/0.01/pythia-6.9b-deduped\n",
      "edited model exists: /pscratch/sd/m/mansisak/memorization/model_ckpts/old_run/143000/EleutherAI_edit/act/mem/0.05/pythia-6.9b-deduped\n",
      "edited model exists: /pscratch/sd/m/mansisak/memorization/model_ckpts/old_run/143000/EleutherAI_edit/hc/mem/0.001/20/1000/0.1/0.1/pythia-6.9b-deduped\n",
      "edited model exists: /pscratch/sd/m/mansisak/memorization/model_ckpts/old_run/143000/EleutherAI_edit/hc/mem/0.01/20/1000/0.1/0.1/pythia-6.9b-deduped\n",
      "edited model exists: /pscratch/sd/m/mansisak/memorization/model_ckpts/old_run/143000/EleutherAI_edit/hc/mem/0.05/20/1000/0.1/0.1/pythia-6.9b-deduped\n",
      "edited model exists: /pscratch/sd/m/mansisak/memorization/model_ckpts/old_run/143000/EleutherAI_edit/slim/mem/0.001/20/1000/0.1/0.1/pythia-6.9b-deduped\n",
      "edited model exists: /pscratch/sd/m/mansisak/memorization/model_ckpts/old_run/143000/EleutherAI_edit/slim/mem/0.01/20/1000/0.1/0.1/pythia-6.9b-deduped\n",
      "edited model exists: /pscratch/sd/m/mansisak/memorization/model_ckpts/old_run/143000/EleutherAI_edit/slim/mem/0.05/20/1000/0.1/0.1/pythia-6.9b-deduped\n",
      "edited model exists: /pscratch/sd/m/mansisak/memorization/model_ckpts/old_run/143000/EleutherAI_edit/durable/mem/1e-05/pythia-6.9b-deduped\n",
      "edited model exists: /pscratch/sd/m/mansisak/memorization/model_ckpts/old_run/143000/EleutherAI_edit/durable/mem/0.0001/pythia-6.9b-deduped\n",
      "edited model exists: /pscratch/sd/m/mansisak/memorization/model_ckpts/old_run/143000/EleutherAI_edit/durable/mem/0.001/pythia-6.9b-deduped\n",
      "edited model exists: /pscratch/sd/m/mansisak/memorization/model_ckpts/old_run/143000/EleutherAI_edit/durable/mem/0.01/pythia-6.9b-deduped\n",
      "edited model exists: /pscratch/sd/m/mansisak/memorization/model_ckpts/old_run/143000/EleutherAI_edit/durable/mem/0.05/pythia-6.9b-deduped\n",
      "edited model exists: /pscratch/sd/m/mansisak/memorization/model_ckpts/old_run/143000/EleutherAI_edit/durable_agg/mem/1e-05/pythia-6.9b-deduped\n",
      "edited model exists: /pscratch/sd/m/mansisak/memorization/model_ckpts/old_run/143000/EleutherAI_edit/durable_agg/mem/0.0001/pythia-6.9b-deduped\n",
      "edited model exists: /pscratch/sd/m/mansisak/memorization/model_ckpts/old_run/143000/EleutherAI_edit/durable_agg/mem/0.001/pythia-6.9b-deduped\n",
      "edited model exists: /pscratch/sd/m/mansisak/memorization/model_ckpts/old_run/143000/EleutherAI_edit/durable_agg/mem/0.01/pythia-6.9b-deduped\n",
      "edited model exists: /pscratch/sd/m/mansisak/memorization/model_ckpts/old_run/143000/EleutherAI_edit/durable_agg/mem/0.05/pythia-6.9b-deduped\n",
      "edited model exists: /pscratch/sd/m/mansisak/memorization/model_ckpts/old_run/143000/EleutherAI_edit/random/mem/1e-05/20/0.1/0.9/0.0005/pythia-6.9b-deduped\n",
      "edited model exists: /pscratch/sd/m/mansisak/memorization/model_ckpts/old_run/143000/EleutherAI_edit/random/mem/0.0001/20/0.1/0.9/0.0005/pythia-6.9b-deduped\n",
      "edited model exists: /pscratch/sd/m/mansisak/memorization/model_ckpts/old_run/143000/EleutherAI_edit/random/mem/0.001/20/0.1/0.9/0.0005/pythia-6.9b-deduped\n",
      "edited model exists: /pscratch/sd/m/mansisak/memorization/model_ckpts/old_run/143000/EleutherAI_edit/random/mem/0.01/20/0.1/0.9/0.0005/pythia-6.9b-deduped\n",
      "edited model exists: /pscratch/sd/m/mansisak/memorization/model_ckpts/old_run/143000/EleutherAI_edit/random/mem/0.05/20/0.1/0.9/0.0005/pythia-6.9b-deduped\n",
      "edited model exists: /pscratch/sd/m/mansisak/memorization/model_ckpts/old_run/143000/EleutherAI_edit/random/mem/0.1/20/0.1/0.9/0.0005/pythia-6.9b-deduped\n",
      "edited model exists: /pscratch/sd/m/mansisak/memorization/model_ckpts/old_run/143000/EleutherAI_edit/random/mem/0.25/20/0.1/0.9/0.0005/pythia-6.9b-deduped\n",
      "edited model exists: /pscratch/sd/m/mansisak/memorization/model_ckpts/old_run/143000/EleutherAI_edit/random/mem/0.3/20/0.1/0.9/0.0005/pythia-6.9b-deduped\n",
      "edited model exists: /pscratch/sd/m/mansisak/memorization/model_ckpts/old_run/143000/EleutherAI_edit/random_greedy/mem/1e-05/20/0.1/0.9/0.0005/pythia-6.9b-deduped\n",
      "edited model exists: /pscratch/sd/m/mansisak/memorization/model_ckpts/old_run/143000/EleutherAI_edit/random_greedy/mem/0.0001/20/0.1/0.9/0.0005/pythia-6.9b-deduped\n",
      "edited model exists: /pscratch/sd/m/mansisak/memorization/model_ckpts/old_run/143000/EleutherAI_edit/random_greedy/mem/0.001/20/0.1/0.9/0.0005/pythia-6.9b-deduped\n",
      "edited model exists: /pscratch/sd/m/mansisak/memorization/model_ckpts/old_run/143000/EleutherAI_edit/random_greedy/mem/0.01/20/0.1/0.9/0.0005/pythia-6.9b-deduped\n",
      "edited model exists: /pscratch/sd/m/mansisak/memorization/model_ckpts/old_run/143000/EleutherAI_edit/random_greedy/mem/0.05/20/0.1/0.9/0.0005/pythia-6.9b-deduped\n",
      "edited model exists: /pscratch/sd/m/mansisak/memorization/model_ckpts/old_run/143000/EleutherAI_edit/random_greedy/mem/0.1/20/0.1/0.9/0.0005/pythia-6.9b-deduped\n",
      "edited model exists: /pscratch/sd/m/mansisak/memorization/model_ckpts/old_run/143000/EleutherAI_edit/random_greedy/mem/0.25/20/0.1/0.9/0.0005/pythia-6.9b-deduped\n",
      "edited model exists: /pscratch/sd/m/mansisak/memorization/model_ckpts/old_run/143000/EleutherAI_edit/random_greedy/mem/0.3/20/0.1/0.9/0.0005/pythia-6.9b-deduped\n",
      "edited model doesn't exist yet:  /pscratch/sd/m/mansisak/memorization/model_ckpts/old_run/143000/EleutherAI_edit/greedy/mem/1e-05/pythia-6.9b-deduped\n",
      "edited model exists: /pscratch/sd/m/mansisak/memorization/model_ckpts/old_run/36000/EleutherAI_edit/act/mem/0.001/pythia-2.8b-deduped\n",
      "edited model exists: /pscratch/sd/m/mansisak/memorization/model_ckpts/old_run/36000/EleutherAI_edit/act/mem/0.01/pythia-2.8b-deduped\n",
      "edited model exists: /pscratch/sd/m/mansisak/memorization/model_ckpts/old_run/36000/EleutherAI_edit/act/mem/0.05/pythia-2.8b-deduped\n",
      "edited model exists: /pscratch/sd/m/mansisak/memorization/model_ckpts/old_run/36000/EleutherAI_edit/hc/mem/0.001/20/1000/0.1/0.1/pythia-2.8b-deduped\n",
      "edited model exists: /pscratch/sd/m/mansisak/memorization/model_ckpts/old_run/36000/EleutherAI_edit/hc/mem/0.01/20/1000/0.1/0.1/pythia-2.8b-deduped\n",
      "edited model exists: /pscratch/sd/m/mansisak/memorization/model_ckpts/old_run/36000/EleutherAI_edit/hc/mem/0.05/20/1000/0.1/0.1/pythia-2.8b-deduped\n",
      "edited model exists: /pscratch/sd/m/mansisak/memorization/model_ckpts/old_run/36000/EleutherAI_edit/slim/mem/0.001/20/1000/0.1/0.1/pythia-2.8b-deduped\n",
      "edited model exists: /pscratch/sd/m/mansisak/memorization/model_ckpts/old_run/36000/EleutherAI_edit/slim/mem/0.01/20/1000/0.1/0.1/pythia-2.8b-deduped\n",
      "edited model exists: /pscratch/sd/m/mansisak/memorization/model_ckpts/old_run/36000/EleutherAI_edit/slim/mem/0.05/20/1000/0.1/0.1/pythia-2.8b-deduped\n",
      "edited model exists: /pscratch/sd/m/mansisak/memorization/model_ckpts/old_run/36000/EleutherAI_edit/durable/mem/1e-05/pythia-2.8b-deduped\n",
      "edited model exists: /pscratch/sd/m/mansisak/memorization/model_ckpts/old_run/36000/EleutherAI_edit/durable/mem/0.0001/pythia-2.8b-deduped\n",
      "edited model exists: /pscratch/sd/m/mansisak/memorization/model_ckpts/old_run/36000/EleutherAI_edit/durable/mem/0.001/pythia-2.8b-deduped\n",
      "edited model exists: /pscratch/sd/m/mansisak/memorization/model_ckpts/old_run/36000/EleutherAI_edit/durable/mem/0.01/pythia-2.8b-deduped\n",
      "edited model exists: /pscratch/sd/m/mansisak/memorization/model_ckpts/old_run/36000/EleutherAI_edit/durable/mem/0.05/pythia-2.8b-deduped\n",
      "edited model exists: /pscratch/sd/m/mansisak/memorization/model_ckpts/old_run/36000/EleutherAI_edit/durable_agg/mem/1e-05/pythia-2.8b-deduped\n",
      "edited model exists: /pscratch/sd/m/mansisak/memorization/model_ckpts/old_run/36000/EleutherAI_edit/durable_agg/mem/0.0001/pythia-2.8b-deduped\n",
      "edited model exists: /pscratch/sd/m/mansisak/memorization/model_ckpts/old_run/36000/EleutherAI_edit/durable_agg/mem/0.001/pythia-2.8b-deduped\n",
      "edited model exists: /pscratch/sd/m/mansisak/memorization/model_ckpts/old_run/36000/EleutherAI_edit/durable_agg/mem/0.01/pythia-2.8b-deduped\n",
      "edited model exists: /pscratch/sd/m/mansisak/memorization/model_ckpts/old_run/36000/EleutherAI_edit/durable_agg/mem/0.05/pythia-2.8b-deduped\n",
      "edited model exists: /pscratch/sd/m/mansisak/memorization/model_ckpts/old_run/36000/EleutherAI_edit/random/mem/1e-05/20/0.1/0.9/0.0005/pythia-2.8b-deduped\n",
      "edited model exists: /pscratch/sd/m/mansisak/memorization/model_ckpts/old_run/36000/EleutherAI_edit/random/mem/0.0001/20/0.1/0.9/0.0005/pythia-2.8b-deduped\n",
      "edited model exists: /pscratch/sd/m/mansisak/memorization/model_ckpts/old_run/36000/EleutherAI_edit/random/mem/0.001/20/0.1/0.9/0.0005/pythia-2.8b-deduped\n",
      "edited model exists: /pscratch/sd/m/mansisak/memorization/model_ckpts/old_run/36000/EleutherAI_edit/random/mem/0.01/20/0.1/0.9/0.0005/pythia-2.8b-deduped\n",
      "edited model exists: /pscratch/sd/m/mansisak/memorization/model_ckpts/old_run/36000/EleutherAI_edit/random/mem/0.05/20/0.1/0.9/0.0005/pythia-2.8b-deduped\n",
      "edited model exists: /pscratch/sd/m/mansisak/memorization/model_ckpts/old_run/36000/EleutherAI_edit/random/mem/0.1/20/0.1/0.9/0.0005/pythia-2.8b-deduped\n",
      "edited model exists: /pscratch/sd/m/mansisak/memorization/model_ckpts/old_run/36000/EleutherAI_edit/random/mem/0.25/20/0.1/0.9/0.0005/pythia-2.8b-deduped\n",
      "edited model exists: /pscratch/sd/m/mansisak/memorization/model_ckpts/old_run/36000/EleutherAI_edit/random/mem/0.3/20/0.1/0.9/0.0005/pythia-2.8b-deduped\n",
      "edited model exists: /pscratch/sd/m/mansisak/memorization/model_ckpts/old_run/36000/EleutherAI_edit/random_greedy/mem/1e-05/20/0.1/0.9/0.0005/pythia-2.8b-deduped\n",
      "edited model exists: /pscratch/sd/m/mansisak/memorization/model_ckpts/old_run/36000/EleutherAI_edit/random_greedy/mem/0.0001/20/0.1/0.9/0.0005/pythia-2.8b-deduped\n",
      "edited model exists: /pscratch/sd/m/mansisak/memorization/model_ckpts/old_run/36000/EleutherAI_edit/random_greedy/mem/0.001/20/0.1/0.9/0.0005/pythia-2.8b-deduped\n",
      "edited model exists: /pscratch/sd/m/mansisak/memorization/model_ckpts/old_run/36000/EleutherAI_edit/random_greedy/mem/0.01/20/0.1/0.9/0.0005/pythia-2.8b-deduped\n",
      "edited model exists: /pscratch/sd/m/mansisak/memorization/model_ckpts/old_run/36000/EleutherAI_edit/random_greedy/mem/0.05/20/0.1/0.9/0.0005/pythia-2.8b-deduped\n",
      "edited model exists: /pscratch/sd/m/mansisak/memorization/model_ckpts/old_run/36000/EleutherAI_edit/random_greedy/mem/0.1/20/0.1/0.9/0.0005/pythia-2.8b-deduped\n",
      "edited model exists: /pscratch/sd/m/mansisak/memorization/model_ckpts/old_run/36000/EleutherAI_edit/random_greedy/mem/0.25/20/0.1/0.9/0.0005/pythia-2.8b-deduped\n",
      "edited model exists: /pscratch/sd/m/mansisak/memorization/model_ckpts/old_run/36000/EleutherAI_edit/random_greedy/mem/0.3/20/0.1/0.9/0.0005/pythia-2.8b-deduped\n",
      "edited model exists: /pscratch/sd/m/mansisak/memorization/model_ckpts/old_run/36000/EleutherAI_edit/greedy/mem/1e-05/pythia-2.8b-deduped\n",
      "edited model exists: /pscratch/sd/m/mansisak/memorization/model_ckpts/old_run/72000/EleutherAI_edit/act/mem/0.001/pythia-2.8b-deduped\n",
      "edited model exists: /pscratch/sd/m/mansisak/memorization/model_ckpts/old_run/72000/EleutherAI_edit/act/mem/0.01/pythia-2.8b-deduped\n",
      "edited model exists: /pscratch/sd/m/mansisak/memorization/model_ckpts/old_run/72000/EleutherAI_edit/act/mem/0.05/pythia-2.8b-deduped\n",
      "edited model exists: /pscratch/sd/m/mansisak/memorization/model_ckpts/old_run/72000/EleutherAI_edit/hc/mem/0.001/20/1000/0.1/0.1/pythia-2.8b-deduped\n",
      "edited model exists: /pscratch/sd/m/mansisak/memorization/model_ckpts/old_run/72000/EleutherAI_edit/hc/mem/0.01/20/1000/0.1/0.1/pythia-2.8b-deduped\n",
      "edited model exists: /pscratch/sd/m/mansisak/memorization/model_ckpts/old_run/72000/EleutherAI_edit/hc/mem/0.05/20/1000/0.1/0.1/pythia-2.8b-deduped\n",
      "edited model exists: /pscratch/sd/m/mansisak/memorization/model_ckpts/old_run/72000/EleutherAI_edit/slim/mem/0.001/20/1000/0.1/0.1/pythia-2.8b-deduped\n",
      "edited model exists: /pscratch/sd/m/mansisak/memorization/model_ckpts/old_run/72000/EleutherAI_edit/slim/mem/0.01/20/1000/0.1/0.1/pythia-2.8b-deduped\n",
      "edited model exists: /pscratch/sd/m/mansisak/memorization/model_ckpts/old_run/72000/EleutherAI_edit/slim/mem/0.05/20/1000/0.1/0.1/pythia-2.8b-deduped\n",
      "edited model exists: /pscratch/sd/m/mansisak/memorization/model_ckpts/old_run/72000/EleutherAI_edit/durable/mem/1e-05/pythia-2.8b-deduped\n",
      "edited model exists: /pscratch/sd/m/mansisak/memorization/model_ckpts/old_run/72000/EleutherAI_edit/durable/mem/0.0001/pythia-2.8b-deduped\n",
      "edited model exists: /pscratch/sd/m/mansisak/memorization/model_ckpts/old_run/72000/EleutherAI_edit/durable/mem/0.001/pythia-2.8b-deduped\n",
      "edited model exists: /pscratch/sd/m/mansisak/memorization/model_ckpts/old_run/72000/EleutherAI_edit/durable/mem/0.01/pythia-2.8b-deduped\n",
      "edited model exists: /pscratch/sd/m/mansisak/memorization/model_ckpts/old_run/72000/EleutherAI_edit/durable/mem/0.05/pythia-2.8b-deduped\n",
      "edited model exists: /pscratch/sd/m/mansisak/memorization/model_ckpts/old_run/72000/EleutherAI_edit/durable_agg/mem/1e-05/pythia-2.8b-deduped\n",
      "edited model exists: /pscratch/sd/m/mansisak/memorization/model_ckpts/old_run/72000/EleutherAI_edit/durable_agg/mem/0.0001/pythia-2.8b-deduped\n",
      "edited model exists: /pscratch/sd/m/mansisak/memorization/model_ckpts/old_run/72000/EleutherAI_edit/durable_agg/mem/0.001/pythia-2.8b-deduped\n",
      "edited model exists: /pscratch/sd/m/mansisak/memorization/model_ckpts/old_run/72000/EleutherAI_edit/durable_agg/mem/0.01/pythia-2.8b-deduped\n",
      "edited model exists: /pscratch/sd/m/mansisak/memorization/model_ckpts/old_run/72000/EleutherAI_edit/durable_agg/mem/0.05/pythia-2.8b-deduped\n",
      "edited model exists: /pscratch/sd/m/mansisak/memorization/model_ckpts/old_run/72000/EleutherAI_edit/random/mem/1e-05/20/0.1/0.9/0.0005/pythia-2.8b-deduped\n",
      "edited model exists: /pscratch/sd/m/mansisak/memorization/model_ckpts/old_run/72000/EleutherAI_edit/random/mem/0.0001/20/0.1/0.9/0.0005/pythia-2.8b-deduped\n",
      "edited model exists: /pscratch/sd/m/mansisak/memorization/model_ckpts/old_run/72000/EleutherAI_edit/random/mem/0.001/20/0.1/0.9/0.0005/pythia-2.8b-deduped\n",
      "edited model exists: /pscratch/sd/m/mansisak/memorization/model_ckpts/old_run/72000/EleutherAI_edit/random/mem/0.01/20/0.1/0.9/0.0005/pythia-2.8b-deduped\n",
      "edited model exists: /pscratch/sd/m/mansisak/memorization/model_ckpts/old_run/72000/EleutherAI_edit/random/mem/0.05/20/0.1/0.9/0.0005/pythia-2.8b-deduped\n",
      "edited model exists: /pscratch/sd/m/mansisak/memorization/model_ckpts/old_run/72000/EleutherAI_edit/random/mem/0.1/20/0.1/0.9/0.0005/pythia-2.8b-deduped\n",
      "edited model exists: /pscratch/sd/m/mansisak/memorization/model_ckpts/old_run/72000/EleutherAI_edit/random/mem/0.25/20/0.1/0.9/0.0005/pythia-2.8b-deduped\n",
      "edited model exists: /pscratch/sd/m/mansisak/memorization/model_ckpts/old_run/72000/EleutherAI_edit/random/mem/0.3/20/0.1/0.9/0.0005/pythia-2.8b-deduped\n",
      "edited model exists: /pscratch/sd/m/mansisak/memorization/model_ckpts/old_run/72000/EleutherAI_edit/random_greedy/mem/1e-05/20/0.1/0.9/0.0005/pythia-2.8b-deduped\n",
      "edited model exists: /pscratch/sd/m/mansisak/memorization/model_ckpts/old_run/72000/EleutherAI_edit/random_greedy/mem/0.0001/20/0.1/0.9/0.0005/pythia-2.8b-deduped\n",
      "edited model exists: /pscratch/sd/m/mansisak/memorization/model_ckpts/old_run/72000/EleutherAI_edit/random_greedy/mem/0.001/20/0.1/0.9/0.0005/pythia-2.8b-deduped\n",
      "edited model exists: /pscratch/sd/m/mansisak/memorization/model_ckpts/old_run/72000/EleutherAI_edit/random_greedy/mem/0.01/20/0.1/0.9/0.0005/pythia-2.8b-deduped\n",
      "edited model exists: /pscratch/sd/m/mansisak/memorization/model_ckpts/old_run/72000/EleutherAI_edit/random_greedy/mem/0.05/20/0.1/0.9/0.0005/pythia-2.8b-deduped\n",
      "edited model exists: /pscratch/sd/m/mansisak/memorization/model_ckpts/old_run/72000/EleutherAI_edit/random_greedy/mem/0.1/20/0.1/0.9/0.0005/pythia-2.8b-deduped\n",
      "edited model exists: /pscratch/sd/m/mansisak/memorization/model_ckpts/old_run/72000/EleutherAI_edit/random_greedy/mem/0.25/20/0.1/0.9/0.0005/pythia-2.8b-deduped\n",
      "edited model exists: /pscratch/sd/m/mansisak/memorization/model_ckpts/old_run/72000/EleutherAI_edit/random_greedy/mem/0.3/20/0.1/0.9/0.0005/pythia-2.8b-deduped\n",
      "edited model exists: /pscratch/sd/m/mansisak/memorization/model_ckpts/old_run/72000/EleutherAI_edit/greedy/mem/1e-05/pythia-2.8b-deduped\n",
      "edited model exists: /pscratch/sd/m/mansisak/memorization/model_ckpts/old_run/108000/EleutherAI_edit/act/mem/0.001/pythia-2.8b-deduped\n",
      "edited model exists: /pscratch/sd/m/mansisak/memorization/model_ckpts/old_run/108000/EleutherAI_edit/act/mem/0.01/pythia-2.8b-deduped\n",
      "edited model exists: /pscratch/sd/m/mansisak/memorization/model_ckpts/old_run/108000/EleutherAI_edit/act/mem/0.05/pythia-2.8b-deduped\n",
      "edited model exists: /pscratch/sd/m/mansisak/memorization/model_ckpts/old_run/108000/EleutherAI_edit/hc/mem/0.001/20/1000/0.1/0.1/pythia-2.8b-deduped\n",
      "edited model exists: /pscratch/sd/m/mansisak/memorization/model_ckpts/old_run/108000/EleutherAI_edit/hc/mem/0.01/20/1000/0.1/0.1/pythia-2.8b-deduped\n",
      "edited model exists: /pscratch/sd/m/mansisak/memorization/model_ckpts/old_run/108000/EleutherAI_edit/hc/mem/0.05/20/1000/0.1/0.1/pythia-2.8b-deduped\n",
      "edited model exists: /pscratch/sd/m/mansisak/memorization/model_ckpts/old_run/108000/EleutherAI_edit/slim/mem/0.001/20/1000/0.1/0.1/pythia-2.8b-deduped\n",
      "edited model exists: /pscratch/sd/m/mansisak/memorization/model_ckpts/old_run/108000/EleutherAI_edit/slim/mem/0.01/20/1000/0.1/0.1/pythia-2.8b-deduped\n",
      "edited model exists: /pscratch/sd/m/mansisak/memorization/model_ckpts/old_run/108000/EleutherAI_edit/slim/mem/0.05/20/1000/0.1/0.1/pythia-2.8b-deduped\n",
      "edited model exists: /pscratch/sd/m/mansisak/memorization/model_ckpts/old_run/108000/EleutherAI_edit/durable/mem/1e-05/pythia-2.8b-deduped\n",
      "edited model exists: /pscratch/sd/m/mansisak/memorization/model_ckpts/old_run/108000/EleutherAI_edit/durable/mem/0.0001/pythia-2.8b-deduped\n",
      "edited model exists: /pscratch/sd/m/mansisak/memorization/model_ckpts/old_run/108000/EleutherAI_edit/durable/mem/0.001/pythia-2.8b-deduped\n",
      "edited model exists: /pscratch/sd/m/mansisak/memorization/model_ckpts/old_run/108000/EleutherAI_edit/durable/mem/0.01/pythia-2.8b-deduped\n",
      "edited model exists: /pscratch/sd/m/mansisak/memorization/model_ckpts/old_run/108000/EleutherAI_edit/durable/mem/0.05/pythia-2.8b-deduped\n",
      "edited model exists: /pscratch/sd/m/mansisak/memorization/model_ckpts/old_run/108000/EleutherAI_edit/durable_agg/mem/1e-05/pythia-2.8b-deduped\n",
      "edited model exists: /pscratch/sd/m/mansisak/memorization/model_ckpts/old_run/108000/EleutherAI_edit/durable_agg/mem/0.0001/pythia-2.8b-deduped\n",
      "edited model exists: /pscratch/sd/m/mansisak/memorization/model_ckpts/old_run/108000/EleutherAI_edit/durable_agg/mem/0.001/pythia-2.8b-deduped\n",
      "edited model exists: /pscratch/sd/m/mansisak/memorization/model_ckpts/old_run/108000/EleutherAI_edit/durable_agg/mem/0.01/pythia-2.8b-deduped\n",
      "edited model exists: /pscratch/sd/m/mansisak/memorization/model_ckpts/old_run/108000/EleutherAI_edit/durable_agg/mem/0.05/pythia-2.8b-deduped\n",
      "edited model exists: /pscratch/sd/m/mansisak/memorization/model_ckpts/old_run/108000/EleutherAI_edit/random/mem/1e-05/20/0.1/0.9/0.0005/pythia-2.8b-deduped\n",
      "edited model exists: /pscratch/sd/m/mansisak/memorization/model_ckpts/old_run/108000/EleutherAI_edit/random/mem/0.0001/20/0.1/0.9/0.0005/pythia-2.8b-deduped\n",
      "edited model exists: /pscratch/sd/m/mansisak/memorization/model_ckpts/old_run/108000/EleutherAI_edit/random/mem/0.001/20/0.1/0.9/0.0005/pythia-2.8b-deduped\n",
      "edited model exists: /pscratch/sd/m/mansisak/memorization/model_ckpts/old_run/108000/EleutherAI_edit/random/mem/0.01/20/0.1/0.9/0.0005/pythia-2.8b-deduped\n",
      "edited model exists: /pscratch/sd/m/mansisak/memorization/model_ckpts/old_run/108000/EleutherAI_edit/random/mem/0.05/20/0.1/0.9/0.0005/pythia-2.8b-deduped\n",
      "edited model exists: /pscratch/sd/m/mansisak/memorization/model_ckpts/old_run/108000/EleutherAI_edit/random/mem/0.1/20/0.1/0.9/0.0005/pythia-2.8b-deduped\n",
      "edited model exists: /pscratch/sd/m/mansisak/memorization/model_ckpts/old_run/108000/EleutherAI_edit/random/mem/0.25/20/0.1/0.9/0.0005/pythia-2.8b-deduped\n",
      "edited model exists: /pscratch/sd/m/mansisak/memorization/model_ckpts/old_run/108000/EleutherAI_edit/random/mem/0.3/20/0.1/0.9/0.0005/pythia-2.8b-deduped\n",
      "edited model exists: /pscratch/sd/m/mansisak/memorization/model_ckpts/old_run/108000/EleutherAI_edit/random_greedy/mem/1e-05/20/0.1/0.9/0.0005/pythia-2.8b-deduped\n",
      "edited model exists: /pscratch/sd/m/mansisak/memorization/model_ckpts/old_run/108000/EleutherAI_edit/random_greedy/mem/0.0001/20/0.1/0.9/0.0005/pythia-2.8b-deduped\n",
      "edited model exists: /pscratch/sd/m/mansisak/memorization/model_ckpts/old_run/108000/EleutherAI_edit/random_greedy/mem/0.001/20/0.1/0.9/0.0005/pythia-2.8b-deduped\n",
      "edited model exists: /pscratch/sd/m/mansisak/memorization/model_ckpts/old_run/108000/EleutherAI_edit/random_greedy/mem/0.01/20/0.1/0.9/0.0005/pythia-2.8b-deduped\n",
      "edited model exists: /pscratch/sd/m/mansisak/memorization/model_ckpts/old_run/108000/EleutherAI_edit/random_greedy/mem/0.05/20/0.1/0.9/0.0005/pythia-2.8b-deduped\n",
      "edited model exists: /pscratch/sd/m/mansisak/memorization/model_ckpts/old_run/108000/EleutherAI_edit/random_greedy/mem/0.1/20/0.1/0.9/0.0005/pythia-2.8b-deduped\n",
      "edited model exists: /pscratch/sd/m/mansisak/memorization/model_ckpts/old_run/108000/EleutherAI_edit/random_greedy/mem/0.25/20/0.1/0.9/0.0005/pythia-2.8b-deduped\n",
      "edited model exists: /pscratch/sd/m/mansisak/memorization/model_ckpts/old_run/108000/EleutherAI_edit/random_greedy/mem/0.3/20/0.1/0.9/0.0005/pythia-2.8b-deduped\n",
      "edited model exists: /pscratch/sd/m/mansisak/memorization/model_ckpts/old_run/108000/EleutherAI_edit/greedy/mem/1e-05/pythia-2.8b-deduped\n",
      "edited model exists: /pscratch/sd/m/mansisak/memorization/model_ckpts/old_run/143000/EleutherAI_edit/act/mem/0.001/pythia-2.8b-deduped\n",
      "edited model exists: /pscratch/sd/m/mansisak/memorization/model_ckpts/old_run/143000/EleutherAI_edit/act/mem/0.01/pythia-2.8b-deduped\n",
      "edited model exists: /pscratch/sd/m/mansisak/memorization/model_ckpts/old_run/143000/EleutherAI_edit/act/mem/0.05/pythia-2.8b-deduped\n",
      "edited model exists: /pscratch/sd/m/mansisak/memorization/model_ckpts/old_run/143000/EleutherAI_edit/hc/mem/0.001/20/1000/0.1/0.1/pythia-2.8b-deduped\n",
      "edited model exists: /pscratch/sd/m/mansisak/memorization/model_ckpts/old_run/143000/EleutherAI_edit/hc/mem/0.01/20/1000/0.1/0.1/pythia-2.8b-deduped\n",
      "edited model exists: /pscratch/sd/m/mansisak/memorization/model_ckpts/old_run/143000/EleutherAI_edit/hc/mem/0.05/20/1000/0.1/0.1/pythia-2.8b-deduped\n",
      "edited model exists: /pscratch/sd/m/mansisak/memorization/model_ckpts/old_run/143000/EleutherAI_edit/slim/mem/0.001/20/1000/0.1/0.1/pythia-2.8b-deduped\n",
      "edited model exists: /pscratch/sd/m/mansisak/memorization/model_ckpts/old_run/143000/EleutherAI_edit/slim/mem/0.01/20/1000/0.1/0.1/pythia-2.8b-deduped\n",
      "edited model exists: /pscratch/sd/m/mansisak/memorization/model_ckpts/old_run/143000/EleutherAI_edit/slim/mem/0.05/20/1000/0.1/0.1/pythia-2.8b-deduped\n",
      "edited model exists: /pscratch/sd/m/mansisak/memorization/model_ckpts/old_run/143000/EleutherAI_edit/durable/mem/1e-05/pythia-2.8b-deduped\n",
      "edited model exists: /pscratch/sd/m/mansisak/memorization/model_ckpts/old_run/143000/EleutherAI_edit/durable/mem/0.0001/pythia-2.8b-deduped\n",
      "edited model exists: /pscratch/sd/m/mansisak/memorization/model_ckpts/old_run/143000/EleutherAI_edit/durable/mem/0.001/pythia-2.8b-deduped\n",
      "edited model exists: /pscratch/sd/m/mansisak/memorization/model_ckpts/old_run/143000/EleutherAI_edit/durable/mem/0.01/pythia-2.8b-deduped\n",
      "edited model exists: /pscratch/sd/m/mansisak/memorization/model_ckpts/old_run/143000/EleutherAI_edit/durable/mem/0.05/pythia-2.8b-deduped\n",
      "edited model exists: /pscratch/sd/m/mansisak/memorization/model_ckpts/old_run/143000/EleutherAI_edit/durable_agg/mem/1e-05/pythia-2.8b-deduped\n",
      "edited model exists: /pscratch/sd/m/mansisak/memorization/model_ckpts/old_run/143000/EleutherAI_edit/durable_agg/mem/0.0001/pythia-2.8b-deduped\n",
      "edited model exists: /pscratch/sd/m/mansisak/memorization/model_ckpts/old_run/143000/EleutherAI_edit/durable_agg/mem/0.001/pythia-2.8b-deduped\n",
      "edited model exists: /pscratch/sd/m/mansisak/memorization/model_ckpts/old_run/143000/EleutherAI_edit/durable_agg/mem/0.01/pythia-2.8b-deduped\n",
      "edited model exists: /pscratch/sd/m/mansisak/memorization/model_ckpts/old_run/143000/EleutherAI_edit/durable_agg/mem/0.05/pythia-2.8b-deduped\n",
      "edited model exists: /pscratch/sd/m/mansisak/memorization/model_ckpts/old_run/143000/EleutherAI_edit/random/mem/1e-05/20/0.1/0.9/0.0005/pythia-2.8b-deduped\n",
      "edited model exists: /pscratch/sd/m/mansisak/memorization/model_ckpts/old_run/143000/EleutherAI_edit/random/mem/0.0001/20/0.1/0.9/0.0005/pythia-2.8b-deduped\n",
      "edited model exists: /pscratch/sd/m/mansisak/memorization/model_ckpts/old_run/143000/EleutherAI_edit/random/mem/0.001/20/0.1/0.9/0.0005/pythia-2.8b-deduped\n",
      "edited model exists: /pscratch/sd/m/mansisak/memorization/model_ckpts/old_run/143000/EleutherAI_edit/random/mem/0.01/20/0.1/0.9/0.0005/pythia-2.8b-deduped\n",
      "edited model exists: /pscratch/sd/m/mansisak/memorization/model_ckpts/old_run/143000/EleutherAI_edit/random/mem/0.05/20/0.1/0.9/0.0005/pythia-2.8b-deduped\n",
      "edited model exists: /pscratch/sd/m/mansisak/memorization/model_ckpts/old_run/143000/EleutherAI_edit/random/mem/0.1/20/0.1/0.9/0.0005/pythia-2.8b-deduped\n",
      "edited model exists: /pscratch/sd/m/mansisak/memorization/model_ckpts/old_run/143000/EleutherAI_edit/random/mem/0.25/20/0.1/0.9/0.0005/pythia-2.8b-deduped\n",
      "edited model exists: /pscratch/sd/m/mansisak/memorization/model_ckpts/old_run/143000/EleutherAI_edit/random/mem/0.3/20/0.1/0.9/0.0005/pythia-2.8b-deduped\n",
      "edited model exists: /pscratch/sd/m/mansisak/memorization/model_ckpts/old_run/143000/EleutherAI_edit/random_greedy/mem/1e-05/20/0.1/0.9/0.0005/pythia-2.8b-deduped\n",
      "edited model exists: /pscratch/sd/m/mansisak/memorization/model_ckpts/old_run/143000/EleutherAI_edit/random_greedy/mem/0.0001/20/0.1/0.9/0.0005/pythia-2.8b-deduped\n",
      "edited model exists: /pscratch/sd/m/mansisak/memorization/model_ckpts/old_run/143000/EleutherAI_edit/random_greedy/mem/0.001/20/0.1/0.9/0.0005/pythia-2.8b-deduped\n",
      "edited model exists: /pscratch/sd/m/mansisak/memorization/model_ckpts/old_run/143000/EleutherAI_edit/random_greedy/mem/0.01/20/0.1/0.9/0.0005/pythia-2.8b-deduped\n",
      "edited model exists: /pscratch/sd/m/mansisak/memorization/model_ckpts/old_run/143000/EleutherAI_edit/random_greedy/mem/0.05/20/0.1/0.9/0.0005/pythia-2.8b-deduped\n",
      "edited model exists: /pscratch/sd/m/mansisak/memorization/model_ckpts/old_run/143000/EleutherAI_edit/random_greedy/mem/0.1/20/0.1/0.9/0.0005/pythia-2.8b-deduped\n",
      "edited model exists: /pscratch/sd/m/mansisak/memorization/model_ckpts/old_run/143000/EleutherAI_edit/random_greedy/mem/0.25/20/0.1/0.9/0.0005/pythia-2.8b-deduped\n",
      "edited model exists: /pscratch/sd/m/mansisak/memorization/model_ckpts/old_run/143000/EleutherAI_edit/random_greedy/mem/0.3/20/0.1/0.9/0.0005/pythia-2.8b-deduped\n",
      "edited model exists: /pscratch/sd/m/mansisak/memorization/model_ckpts/old_run/143000/EleutherAI_edit/greedy/mem/1e-05/pythia-2.8b-deduped\n",
      "total_expeirments:  640\n"
     ]
    }
   ],
   "source": [
    "# parent_path = \"/pscratch/sd/m/mansisak/memorization/model_ckpts/\"\n",
    "parent_path = \"/pscratch/sd/m/mansisak/memorization/model_ckpts/old_run/\"\n",
    "\n",
    "print_edited_model_paths(parent_path)"
   ]
  },
  {
   "cell_type": "code",
   "execution_count": 57,
   "id": "2c036efd-bbcd-4a48-b8c6-b2f74155fd00",
   "metadata": {
    "tags": []
   },
   "outputs": [
    {
     "data": {
      "text/plain": [
       "GPTNeoXForCausalLM(\n",
       "  (gpt_neox): GPTNeoXModel(\n",
       "    (embed_in): Embedding(50304, 2560)\n",
       "    (emb_dropout): Dropout(p=0.0, inplace=False)\n",
       "    (layers): ModuleList(\n",
       "      (0-31): 32 x GPTNeoXLayer(\n",
       "        (input_layernorm): LayerNorm((2560,), eps=1e-05, elementwise_affine=True)\n",
       "        (post_attention_layernorm): LayerNorm((2560,), eps=1e-05, elementwise_affine=True)\n",
       "        (post_attention_dropout): Dropout(p=0.0, inplace=False)\n",
       "        (post_mlp_dropout): Dropout(p=0.0, inplace=False)\n",
       "        (attention): GPTNeoXAttention(\n",
       "          (rotary_emb): GPTNeoXRotaryEmbedding()\n",
       "          (query_key_value): Linear(in_features=2560, out_features=7680, bias=True)\n",
       "          (dense): Linear(in_features=2560, out_features=2560, bias=True)\n",
       "          (attention_dropout): Dropout(p=0.0, inplace=False)\n",
       "        )\n",
       "        (mlp): GPTNeoXMLP(\n",
       "          (dense_h_to_4h): Linear(in_features=2560, out_features=10240, bias=True)\n",
       "          (dense_4h_to_h): Linear(in_features=10240, out_features=2560, bias=True)\n",
       "          (act): GELUActivation()\n",
       "        )\n",
       "      )\n",
       "    )\n",
       "    (final_layer_norm): LayerNorm((2560,), eps=1e-05, elementwise_affine=True)\n",
       "  )\n",
       "  (embed_out): Linear(in_features=2560, out_features=50304, bias=False)\n",
       ")"
      ]
     },
     "execution_count": 57,
     "metadata": {},
     "output_type": "execute_result"
    }
   ],
   "source": [
    "# Example of how to load in a model:\n",
    "\n",
    "model = AutoModelForCausalLM.from_pretrained(\n",
    "    \"EleutherAI/pythia-2.8b-deduped\",\n",
    "    torch_dtype=torch.float16,\n",
    "    device_map=device\n",
    ")\n",
    "\n",
    "# sd_path = '/pscratch/sd/m/mansisak/memorization/model_ckpts/old_run/143000/EleutherAI_edit/random_greedy/mem/0.001/20/0.1/0.9/0.0005/pythia-2.8b-deduped'\n",
    "sd_paths = dict(\n",
    "    unedited = None,\n",
    "    good_edit = \"/pscratch/sd/m/mansisak/memorization/model_ckpts/old_run/143000/EleutherAI_edit/random_greedy/mem/0.001/20/0.1/0.9/0.0005/pythia-2.8b-deduped\",\n",
    "    bad_edit = \"/pscratch/sd/m/mansisak/memorization/model_ckpts/old_run/143000/EleutherAI_edit/random/mem/0.1/20/0.1/0.9/0.0005/pythia-2.8b-deduped\",\n",
    ")\n",
    "\n",
    "# choose which model to load\n",
    "use_model = \"bad_edit\"\n",
    "sd_path = sd_paths.get(use_model)\n",
    "\n",
    "if sd_path is not None:\n",
    "    sd = torch.load(sd_path, map_location=device)[\"model_state_dict\"]\n",
    "    if \"random\" in sd_path:\n",
    "        for k in sd:\n",
    "            if \"4h\" in k:\n",
    "                #rint(sd[k].shape)\n",
    "                #rint(k)\n",
    "                sd[k] = sd[k].T\n",
    "    model.load_state_dict(sd, assign=True)\n",
    "model.eval()"
   ]
  },
  {
   "cell_type": "code",
   "execution_count": 58,
   "id": "21f1b8eb-b502-4c11-a2a8-0113053b1340",
   "metadata": {
    "tags": []
   },
   "outputs": [
    {
     "data": {
      "text/plain": [
       "device(type='cuda', index=0)"
      ]
     },
     "execution_count": 58,
     "metadata": {},
     "output_type": "execute_result"
    }
   ],
   "source": [
    "model.device"
   ]
  },
  {
   "cell_type": "markdown",
   "id": "e9b04ce0-d74c-472a-be25-eee922642533",
   "metadata": {},
   "source": [
    "# Load in Data"
   ]
  },
  {
   "cell_type": "code",
   "execution_count": 59,
   "id": "6de5bd3e-0a01-4e83-b410-f1493ad58aa5",
   "metadata": {
    "tags": []
   },
   "outputs": [
    {
     "data": {
      "text/plain": [
       "<torch.utils.data.dataloader.DataLoader at 0x7f43a869e230>"
      ]
     },
     "execution_count": 59,
     "metadata": {},
     "output_type": "execute_result"
    }
   ],
   "source": [
    "random_data = torch.load(\"/pscratch/sd/m/mansisak/memorization/src/data/pythia_mem_data/pile_random_batch.pt\")\n",
    "random_data_pile = torch.reshape(random_data[0:2040], (3264, 80)).to(device)\n",
    "\n",
    "random_data = random_data_pile[0:1632]\n",
    "random_data = random_data_pile[0:10] # for testing purposes\n",
    "extra_data = random_data_pile[1632:]\n",
    "random_dataloader = DataLoader(random_data, batch_size=1, shuffle=False)\n",
    "random_dataloader"
   ]
  },
  {
   "cell_type": "code",
   "execution_count": 60,
   "id": "cc7774c4-e98e-47ed-b198-20e2d39d0369",
   "metadata": {
    "tags": []
   },
   "outputs": [
    {
     "data": {
      "text/plain": [
       "<torch.utils.data.dataloader.DataLoader at 0x7f43a869f280>"
      ]
     },
     "execution_count": 60,
     "metadata": {},
     "output_type": "execute_result"
    }
   ],
   "source": [
    "# need (inputs, targets) format for PyHessian\n",
    "hessian_dataloader = DataLoader([*zip(random_data, random_data)], batch_size=1, shuffle=False)\n",
    "hessian_dataloader"
   ]
  },
  {
   "cell_type": "markdown",
   "id": "6e0195c8-f054-4c1c-919f-46b75f8a6393",
   "metadata": {},
   "source": [
    "# Model Inference"
   ]
  },
  {
   "cell_type": "code",
   "execution_count": 48,
   "id": "701138ae-5dde-401e-988f-6aa8eb3a899d",
   "metadata": {
    "tags": []
   },
   "outputs": [],
   "source": [
    "def perplexity(model, dataloader):\n",
    "    avg_metric = 0\n",
    "    for i, batch in enumerate(dataloader):\n",
    "        with torch.no_grad():\n",
    "            model_output = model(batch, labels=batch)\n",
    "        loss = model_output.loss\n",
    "        loss_exp = torch.exp(loss)\n",
    "        if torch.isinf(loss_exp):\n",
    "            print(f\"Skipping invalid loss...\")\n",
    "            print(f\"    {i=}, loss={loss.item()}, exp(loss)={torch.exp(loss).item()}\")\n",
    "        avg_metric += loss_exp\n",
    "        # print(loss.item())\n",
    "    return avg_metric / len(dataloader)\n",
    "\n",
    "\n",
    "def perplexity_criterion(model_output, targets=None):\n",
    "    loss = model_output.loss\n",
    "    return torch.exp(loss)\n",
    "\n",
    "\n",
    "def average_loss(model, dataloader):\n",
    "    avg_metric = 0\n",
    "    for i, batch in enumerate(dataloader):\n",
    "        with torch.no_grad():\n",
    "            model_output = model(batch, labels=batch)\n",
    "        loss = model_output.loss\n",
    "        avg_metric += loss\n",
    "        # print(loss.item())\n",
    "    return avg_metric / len(dataloader)\n",
    "\n",
    "\n",
    "from torch.nn import CrossEntropyLoss\n",
    "def loss_criterion(model_output, inputs):\n",
    "    # Shift so that tokens < n predict n\n",
    "    shift_labels = inputs[..., 1:].contiguous()\n",
    "    shift_logits = model_output.logits[..., :-1, :].contiguous()\n",
    "    # Calculate per-token loss\n",
    "    loss_fct = CrossEntropyLoss(reduction=\"none\")\n",
    "    loss = loss_fct(shift_logits.view(-1, shift_logits.size(-1)), shift_labels.view(-1))\n",
    "    # Resize and average loss per sample\n",
    "    loss_per_sample = loss.view(shift_logits.size(0), shift_logits.size(1)).mean(axis=1)\n",
    "    return (loss_per_sample).mean()\n"
   ]
  },
  {
   "cell_type": "code",
   "execution_count": 49,
   "id": "a32f43ba-0e19-4eb8-88d5-790895e65e94",
   "metadata": {
    "tags": []
   },
   "outputs": [
    {
     "data": {
      "text/plain": [
       "tensor(3.1758, device='cuda:0', dtype=torch.float16)"
      ]
     },
     "execution_count": 49,
     "metadata": {},
     "output_type": "execute_result"
    }
   ],
   "source": [
    "average_loss(model, random_dataloader)"
   ]
  },
  {
   "cell_type": "code",
   "execution_count": 50,
   "id": "6b399cd5-416e-4d04-8996-98a4372ca579",
   "metadata": {},
   "outputs": [
    {
     "data": {
      "text/plain": [
       "tensor(3.1777, device='cuda:0', dtype=torch.float16, grad_fn=<MeanBackward0>)"
      ]
     },
     "execution_count": 50,
     "metadata": {},
     "output_type": "execute_result"
    }
   ],
   "source": [
    "loss_criterion(model(random_data[:10]), random_data[:10])"
   ]
  },
  {
   "cell_type": "markdown",
   "id": "670be195-92ae-4270-bdc0-860a792b39b2",
   "metadata": {},
   "source": [
    "# Loss Landscape stuff"
   ]
  },
  {
   "cell_type": "code",
   "execution_count": 15,
   "id": "603ae303-9c10-43c8-939c-55aade290580",
   "metadata": {
    "tags": []
   },
   "outputs": [],
   "source": [
    "import numpy as np\n",
    "from pyhessian import hessian\n",
    "from pyhessian.utils import normalization\n",
    "import copy\n",
    "\n",
    "import matplotlib.pyplot as plt"
   ]
  },
  {
   "cell_type": "code",
   "execution_count": 16,
   "id": "26d01b6d-a8de-4d80-b865-3d50d636d5ec",
   "metadata": {
    "tags": []
   },
   "outputs": [],
   "source": [
    "def get_params(model_orig, model_perb, direction, alpha):\n",
    "    for m_orig, m_perb, d in zip(\n",
    "        model_orig.parameters(), model_perb.parameters(), direction\n",
    "    ):\n",
    "        m_perb.data = m_orig.data + alpha * d\n",
    "    return model_perb"
   ]
  },
  {
   "cell_type": "markdown",
   "id": "9949e4a7-6927-468f-bd19-a909636e9855",
   "metadata": {},
   "source": [
    "## 1D random directions"
   ]
  },
  {
   "cell_type": "code",
   "execution_count": 53,
   "id": "27e57d47-5874-40ff-965e-c13324e231ba",
   "metadata": {
    "tags": []
   },
   "outputs": [
    {
     "data": {
      "text/plain": [
       "Text(0.5, 1.0, 'Loss landscape based on a random direction (good_edit)')"
      ]
     },
     "execution_count": 53,
     "metadata": {},
     "output_type": "execute_result"
    },
    {
     "data": {
      "image/png": "[encoded data removed]",
      "text/plain": [
       "<Figure size 640x480 with 1 Axes>"
      ]
     },
     "metadata": {},
     "output_type": "display_data"
    }
   ],
   "source": [
    "# generate random vector to do the loss plot\n",
    "\n",
    "### TODO: why does normalization make the direction all zeros ...\n",
    "v = [torch.randn_like(p) for p in model.parameters()]\n",
    "# v = normalization(v)\n",
    "\n",
    "# used to perturb your model \n",
    "lams = np.linspace(-0.005, 0.005, 21).astype(np.float32)\n",
    "\n",
    "loss_list = []\n",
    "\n",
    "# create a copy of the model\n",
    "model_perb = copy.deepcopy(model)\n",
    "model_perb.eval()\n",
    "model_perb = model_perb.cuda()\n",
    "\n",
    "for lam in lams: \n",
    "    model_perb = get_params(model, model_perb, v, lam)\n",
    "    loss_list.append(average_loss(model_perb, random_dataloader).item())\n",
    "\n",
    "plt.plot(lams, loss_list)\n",
    "plt.ylabel('Loss')\n",
    "plt.xlabel('Perturbation')\n",
    "plt.title(f'Loss landscape based on a random direction ({use_model})')"
   ]
  },
  {
   "cell_type": "code",
   "execution_count": 55,
   "id": "962e0618-63cd-41ec-aab6-4075401f510b",
   "metadata": {
    "tags": []
   },
   "outputs": [
    {
     "data": {
      "image/png": "[encoded data removed]",
      "text/plain": [
       "<Figure size 640x480 with 1 Axes>"
      ]
     },
     "metadata": {},
     "output_type": "display_data"
    },
    {
     "data": {
      "image/png": "[encoded data removed]",
      "text/plain": [
       "<Figure size 640x480 with 1 Axes>"
      ]
     },
     "metadata": {},
     "output_type": "display_data"
    },
    {
     "data": {
      "image/png": "[encoded data removed]",
      "text/plain": [
       "<Figure size 640x480 with 1 Axes>"
      ]
     },
     "metadata": {},
     "output_type": "display_data"
    }
   ],
   "source": [
    "# loop over different distances \n",
    "\n",
    "for distance in [0.005, 0.001, 0.0005]:\n",
    "    \n",
    "    # generate random vector to do the loss plot\n",
    "\n",
    "    ### TODO: why does normalization make the direction all zeros ...\n",
    "    v = [torch.randn_like(p) for p in model.parameters()]\n",
    "    # v = normalization(v)\n",
    "\n",
    "    # used to perturb your model \n",
    "    lams = np.linspace(-distance, distance, 21).astype(np.float32)\n",
    "\n",
    "    loss_list = []\n",
    "\n",
    "    # create a copy of the model\n",
    "    model_perb = copy.deepcopy(model)\n",
    "    model_perb.eval()\n",
    "    model_perb = model_perb.cuda()\n",
    "\n",
    "    for lam in lams: \n",
    "        model_perb = get_params(model, model_perb, v, lam)\n",
    "        loss_list.append(average_loss(model_perb, random_dataloader).item())\n",
    "\n",
    "    plt.plot(lams, loss_list)\n",
    "    plt.ylabel('Loss')\n",
    "    plt.xlabel('Perturbation')\n",
    "    plt.title(f'Loss landscape based on a random direction ({distance=})')\n",
    "    plt.show()"
   ]
  },
  {
   "cell_type": "markdown",
   "id": "a90e9cbb-f6df-4178-92e9-34aaa5f34b71",
   "metadata": {},
   "source": [
    "## 1D Gradient direction"
   ]
  },
  {
   "cell_type": "code",
   "execution_count": 61,
   "id": "a2cf5fe0-54b7-47e2-8a92-9a864423aa5e",
   "metadata": {
    "tags": []
   },
   "outputs": [
    {
     "name": "stdout",
     "output_type": "stream",
     "text": [
      "Computing loss landscape\n"
     ]
    },
    {
     "data": {
      "text/plain": [
       "Text(0.5, 1.0, 'Loss landscape based on gradient direction (bad_edit)')"
      ]
     },
     "execution_count": 61,
     "metadata": {},
     "output_type": "execute_result"
    },
    {
     "data": {
      "image/png": "[encoded data removed]",
      "text/plain": [
       "<Figure size 640x480 with 1 Axes>"
      ]
     },
     "metadata": {},
     "output_type": "display_data"
    }
   ],
   "source": [
    "# TODO: figure out why Hessian eigenvalues are nan\n",
    "# TODO: is the gradient NaN?\n",
    "\n",
    "dist = 1\n",
    "lams = np.linspace(-1*dist, 1*dist, 21).astype(np.float32)\n",
    "\n",
    "model.eval()\n",
    "model_perb = copy.deepcopy(model)\n",
    "model_perb.eval()\n",
    "\n",
    "# generate gradient vector to do the loss plot\n",
    "loss = loss_criterion(model_perb(random_data[:10]), random_data[:10])\n",
    "loss.backward()\n",
    "\n",
    "v = [p.grad.data for p in model_perb.parameters()]\n",
    "v = normalization(v)\n",
    "model_perb.zero_grad()\n",
    "\n",
    "\n",
    "print(\"Computing loss landscape\")\n",
    "loss_list = [] \n",
    "for lam in lams: \n",
    "    model_perb = get_params(model, model_perb, v, lam)\n",
    "    loss_list.append(average_loss(model_perb, random_dataloader).item())\n",
    "\n",
    "plt.plot(lams, loss_list)\n",
    "plt.ylabel('Loss')\n",
    "plt.xlabel('Perturbation')\n",
    "plt.title(f'Loss landscape based on gradient direction ({use_model})')\n",
    "# Text(0.5, 1.0, f'Loss landscape based on gradient direction ({use_model})')"
   ]
  },
  {
   "cell_type": "markdown",
   "id": "1c0b6538-93e4-405f-8518-ee4f96e4b43d",
   "metadata": {},
   "source": [
    "## 2D random directions"
   ]
  },
  {
   "cell_type": "code",
   "execution_count": null,
   "id": "a1520f6c-09e2-48c9-9d12-9856f914ce87",
   "metadata": {
    "tags": []
   },
   "outputs": [],
   "source": [
    "### TODO: why does normalization make the direction all zeros ...\n",
    "\n",
    "# generate random vector to do the loss plot\n",
    "\n",
    "v = [torch.randn_like(p) for p in model.parameters()]\n",
    "# v = normalization(v)\n",
    "\n",
    "u = [torch.randn_like(p) for p in model.parameters()]\n",
    "# u = normalization(u)\n",
    "\n",
    "# TODO: check to make sure orthoganal\n",
    "random_directions = [u, v]\n"
   ]
  },
  {
   "cell_type": "code",
   "execution_count": null,
   "id": "4aa4083a-c7c2-47b7-be14-bcfc847c1bed",
   "metadata": {
    "tags": []
   },
   "outputs": [],
   "source": [
    "###############################################################################\n",
    "# Calculate the Random landscape\n",
    "###############################################################################\n",
    "# STEPS = 41\n",
    "STEPS = 5 # for testing\n",
    "POINTS = STEPS * STEPS\n",
    "\n",
    "DISTANCE = 0.0005\n",
    "DISTANCE = 1 # for testing\n",
    "START = -1 * DISTANCE\n",
    "END = 1 * DISTANCE\n",
    "\n",
    "DIM = 2\n",
    "\n",
    "lams = np.linspace(START, END, STEPS).astype(np.float32)\n",
    "\n",
    "\n",
    "model.eval()\n",
    "model_perb = copy.deepcopy(model)\n",
    "model_perb.eval()\n",
    "\n",
    "# Generate the loss values array using BFS\n",
    "# Create a coordinate array for loss values\n",
    "loss_coordinates_list = []\n",
    "for i in range(STEPS):\n",
    "    for j in range(STEPS):\n",
    "        loss_coordinates_list.append((i, j))\n",
    "loss_coordinates = np.array(loss_coordinates_list)\n",
    "print(loss_coordinates.shape)\n",
    "\n",
    "# Create a data matrix to store loss values\n",
    "data_matrix = np.empty([POINTS, 1], dtype=float)\n",
    "data_matrix.fill(-1)\n",
    "print(data_matrix.shape)\n",
    "\n",
    "# x, y = iter(train_loader).__next__()\n",
    "\n",
    "# calculate the hessian loss values\n",
    "for j in tqdm(\n",
    "    range(POINTS), desc=\"Calculating sampling loss values in the subspace\"\n",
    "):\n",
    "    # adjust the model and fill with a loss with corresponding model parameters\n",
    "    next_pos = tuple(loss_coordinates[j])\n",
    "    model_current = copy.deepcopy(model)\n",
    "    for i in range(DIM):\n",
    "        model_perb = get_params(\n",
    "            model_current, model_perb, random_directions[i], lams[next_pos[i]]\n",
    "        )\n",
    "        model_current = copy.deepcopy(model_perb)\n",
    "    # calculate the loss value\n",
    "    # data_matrix[j] = criterion(model_current(x), y).item()\n",
    "    data_matrix[j] = average_loss(model_current, random_dataloader).item()\n",
    "    # print(\"Loss value: \", data_matrix[j])\n",
    "\n",
    "print(data_matrix)"
   ]
  },
  {
   "cell_type": "code",
   "execution_count": null,
   "id": "b68eb2ac-5ca7-4428-850a-0dacbde4465e",
   "metadata": {
    "tags": []
   },
   "outputs": [],
   "source": [
    "# for creating a responsive plot \n",
    "# %matplotlib widget\n",
    "\n",
    "# importing required libraries \n",
    "from mpl_toolkits.mplot3d import axes3d\n",
    "import matplotlib.pyplot as plt \n",
    "\n",
    "fig = plt.figure()\n",
    "\n",
    "# Reshape the data_matrix into a 41x41 grid for plotting\n",
    "Z = data_matrix.reshape((STEPS, STEPS))\n",
    "\n",
    "# Generate X and Y coordinates (41x41 grid)\n",
    "x = np.linspace(0, STEPS-1, STEPS)\n",
    "y = np.linspace(0, STEPS-1, STEPS)\n",
    "X, Y = np.meshgrid(x, y)\n",
    "\n",
    "ax = fig.add_subplot(111, projection='3d')\n",
    "# Plot the 3D surface with filled colors\n",
    "surf = ax.plot_surface(X, Y, Z, cmap='viridis', edgecolor='none')\n",
    "\n",
    "# Add a color bar for reference\n",
    "fig.colorbar(surf, ax=ax, shrink=0.5, aspect=5)\n",
    "\n",
    "# Set labels\n",
    "ax.set_xlabel('X')\n",
    "ax.set_ylabel('Y')\n",
    "ax.set_zlabel('Z')\n",
    "\n",
    "plt.show()"
   ]
  },
  {
   "cell_type": "markdown",
   "id": "757bda1a-fd18-4a9a-8c8d-6f979ef2a63a",
   "metadata": {},
   "source": [
    "## 2D Hessian directions"
   ]
  },
  {
   "cell_type": "code",
   "execution_count": 18,
   "id": "172589a2-8c5e-4900-890c-0f6f09ebfba7",
   "metadata": {
    "tags": []
   },
   "outputs": [
    {
     "name": "stdout",
     "output_type": "stream",
     "text": [
      "Top-2 Hessian Eigenvalues: [nan, nan]\n"
     ]
    }
   ],
   "source": [
    "# Compute top-2 Hessian eigenvalues and eigenvectors\n",
    "def compute_hessian_eigenvalues_and_eigenvectors(\n",
    "    model, criterion, data_loader, top_n=2\n",
    "):\n",
    "    model.eval()\n",
    "\n",
    "    # images, labels = next(iter(data_loader))\n",
    "    # images = images.requires_grad_(True)\n",
    "    # images = next(iter(data_loader))\n",
    "\n",
    "    # Initialize Hessian computation\n",
    "    # hessian_comp = hessian(model, criterion, data=(images, images), cuda=True)\n",
    "    hessian_comp = hessian(model, criterion, dataloader=data_loader, cuda=True)\n",
    "\n",
    "    # Compute top-n eigenvalues and corresponding eigenvectors\n",
    "    top_eigenvalues, top_eigenvectors = hessian_comp.eigenvalues(top_n=top_n)\n",
    "  \n",
    "    return top_eigenvalues, top_eigenvectors\n",
    "\n",
    "\n",
    "# hessian_loader = DataLoader(train_data, batch_size=64, shuffle=False)\n",
    "hessian_dataloader = DataLoader([*zip(random_data[:1], random_data[:1])], batch_size=1, shuffle=False)\n",
    "eigenvalues, eigenvectors = compute_hessian_eigenvalues_and_eigenvectors(\n",
    "    model, loss_criterion, hessian_dataloader\n",
    ")\n",
    "print(f\"Top-2 Hessian Eigenvalues: {eigenvalues}\")\n",
    "# print(f\"Corresponding Eigenvectors: {eigenvectors}\")"
   ]
  },
  {
   "cell_type": "code",
   "execution_count": null,
   "id": "be668dec-ff15-4842-b9c3-cfcaab22de99",
   "metadata": {},
   "outputs": [],
   "source": [
    "###############################################################################\n",
    "# Calculate the Hessian Loss\n",
    "###############################################################################\n",
    "# STEPS = 41\n",
    "STEPS = 5 # for testing\n",
    "POINTS = STEPS * STEPS\n",
    "\n",
    "# DISTANCE = 1\n",
    "DISTANCE = 100 # for testing\n",
    "START = -1 * DISTANCE\n",
    "END = 1 * DISTANCE\n",
    "\n",
    "DIM = 2\n",
    "\n",
    "lams = np.linspace(START, END, STEPS).astype(np.float32)\n",
    "\n",
    "\n",
    "model.eval()\n",
    "model_perb = copy.deepcopy(model)\n",
    "model_perb.eval()\n",
    "\n",
    "# Generate the loss values array using BFS\n",
    "# Create a coordinate array for loss values\n",
    "loss_coordinates_list = []\n",
    "for i in range(STEPS):\n",
    "    for j in range(STEPS):\n",
    "        loss_coordinates_list.append((i, j))\n",
    "loss_coordinates = np.array(loss_coordinates_list)\n",
    "print(loss_coordinates.shape)\n",
    "\n",
    "# Create a data matrix to store loss values\n",
    "data_matrix = np.empty([POINTS, 1], dtype=float)\n",
    "# Fill array with initial value (e.g., -1)\n",
    "data_matrix.fill(-1)\n",
    "# print(data_matrix)\n",
    "print(data_matrix.shape)\n",
    "\n",
    "x, y = iter(train_loader).__next__()\n",
    "\n",
    "# calculate the hessian loss values\n",
    "for j in tqdm.tqdm(\n",
    "    range(POINTS), desc=\"Calculating sampling loss values in the subspace\"\n",
    "):\n",
    "    # adjust the model and fill with a loss with corresponding model parameters\n",
    "    next_pos = tuple(loss_coordinates[j])\n",
    "    model_current = copy.deepcopy(model)\n",
    "    for i in range(DIM):\n",
    "        model_perb = get_params(\n",
    "            model_current, model_perb, eigenvectors[i], lams[next_pos[i]]\n",
    "        )\n",
    "        model_current = copy.deepcopy(model_perb)\n",
    "    # calculate the loss value\n",
    "    data_matrix[j] = criterion(model_current(x), y).item()\n",
    "    # print(\"Loss value: \", data_matrix[j])\n",
    "\n",
    "print(data_matrix)"
   ]
  },
  {
   "cell_type": "code",
   "execution_count": null,
   "id": "834c79ee-2b6f-4b0f-a5f2-b5cf04d9f7db",
   "metadata": {},
   "outputs": [],
   "source": [
    "# for creating a responsive plot \n",
    "# %matplotlib widget\n",
    "\n",
    "# importing required libraries \n",
    "from mpl_toolkits.mplot3d import axes3d\n",
    "import matplotlib.pyplot as plt \n",
    "\n",
    "fig = plt.figure()\n",
    "\n",
    "# Reshape the data_matrix into a 41x41 grid for plotting\n",
    "Z = data_matrix.reshape((STEPS, STEPS))\n",
    "\n",
    "# Generate X and Y coordinates (41x41 grid)\n",
    "x = np.linspace(0, STEPS-1, STEPS)\n",
    "y = np.linspace(0, STEPS-1, STEPS)\n",
    "X, Y = np.meshgrid(x, y)\n",
    "\n",
    "ax = fig.add_subplot(111, projection='3d')\n",
    "# Plot the 3D surface with filled colors\n",
    "surf = ax.plot_surface(X, Y, Z, cmap='viridis', edgecolor='none')\n",
    "\n",
    "# Add a color bar for reference\n",
    "fig.colorbar(surf, ax=ax, shrink=0.5, aspect=5)\n",
    "\n",
    "# Set labels\n",
    "ax.set_xlabel('X')\n",
    "ax.set_ylabel('Y')\n",
    "ax.set_zlabel('Z')\n",
    "\n",
    "plt.show()"
   ]
  },
  {
   "cell_type": "code",
   "execution_count": null,
   "id": "ab6c62f3-2055-4042-b80e-28688460cee8",
   "metadata": {},
   "outputs": [],
   "source": [
    "fig, ax = plt.subplots()\n",
    "\n",
    "# Plot the contour map with your data\n",
    "contour = ax.contour(\n",
    "    X, Y, Z, levels=20, cmap=\"viridis\"\n",
    ")  # You can adjust the number of levels and colormap\n",
    "ax.clabel(contour, inline=True, fontsize=8)\n",
    "\n",
    "# Optional: Use contourf to fill the contours\n",
    "contour_filled = ax.contourf(X, Y, Z, levels=20, cmap='viridis')\n",
    "\n",
    "# Add a color bar for reference\n",
    "# fig.colorbar(contour, ax=ax)\n",
    "cbar = fig.colorbar(contour_filled, ax=ax)\n",
    "cbar.ax.set_ylabel(\"Value\")\n",
    "\n",
    "plt.show()"
   ]
  },
  {
   "cell_type": "code",
   "execution_count": null,
   "id": "2a815fae-44f2-4521-af8c-115122c71f08",
   "metadata": {},
   "outputs": [],
   "source": [
    "fig, ax = plt.subplots()\n",
    "\n",
    "# Plot the contour map with your data\n",
    "contour = ax.contour(\n",
    "    X, Y, Z, levels=20, cmap=\"viridis\"\n",
    ")  # You can adjust the number of levels and colormap\n",
    "ax.clabel(contour, inline=True, fontsize=8)\n",
    "\n",
    "\n",
    "# Add a color bar for reference\n",
    "fig.colorbar(contour, ax=ax)\n",
    "\n",
    "plt.show()"
   ]
  }
 ],
 "metadata": {
  "kernelspec": {
   "display_name": "memorization",
   "language": "python",
   "name": "memorization"
  },
  "language_info": {
   "codemirror_mode": {
    "name": "ipython",
    "version": 3
   },
   "file_extension": ".py",
   "mimetype": "text/x-python",
   "name": "python",
   "nbconvert_exporter": "python",
   "pygments_lexer": "ipython3",
   "version": "3.10.0"
  }
 },
 "nbformat": 4,
 "nbformat_minor": 5
}
