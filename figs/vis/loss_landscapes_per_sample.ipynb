{
 "cells": [
  {
   "cell_type": "markdown",
   "id": "240107bb-bda6-4cb3-b373-99496185b06e",
   "metadata": {
    "tags": []
   },
   "source": [
    "# Set Up/Imports"
   ]
  },
  {
   "cell_type": "code",
   "execution_count": 1,
   "id": "990856d1-5032-4f5f-8d4a-84ff2f0a3887",
   "metadata": {},
   "outputs": [],
   "source": [
    "%load_ext autoreload\n",
    "%autoreload 2"
   ]
  },
  {
   "cell_type": "code",
   "execution_count": 2,
   "id": "692346f5-61b2-435c-b0a2-b2e5833181fe",
   "metadata": {
    "tags": []
   },
   "outputs": [],
   "source": [
    "# conda activate \"/pscratch/sd/m/mansisak/memorization/env/\""
   ]
  },
  {
   "cell_type": "code",
   "execution_count": 3,
   "id": "9512f68a-39fd-4e37-825d-b2415fa10198",
   "metadata": {
    "tags": []
   },
   "outputs": [],
   "source": [
    "# !pip list"
   ]
  },
  {
   "cell_type": "code",
   "execution_count": 4,
   "id": "0039350a-fa65-49c0-acb7-b763c9aa5198",
   "metadata": {
    "tags": []
   },
   "outputs": [],
   "source": [
    "#pip install accelerate"
   ]
  },
  {
   "cell_type": "code",
   "execution_count": 5,
   "id": "b65bfcf8-bc73-49b7-98fe-ebad53b40ca8",
   "metadata": {
    "tags": []
   },
   "outputs": [
    {
     "name": "stderr",
     "output_type": "stream",
     "text": [
      "/global/cfs/cdirs/m636/geniesse/envs/memorization/lib/python3.10/site-packages/transformers/utils/hub.py:124: FutureWarning: Using `TRANSFORMERS_CACHE` is deprecated and will be removed in v5 of Transformers. Use `HF_HOME` instead.\n",
      "  warnings.warn(\n"
     ]
    }
   ],
   "source": [
    "import torch\n",
    "import os\n",
    "from transformers import AutoModelForCausalLM\n",
    "from torch.utils.data import DataLoader\n",
    "from tqdm import tqdm\n",
    "\n",
    "### TODO: figure out automatically\n",
    "# device = \"cpu\"\n",
    "device = \"cuda\""
   ]
  },
  {
   "cell_type": "markdown",
   "id": "a2bd0961-4ef1-4ed8-952b-55c43e12cce8",
   "metadata": {
    "tags": []
   },
   "source": [
    "# Load in Models"
   ]
  },
  {
   "cell_type": "code",
   "execution_count": 6,
   "id": "f2c93588-3a75-49b6-bef8-41da12d99c8e",
   "metadata": {
    "tags": []
   },
   "outputs": [],
   "source": [
    "def print_edited_model_paths(parent_path):\n",
    "    \n",
    "    total_exp = 0\n",
    "    for model_name in ['pythia-6.9b-deduped', 'pythia-2.8b-deduped']:\n",
    "        y_idx = 0\n",
    "        for step in [36000, 72000, 108000, 143000]:\n",
    "            for loc_method in [\n",
    "                  \"act\",\n",
    "                  \"hc\",\n",
    "                  \"slim\",\n",
    "                  \"durable\",\n",
    "                  \"durable_agg\",\n",
    "                  \"random\",\n",
    "                  \"random_greedy\",\n",
    "                  \"greedy\",\n",
    "              ]:\n",
    "                \n",
    "                for ratio in [0.00001, 0.0001, 0.001, 0.01, 0.05, 0.1, 0.25, 0.3]:\n",
    "                    result_path = f\"{parent_path}{step}/EleutherAI_edit/{loc_method}/mem/{ratio}\"\n",
    "                    if loc_method not in [\"random\", \"random_greedy\"]:\n",
    "                        if ratio >= 0.1:\n",
    "                            continue\n",
    "\n",
    "                    # this ratio is too small for neuron-level methods\n",
    "                    if loc_method in [\"zero\", \"hc\", \"ig\", \"slim\", \"act\"]:\n",
    "                        if ratio <= 0.0001:\n",
    "                            continue\n",
    "\n",
    "                    if loc_method in [\"greedy\"]:\n",
    "                        if ratio > 0.00001:\n",
    "                            continue\n",
    "                            \n",
    "                    ######\n",
    "                    if loc_method in [\"greedy\", \"durable\", \"durable_agg\",\"act\"]:\n",
    "                        model_path = f'{result_path}/{model_name}'\n",
    "                        total_exp += 1\n",
    "\n",
    "                    if loc_method in [\"slim\", \"hc\"]:\n",
    "                        for epochs in [1, 10, 20]:\n",
    "                            total_exp += 1\n",
    "                            model_path = f'{result_path}/{epochs}/1000/0.1/0.1/{model_name}'                      \n",
    "\n",
    "                    if loc_method in [\"random\", \"random_greedy\"]:\n",
    "                        for epochs in [1, 10, 20]:\n",
    "                            total_exp += 1\n",
    "                            model_path = f'{result_path}/{epochs}/0.1/0.9/0.0005/{model_name}'\n",
    "                    if os.path.isfile(model_path):\n",
    "                        print(\"edited model exists:\", model_path)\n",
    "                    else:\n",
    "                        print(\"edited model doesn't exist yet: \", model_path)\n",
    "\n",
    "    print(\"total_expeirments: \", total_exp)\n",
    "\n"
   ]
  },
  {
   "cell_type": "code",
   "execution_count": 7,
   "id": "1865793f-b745-4f7c-8532-4591860afc1a",
   "metadata": {
    "tags": []
   },
   "outputs": [
    {
     "name": "stdout",
     "output_type": "stream",
     "text": [
      "edited model doesn't exist yet:  /pscratch/sd/m/mansisak/memorization/model_ckpts/old_run/36000/EleutherAI_edit/act/mem/0.001/pythia-6.9b-deduped\n",
      "edited model doesn't exist yet:  /pscratch/sd/m/mansisak/memorization/model_ckpts/old_run/36000/EleutherAI_edit/act/mem/0.01/pythia-6.9b-deduped\n",
      "edited model doesn't exist yet:  /pscratch/sd/m/mansisak/memorization/model_ckpts/old_run/36000/EleutherAI_edit/act/mem/0.05/pythia-6.9b-deduped\n",
      "edited model doesn't exist yet:  /pscratch/sd/m/mansisak/memorization/model_ckpts/old_run/36000/EleutherAI_edit/hc/mem/0.001/20/1000/0.1/0.1/pythia-6.9b-deduped\n",
      "edited model doesn't exist yet:  /pscratch/sd/m/mansisak/memorization/model_ckpts/old_run/36000/EleutherAI_edit/hc/mem/0.01/20/1000/0.1/0.1/pythia-6.9b-deduped\n",
      "edited model doesn't exist yet:  /pscratch/sd/m/mansisak/memorization/model_ckpts/old_run/36000/EleutherAI_edit/hc/mem/0.05/20/1000/0.1/0.1/pythia-6.9b-deduped\n",
      "edited model doesn't exist yet:  /pscratch/sd/m/mansisak/memorization/model_ckpts/old_run/36000/EleutherAI_edit/slim/mem/0.001/20/1000/0.1/0.1/pythia-6.9b-deduped\n",
      "edited model doesn't exist yet:  /pscratch/sd/m/mansisak/memorization/model_ckpts/old_run/36000/EleutherAI_edit/slim/mem/0.01/20/1000/0.1/0.1/pythia-6.9b-deduped\n",
      "edited model doesn't exist yet:  /pscratch/sd/m/mansisak/memorization/model_ckpts/old_run/36000/EleutherAI_edit/slim/mem/0.05/20/1000/0.1/0.1/pythia-6.9b-deduped\n",
      "edited model doesn't exist yet:  /pscratch/sd/m/mansisak/memorization/model_ckpts/old_run/36000/EleutherAI_edit/durable/mem/1e-05/pythia-6.9b-deduped\n",
      "edited model doesn't exist yet:  /pscratch/sd/m/mansisak/memorization/model_ckpts/old_run/36000/EleutherAI_edit/durable/mem/0.0001/pythia-6.9b-deduped\n",
      "edited model doesn't exist yet:  /pscratch/sd/m/mansisak/memorization/model_ckpts/old_run/36000/EleutherAI_edit/durable/mem/0.001/pythia-6.9b-deduped\n",
      "edited model doesn't exist yet:  /pscratch/sd/m/mansisak/memorization/model_ckpts/old_run/36000/EleutherAI_edit/durable/mem/0.01/pythia-6.9b-deduped\n",
      "edited model doesn't exist yet:  /pscratch/sd/m/mansisak/memorization/model_ckpts/old_run/36000/EleutherAI_edit/durable/mem/0.05/pythia-6.9b-deduped\n",
      "edited model doesn't exist yet:  /pscratch/sd/m/mansisak/memorization/model_ckpts/old_run/36000/EleutherAI_edit/durable_agg/mem/1e-05/pythia-6.9b-deduped\n",
      "edited model doesn't exist yet:  /pscratch/sd/m/mansisak/memorization/model_ckpts/old_run/36000/EleutherAI_edit/durable_agg/mem/0.0001/pythia-6.9b-deduped\n",
      "edited model doesn't exist yet:  /pscratch/sd/m/mansisak/memorization/model_ckpts/old_run/36000/EleutherAI_edit/durable_agg/mem/0.001/pythia-6.9b-deduped\n",
      "edited model doesn't exist yet:  /pscratch/sd/m/mansisak/memorization/model_ckpts/old_run/36000/EleutherAI_edit/durable_agg/mem/0.01/pythia-6.9b-deduped\n",
      "edited model doesn't exist yet:  /pscratch/sd/m/mansisak/memorization/model_ckpts/old_run/36000/EleutherAI_edit/durable_agg/mem/0.05/pythia-6.9b-deduped\n",
      "edited model doesn't exist yet:  /pscratch/sd/m/mansisak/memorization/model_ckpts/old_run/36000/EleutherAI_edit/random/mem/1e-05/20/0.1/0.9/0.0005/pythia-6.9b-deduped\n",
      "edited model doesn't exist yet:  /pscratch/sd/m/mansisak/memorization/model_ckpts/old_run/36000/EleutherAI_edit/random/mem/0.0001/20/0.1/0.9/0.0005/pythia-6.9b-deduped\n",
      "edited model doesn't exist yet:  /pscratch/sd/m/mansisak/memorization/model_ckpts/old_run/36000/EleutherAI_edit/random/mem/0.001/20/0.1/0.9/0.0005/pythia-6.9b-deduped\n",
      "edited model doesn't exist yet:  /pscratch/sd/m/mansisak/memorization/model_ckpts/old_run/36000/EleutherAI_edit/random/mem/0.01/20/0.1/0.9/0.0005/pythia-6.9b-deduped\n",
      "edited model doesn't exist yet:  /pscratch/sd/m/mansisak/memorization/model_ckpts/old_run/36000/EleutherAI_edit/random/mem/0.05/20/0.1/0.9/0.0005/pythia-6.9b-deduped\n",
      "edited model doesn't exist yet:  /pscratch/sd/m/mansisak/memorization/model_ckpts/old_run/36000/EleutherAI_edit/random/mem/0.1/20/0.1/0.9/0.0005/pythia-6.9b-deduped\n",
      "edited model doesn't exist yet:  /pscratch/sd/m/mansisak/memorization/model_ckpts/old_run/36000/EleutherAI_edit/random/mem/0.25/20/0.1/0.9/0.0005/pythia-6.9b-deduped\n",
      "edited model doesn't exist yet:  /pscratch/sd/m/mansisak/memorization/model_ckpts/old_run/36000/EleutherAI_edit/random/mem/0.3/20/0.1/0.9/0.0005/pythia-6.9b-deduped\n",
      "edited model doesn't exist yet:  /pscratch/sd/m/mansisak/memorization/model_ckpts/old_run/36000/EleutherAI_edit/random_greedy/mem/1e-05/20/0.1/0.9/0.0005/pythia-6.9b-deduped\n",
      "edited model doesn't exist yet:  /pscratch/sd/m/mansisak/memorization/model_ckpts/old_run/36000/EleutherAI_edit/random_greedy/mem/0.0001/20/0.1/0.9/0.0005/pythia-6.9b-deduped\n",
      "edited model doesn't exist yet:  /pscratch/sd/m/mansisak/memorization/model_ckpts/old_run/36000/EleutherAI_edit/random_greedy/mem/0.001/20/0.1/0.9/0.0005/pythia-6.9b-deduped\n",
      "edited model doesn't exist yet:  /pscratch/sd/m/mansisak/memorization/model_ckpts/old_run/36000/EleutherAI_edit/random_greedy/mem/0.01/20/0.1/0.9/0.0005/pythia-6.9b-deduped\n",
      "edited model doesn't exist yet:  /pscratch/sd/m/mansisak/memorization/model_ckpts/old_run/36000/EleutherAI_edit/random_greedy/mem/0.05/20/0.1/0.9/0.0005/pythia-6.9b-deduped\n",
      "edited model doesn't exist yet:  /pscratch/sd/m/mansisak/memorization/model_ckpts/old_run/36000/EleutherAI_edit/random_greedy/mem/0.1/20/0.1/0.9/0.0005/pythia-6.9b-deduped\n",
      "edited model doesn't exist yet:  /pscratch/sd/m/mansisak/memorization/model_ckpts/old_run/36000/EleutherAI_edit/random_greedy/mem/0.25/20/0.1/0.9/0.0005/pythia-6.9b-deduped\n",
      "edited model doesn't exist yet:  /pscratch/sd/m/mansisak/memorization/model_ckpts/old_run/36000/EleutherAI_edit/random_greedy/mem/0.3/20/0.1/0.9/0.0005/pythia-6.9b-deduped\n",
      "edited model doesn't exist yet:  /pscratch/sd/m/mansisak/memorization/model_ckpts/old_run/36000/EleutherAI_edit/greedy/mem/1e-05/pythia-6.9b-deduped\n",
      "edited model doesn't exist yet:  /pscratch/sd/m/mansisak/memorization/model_ckpts/old_run/72000/EleutherAI_edit/act/mem/0.001/pythia-6.9b-deduped\n",
      "edited model doesn't exist yet:  /pscratch/sd/m/mansisak/memorization/model_ckpts/old_run/72000/EleutherAI_edit/act/mem/0.01/pythia-6.9b-deduped\n",
      "edited model doesn't exist yet:  /pscratch/sd/m/mansisak/memorization/model_ckpts/old_run/72000/EleutherAI_edit/act/mem/0.05/pythia-6.9b-deduped\n",
      "edited model doesn't exist yet:  /pscratch/sd/m/mansisak/memorization/model_ckpts/old_run/72000/EleutherAI_edit/hc/mem/0.001/20/1000/0.1/0.1/pythia-6.9b-deduped\n",
      "edited model doesn't exist yet:  /pscratch/sd/m/mansisak/memorization/model_ckpts/old_run/72000/EleutherAI_edit/hc/mem/0.01/20/1000/0.1/0.1/pythia-6.9b-deduped\n",
      "edited model doesn't exist yet:  /pscratch/sd/m/mansisak/memorization/model_ckpts/old_run/72000/EleutherAI_edit/hc/mem/0.05/20/1000/0.1/0.1/pythia-6.9b-deduped\n",
      "edited model doesn't exist yet:  /pscratch/sd/m/mansisak/memorization/model_ckpts/old_run/72000/EleutherAI_edit/slim/mem/0.001/20/1000/0.1/0.1/pythia-6.9b-deduped\n",
      "edited model doesn't exist yet:  /pscratch/sd/m/mansisak/memorization/model_ckpts/old_run/72000/EleutherAI_edit/slim/mem/0.01/20/1000/0.1/0.1/pythia-6.9b-deduped\n",
      "edited model doesn't exist yet:  /pscratch/sd/m/mansisak/memorization/model_ckpts/old_run/72000/EleutherAI_edit/slim/mem/0.05/20/1000/0.1/0.1/pythia-6.9b-deduped\n",
      "edited model doesn't exist yet:  /pscratch/sd/m/mansisak/memorization/model_ckpts/old_run/72000/EleutherAI_edit/durable/mem/1e-05/pythia-6.9b-deduped\n",
      "edited model doesn't exist yet:  /pscratch/sd/m/mansisak/memorization/model_ckpts/old_run/72000/EleutherAI_edit/durable/mem/0.0001/pythia-6.9b-deduped\n",
      "edited model doesn't exist yet:  /pscratch/sd/m/mansisak/memorization/model_ckpts/old_run/72000/EleutherAI_edit/durable/mem/0.001/pythia-6.9b-deduped\n",
      "edited model doesn't exist yet:  /pscratch/sd/m/mansisak/memorization/model_ckpts/old_run/72000/EleutherAI_edit/durable/mem/0.01/pythia-6.9b-deduped\n",
      "edited model doesn't exist yet:  /pscratch/sd/m/mansisak/memorization/model_ckpts/old_run/72000/EleutherAI_edit/durable/mem/0.05/pythia-6.9b-deduped\n",
      "edited model doesn't exist yet:  /pscratch/sd/m/mansisak/memorization/model_ckpts/old_run/72000/EleutherAI_edit/durable_agg/mem/1e-05/pythia-6.9b-deduped\n",
      "edited model doesn't exist yet:  /pscratch/sd/m/mansisak/memorization/model_ckpts/old_run/72000/EleutherAI_edit/durable_agg/mem/0.0001/pythia-6.9b-deduped\n",
      "edited model doesn't exist yet:  /pscratch/sd/m/mansisak/memorization/model_ckpts/old_run/72000/EleutherAI_edit/durable_agg/mem/0.001/pythia-6.9b-deduped\n",
      "edited model doesn't exist yet:  /pscratch/sd/m/mansisak/memorization/model_ckpts/old_run/72000/EleutherAI_edit/durable_agg/mem/0.01/pythia-6.9b-deduped\n",
      "edited model doesn't exist yet:  /pscratch/sd/m/mansisak/memorization/model_ckpts/old_run/72000/EleutherAI_edit/durable_agg/mem/0.05/pythia-6.9b-deduped\n",
      "edited model doesn't exist yet:  /pscratch/sd/m/mansisak/memorization/model_ckpts/old_run/72000/EleutherAI_edit/random/mem/1e-05/20/0.1/0.9/0.0005/pythia-6.9b-deduped\n",
      "edited model doesn't exist yet:  /pscratch/sd/m/mansisak/memorization/model_ckpts/old_run/72000/EleutherAI_edit/random/mem/0.0001/20/0.1/0.9/0.0005/pythia-6.9b-deduped\n",
      "edited model doesn't exist yet:  /pscratch/sd/m/mansisak/memorization/model_ckpts/old_run/72000/EleutherAI_edit/random/mem/0.001/20/0.1/0.9/0.0005/pythia-6.9b-deduped\n",
      "edited model doesn't exist yet:  /pscratch/sd/m/mansisak/memorization/model_ckpts/old_run/72000/EleutherAI_edit/random/mem/0.01/20/0.1/0.9/0.0005/pythia-6.9b-deduped\n",
      "edited model doesn't exist yet:  /pscratch/sd/m/mansisak/memorization/model_ckpts/old_run/72000/EleutherAI_edit/random/mem/0.05/20/0.1/0.9/0.0005/pythia-6.9b-deduped\n",
      "edited model doesn't exist yet:  /pscratch/sd/m/mansisak/memorization/model_ckpts/old_run/72000/EleutherAI_edit/random/mem/0.1/20/0.1/0.9/0.0005/pythia-6.9b-deduped\n",
      "edited model doesn't exist yet:  /pscratch/sd/m/mansisak/memorization/model_ckpts/old_run/72000/EleutherAI_edit/random/mem/0.25/20/0.1/0.9/0.0005/pythia-6.9b-deduped\n",
      "edited model doesn't exist yet:  /pscratch/sd/m/mansisak/memorization/model_ckpts/old_run/72000/EleutherAI_edit/random/mem/0.3/20/0.1/0.9/0.0005/pythia-6.9b-deduped\n",
      "edited model doesn't exist yet:  /pscratch/sd/m/mansisak/memorization/model_ckpts/old_run/72000/EleutherAI_edit/random_greedy/mem/1e-05/20/0.1/0.9/0.0005/pythia-6.9b-deduped\n",
      "edited model doesn't exist yet:  /pscratch/sd/m/mansisak/memorization/model_ckpts/old_run/72000/EleutherAI_edit/random_greedy/mem/0.0001/20/0.1/0.9/0.0005/pythia-6.9b-deduped\n",
      "edited model doesn't exist yet:  /pscratch/sd/m/mansisak/memorization/model_ckpts/old_run/72000/EleutherAI_edit/random_greedy/mem/0.001/20/0.1/0.9/0.0005/pythia-6.9b-deduped\n",
      "edited model doesn't exist yet:  /pscratch/sd/m/mansisak/memorization/model_ckpts/old_run/72000/EleutherAI_edit/random_greedy/mem/0.01/20/0.1/0.9/0.0005/pythia-6.9b-deduped\n",
      "edited model doesn't exist yet:  /pscratch/sd/m/mansisak/memorization/model_ckpts/old_run/72000/EleutherAI_edit/random_greedy/mem/0.05/20/0.1/0.9/0.0005/pythia-6.9b-deduped\n",
      "edited model doesn't exist yet:  /pscratch/sd/m/mansisak/memorization/model_ckpts/old_run/72000/EleutherAI_edit/random_greedy/mem/0.1/20/0.1/0.9/0.0005/pythia-6.9b-deduped\n",
      "edited model doesn't exist yet:  /pscratch/sd/m/mansisak/memorization/model_ckpts/old_run/72000/EleutherAI_edit/random_greedy/mem/0.25/20/0.1/0.9/0.0005/pythia-6.9b-deduped\n",
      "edited model doesn't exist yet:  /pscratch/sd/m/mansisak/memorization/model_ckpts/old_run/72000/EleutherAI_edit/random_greedy/mem/0.3/20/0.1/0.9/0.0005/pythia-6.9b-deduped\n",
      "edited model doesn't exist yet:  /pscratch/sd/m/mansisak/memorization/model_ckpts/old_run/72000/EleutherAI_edit/greedy/mem/1e-05/pythia-6.9b-deduped\n",
      "edited model doesn't exist yet:  /pscratch/sd/m/mansisak/memorization/model_ckpts/old_run/108000/EleutherAI_edit/act/mem/0.001/pythia-6.9b-deduped\n",
      "edited model doesn't exist yet:  /pscratch/sd/m/mansisak/memorization/model_ckpts/old_run/108000/EleutherAI_edit/act/mem/0.01/pythia-6.9b-deduped\n",
      "edited model doesn't exist yet:  /pscratch/sd/m/mansisak/memorization/model_ckpts/old_run/108000/EleutherAI_edit/act/mem/0.05/pythia-6.9b-deduped\n",
      "edited model doesn't exist yet:  /pscratch/sd/m/mansisak/memorization/model_ckpts/old_run/108000/EleutherAI_edit/hc/mem/0.001/20/1000/0.1/0.1/pythia-6.9b-deduped\n",
      "edited model doesn't exist yet:  /pscratch/sd/m/mansisak/memorization/model_ckpts/old_run/108000/EleutherAI_edit/hc/mem/0.01/20/1000/0.1/0.1/pythia-6.9b-deduped\n",
      "edited model doesn't exist yet:  /pscratch/sd/m/mansisak/memorization/model_ckpts/old_run/108000/EleutherAI_edit/hc/mem/0.05/20/1000/0.1/0.1/pythia-6.9b-deduped\n",
      "edited model doesn't exist yet:  /pscratch/sd/m/mansisak/memorization/model_ckpts/old_run/108000/EleutherAI_edit/slim/mem/0.001/20/1000/0.1/0.1/pythia-6.9b-deduped\n",
      "edited model doesn't exist yet:  /pscratch/sd/m/mansisak/memorization/model_ckpts/old_run/108000/EleutherAI_edit/slim/mem/0.01/20/1000/0.1/0.1/pythia-6.9b-deduped\n",
      "edited model doesn't exist yet:  /pscratch/sd/m/mansisak/memorization/model_ckpts/old_run/108000/EleutherAI_edit/slim/mem/0.05/20/1000/0.1/0.1/pythia-6.9b-deduped\n",
      "edited model doesn't exist yet:  /pscratch/sd/m/mansisak/memorization/model_ckpts/old_run/108000/EleutherAI_edit/durable/mem/1e-05/pythia-6.9b-deduped\n",
      "edited model doesn't exist yet:  /pscratch/sd/m/mansisak/memorization/model_ckpts/old_run/108000/EleutherAI_edit/durable/mem/0.0001/pythia-6.9b-deduped\n",
      "edited model doesn't exist yet:  /pscratch/sd/m/mansisak/memorization/model_ckpts/old_run/108000/EleutherAI_edit/durable/mem/0.001/pythia-6.9b-deduped\n",
      "edited model doesn't exist yet:  /pscratch/sd/m/mansisak/memorization/model_ckpts/old_run/108000/EleutherAI_edit/durable/mem/0.01/pythia-6.9b-deduped\n",
      "edited model doesn't exist yet:  /pscratch/sd/m/mansisak/memorization/model_ckpts/old_run/108000/EleutherAI_edit/durable/mem/0.05/pythia-6.9b-deduped\n",
      "edited model doesn't exist yet:  /pscratch/sd/m/mansisak/memorization/model_ckpts/old_run/108000/EleutherAI_edit/durable_agg/mem/1e-05/pythia-6.9b-deduped\n",
      "edited model doesn't exist yet:  /pscratch/sd/m/mansisak/memorization/model_ckpts/old_run/108000/EleutherAI_edit/durable_agg/mem/0.0001/pythia-6.9b-deduped\n",
      "edited model doesn't exist yet:  /pscratch/sd/m/mansisak/memorization/model_ckpts/old_run/108000/EleutherAI_edit/durable_agg/mem/0.001/pythia-6.9b-deduped\n",
      "edited model doesn't exist yet:  /pscratch/sd/m/mansisak/memorization/model_ckpts/old_run/108000/EleutherAI_edit/durable_agg/mem/0.01/pythia-6.9b-deduped\n",
      "edited model doesn't exist yet:  /pscratch/sd/m/mansisak/memorization/model_ckpts/old_run/108000/EleutherAI_edit/durable_agg/mem/0.05/pythia-6.9b-deduped\n",
      "edited model doesn't exist yet:  /pscratch/sd/m/mansisak/memorization/model_ckpts/old_run/108000/EleutherAI_edit/random/mem/1e-05/20/0.1/0.9/0.0005/pythia-6.9b-deduped\n",
      "edited model doesn't exist yet:  /pscratch/sd/m/mansisak/memorization/model_ckpts/old_run/108000/EleutherAI_edit/random/mem/0.0001/20/0.1/0.9/0.0005/pythia-6.9b-deduped\n",
      "edited model doesn't exist yet:  /pscratch/sd/m/mansisak/memorization/model_ckpts/old_run/108000/EleutherAI_edit/random/mem/0.001/20/0.1/0.9/0.0005/pythia-6.9b-deduped\n",
      "edited model doesn't exist yet:  /pscratch/sd/m/mansisak/memorization/model_ckpts/old_run/108000/EleutherAI_edit/random/mem/0.01/20/0.1/0.9/0.0005/pythia-6.9b-deduped\n",
      "edited model doesn't exist yet:  /pscratch/sd/m/mansisak/memorization/model_ckpts/old_run/108000/EleutherAI_edit/random/mem/0.05/20/0.1/0.9/0.0005/pythia-6.9b-deduped\n",
      "edited model doesn't exist yet:  /pscratch/sd/m/mansisak/memorization/model_ckpts/old_run/108000/EleutherAI_edit/random/mem/0.1/20/0.1/0.9/0.0005/pythia-6.9b-deduped\n",
      "edited model doesn't exist yet:  /pscratch/sd/m/mansisak/memorization/model_ckpts/old_run/108000/EleutherAI_edit/random/mem/0.25/20/0.1/0.9/0.0005/pythia-6.9b-deduped\n",
      "edited model doesn't exist yet:  /pscratch/sd/m/mansisak/memorization/model_ckpts/old_run/108000/EleutherAI_edit/random/mem/0.3/20/0.1/0.9/0.0005/pythia-6.9b-deduped\n",
      "edited model doesn't exist yet:  /pscratch/sd/m/mansisak/memorization/model_ckpts/old_run/108000/EleutherAI_edit/random_greedy/mem/1e-05/20/0.1/0.9/0.0005/pythia-6.9b-deduped\n",
      "edited model doesn't exist yet:  /pscratch/sd/m/mansisak/memorization/model_ckpts/old_run/108000/EleutherAI_edit/random_greedy/mem/0.0001/20/0.1/0.9/0.0005/pythia-6.9b-deduped\n",
      "edited model doesn't exist yet:  /pscratch/sd/m/mansisak/memorization/model_ckpts/old_run/108000/EleutherAI_edit/random_greedy/mem/0.001/20/0.1/0.9/0.0005/pythia-6.9b-deduped\n",
      "edited model doesn't exist yet:  /pscratch/sd/m/mansisak/memorization/model_ckpts/old_run/108000/EleutherAI_edit/random_greedy/mem/0.01/20/0.1/0.9/0.0005/pythia-6.9b-deduped\n",
      "edited model doesn't exist yet:  /pscratch/sd/m/mansisak/memorization/model_ckpts/old_run/108000/EleutherAI_edit/random_greedy/mem/0.05/20/0.1/0.9/0.0005/pythia-6.9b-deduped\n",
      "edited model doesn't exist yet:  /pscratch/sd/m/mansisak/memorization/model_ckpts/old_run/108000/EleutherAI_edit/random_greedy/mem/0.1/20/0.1/0.9/0.0005/pythia-6.9b-deduped\n",
      "edited model doesn't exist yet:  /pscratch/sd/m/mansisak/memorization/model_ckpts/old_run/108000/EleutherAI_edit/random_greedy/mem/0.25/20/0.1/0.9/0.0005/pythia-6.9b-deduped\n",
      "edited model doesn't exist yet:  /pscratch/sd/m/mansisak/memorization/model_ckpts/old_run/108000/EleutherAI_edit/random_greedy/mem/0.3/20/0.1/0.9/0.0005/pythia-6.9b-deduped\n",
      "edited model doesn't exist yet:  /pscratch/sd/m/mansisak/memorization/model_ckpts/old_run/108000/EleutherAI_edit/greedy/mem/1e-05/pythia-6.9b-deduped\n",
      "edited model doesn't exist yet:  /pscratch/sd/m/mansisak/memorization/model_ckpts/old_run/143000/EleutherAI_edit/act/mem/0.001/pythia-6.9b-deduped\n",
      "edited model doesn't exist yet:  /pscratch/sd/m/mansisak/memorization/model_ckpts/old_run/143000/EleutherAI_edit/act/mem/0.01/pythia-6.9b-deduped\n",
      "edited model doesn't exist yet:  /pscratch/sd/m/mansisak/memorization/model_ckpts/old_run/143000/EleutherAI_edit/act/mem/0.05/pythia-6.9b-deduped\n",
      "edited model doesn't exist yet:  /pscratch/sd/m/mansisak/memorization/model_ckpts/old_run/143000/EleutherAI_edit/hc/mem/0.001/20/1000/0.1/0.1/pythia-6.9b-deduped\n",
      "edited model doesn't exist yet:  /pscratch/sd/m/mansisak/memorization/model_ckpts/old_run/143000/EleutherAI_edit/hc/mem/0.01/20/1000/0.1/0.1/pythia-6.9b-deduped\n",
      "edited model doesn't exist yet:  /pscratch/sd/m/mansisak/memorization/model_ckpts/old_run/143000/EleutherAI_edit/hc/mem/0.05/20/1000/0.1/0.1/pythia-6.9b-deduped\n",
      "edited model doesn't exist yet:  /pscratch/sd/m/mansisak/memorization/model_ckpts/old_run/143000/EleutherAI_edit/slim/mem/0.001/20/1000/0.1/0.1/pythia-6.9b-deduped\n",
      "edited model doesn't exist yet:  /pscratch/sd/m/mansisak/memorization/model_ckpts/old_run/143000/EleutherAI_edit/slim/mem/0.01/20/1000/0.1/0.1/pythia-6.9b-deduped\n",
      "edited model doesn't exist yet:  /pscratch/sd/m/mansisak/memorization/model_ckpts/old_run/143000/EleutherAI_edit/slim/mem/0.05/20/1000/0.1/0.1/pythia-6.9b-deduped\n",
      "edited model doesn't exist yet:  /pscratch/sd/m/mansisak/memorization/model_ckpts/old_run/143000/EleutherAI_edit/durable/mem/1e-05/pythia-6.9b-deduped\n",
      "edited model doesn't exist yet:  /pscratch/sd/m/mansisak/memorization/model_ckpts/old_run/143000/EleutherAI_edit/durable/mem/0.0001/pythia-6.9b-deduped\n",
      "edited model doesn't exist yet:  /pscratch/sd/m/mansisak/memorization/model_ckpts/old_run/143000/EleutherAI_edit/durable/mem/0.001/pythia-6.9b-deduped\n",
      "edited model doesn't exist yet:  /pscratch/sd/m/mansisak/memorization/model_ckpts/old_run/143000/EleutherAI_edit/durable/mem/0.01/pythia-6.9b-deduped\n",
      "edited model doesn't exist yet:  /pscratch/sd/m/mansisak/memorization/model_ckpts/old_run/143000/EleutherAI_edit/durable/mem/0.05/pythia-6.9b-deduped\n",
      "edited model doesn't exist yet:  /pscratch/sd/m/mansisak/memorization/model_ckpts/old_run/143000/EleutherAI_edit/durable_agg/mem/1e-05/pythia-6.9b-deduped\n",
      "edited model doesn't exist yet:  /pscratch/sd/m/mansisak/memorization/model_ckpts/old_run/143000/EleutherAI_edit/durable_agg/mem/0.0001/pythia-6.9b-deduped\n",
      "edited model doesn't exist yet:  /pscratch/sd/m/mansisak/memorization/model_ckpts/old_run/143000/EleutherAI_edit/durable_agg/mem/0.001/pythia-6.9b-deduped\n",
      "edited model doesn't exist yet:  /pscratch/sd/m/mansisak/memorization/model_ckpts/old_run/143000/EleutherAI_edit/durable_agg/mem/0.01/pythia-6.9b-deduped\n",
      "edited model doesn't exist yet:  /pscratch/sd/m/mansisak/memorization/model_ckpts/old_run/143000/EleutherAI_edit/durable_agg/mem/0.05/pythia-6.9b-deduped\n",
      "edited model doesn't exist yet:  /pscratch/sd/m/mansisak/memorization/model_ckpts/old_run/143000/EleutherAI_edit/random/mem/1e-05/20/0.1/0.9/0.0005/pythia-6.9b-deduped\n",
      "edited model doesn't exist yet:  /pscratch/sd/m/mansisak/memorization/model_ckpts/old_run/143000/EleutherAI_edit/random/mem/0.0001/20/0.1/0.9/0.0005/pythia-6.9b-deduped\n",
      "edited model doesn't exist yet:  /pscratch/sd/m/mansisak/memorization/model_ckpts/old_run/143000/EleutherAI_edit/random/mem/0.001/20/0.1/0.9/0.0005/pythia-6.9b-deduped\n",
      "edited model doesn't exist yet:  /pscratch/sd/m/mansisak/memorization/model_ckpts/old_run/143000/EleutherAI_edit/random/mem/0.01/20/0.1/0.9/0.0005/pythia-6.9b-deduped\n",
      "edited model doesn't exist yet:  /pscratch/sd/m/mansisak/memorization/model_ckpts/old_run/143000/EleutherAI_edit/random/mem/0.05/20/0.1/0.9/0.0005/pythia-6.9b-deduped\n",
      "edited model doesn't exist yet:  /pscratch/sd/m/mansisak/memorization/model_ckpts/old_run/143000/EleutherAI_edit/random/mem/0.1/20/0.1/0.9/0.0005/pythia-6.9b-deduped\n",
      "edited model doesn't exist yet:  /pscratch/sd/m/mansisak/memorization/model_ckpts/old_run/143000/EleutherAI_edit/random/mem/0.25/20/0.1/0.9/0.0005/pythia-6.9b-deduped\n",
      "edited model doesn't exist yet:  /pscratch/sd/m/mansisak/memorization/model_ckpts/old_run/143000/EleutherAI_edit/random/mem/0.3/20/0.1/0.9/0.0005/pythia-6.9b-deduped\n",
      "edited model doesn't exist yet:  /pscratch/sd/m/mansisak/memorization/model_ckpts/old_run/143000/EleutherAI_edit/random_greedy/mem/1e-05/20/0.1/0.9/0.0005/pythia-6.9b-deduped\n",
      "edited model doesn't exist yet:  /pscratch/sd/m/mansisak/memorization/model_ckpts/old_run/143000/EleutherAI_edit/random_greedy/mem/0.0001/20/0.1/0.9/0.0005/pythia-6.9b-deduped\n",
      "edited model doesn't exist yet:  /pscratch/sd/m/mansisak/memorization/model_ckpts/old_run/143000/EleutherAI_edit/random_greedy/mem/0.001/20/0.1/0.9/0.0005/pythia-6.9b-deduped\n",
      "edited model doesn't exist yet:  /pscratch/sd/m/mansisak/memorization/model_ckpts/old_run/143000/EleutherAI_edit/random_greedy/mem/0.01/20/0.1/0.9/0.0005/pythia-6.9b-deduped\n",
      "edited model doesn't exist yet:  /pscratch/sd/m/mansisak/memorization/model_ckpts/old_run/143000/EleutherAI_edit/random_greedy/mem/0.05/20/0.1/0.9/0.0005/pythia-6.9b-deduped\n",
      "edited model doesn't exist yet:  /pscratch/sd/m/mansisak/memorization/model_ckpts/old_run/143000/EleutherAI_edit/random_greedy/mem/0.1/20/0.1/0.9/0.0005/pythia-6.9b-deduped\n",
      "edited model doesn't exist yet:  /pscratch/sd/m/mansisak/memorization/model_ckpts/old_run/143000/EleutherAI_edit/random_greedy/mem/0.25/20/0.1/0.9/0.0005/pythia-6.9b-deduped\n",
      "edited model doesn't exist yet:  /pscratch/sd/m/mansisak/memorization/model_ckpts/old_run/143000/EleutherAI_edit/random_greedy/mem/0.3/20/0.1/0.9/0.0005/pythia-6.9b-deduped\n",
      "edited model doesn't exist yet:  /pscratch/sd/m/mansisak/memorization/model_ckpts/old_run/143000/EleutherAI_edit/greedy/mem/1e-05/pythia-6.9b-deduped\n",
      "edited model doesn't exist yet:  /pscratch/sd/m/mansisak/memorization/model_ckpts/old_run/36000/EleutherAI_edit/act/mem/0.001/pythia-2.8b-deduped\n",
      "edited model doesn't exist yet:  /pscratch/sd/m/mansisak/memorization/model_ckpts/old_run/36000/EleutherAI_edit/act/mem/0.01/pythia-2.8b-deduped\n",
      "edited model doesn't exist yet:  /pscratch/sd/m/mansisak/memorization/model_ckpts/old_run/36000/EleutherAI_edit/act/mem/0.05/pythia-2.8b-deduped\n",
      "edited model doesn't exist yet:  /pscratch/sd/m/mansisak/memorization/model_ckpts/old_run/36000/EleutherAI_edit/hc/mem/0.001/20/1000/0.1/0.1/pythia-2.8b-deduped\n",
      "edited model doesn't exist yet:  /pscratch/sd/m/mansisak/memorization/model_ckpts/old_run/36000/EleutherAI_edit/hc/mem/0.01/20/1000/0.1/0.1/pythia-2.8b-deduped\n",
      "edited model doesn't exist yet:  /pscratch/sd/m/mansisak/memorization/model_ckpts/old_run/36000/EleutherAI_edit/hc/mem/0.05/20/1000/0.1/0.1/pythia-2.8b-deduped\n",
      "edited model doesn't exist yet:  /pscratch/sd/m/mansisak/memorization/model_ckpts/old_run/36000/EleutherAI_edit/slim/mem/0.001/20/1000/0.1/0.1/pythia-2.8b-deduped\n",
      "edited model doesn't exist yet:  /pscratch/sd/m/mansisak/memorization/model_ckpts/old_run/36000/EleutherAI_edit/slim/mem/0.01/20/1000/0.1/0.1/pythia-2.8b-deduped\n",
      "edited model doesn't exist yet:  /pscratch/sd/m/mansisak/memorization/model_ckpts/old_run/36000/EleutherAI_edit/slim/mem/0.05/20/1000/0.1/0.1/pythia-2.8b-deduped\n",
      "edited model doesn't exist yet:  /pscratch/sd/m/mansisak/memorization/model_ckpts/old_run/36000/EleutherAI_edit/durable/mem/1e-05/pythia-2.8b-deduped\n",
      "edited model doesn't exist yet:  /pscratch/sd/m/mansisak/memorization/model_ckpts/old_run/36000/EleutherAI_edit/durable/mem/0.0001/pythia-2.8b-deduped\n",
      "edited model doesn't exist yet:  /pscratch/sd/m/mansisak/memorization/model_ckpts/old_run/36000/EleutherAI_edit/durable/mem/0.001/pythia-2.8b-deduped\n",
      "edited model doesn't exist yet:  /pscratch/sd/m/mansisak/memorization/model_ckpts/old_run/36000/EleutherAI_edit/durable/mem/0.01/pythia-2.8b-deduped\n",
      "edited model doesn't exist yet:  /pscratch/sd/m/mansisak/memorization/model_ckpts/old_run/36000/EleutherAI_edit/durable/mem/0.05/pythia-2.8b-deduped\n",
      "edited model doesn't exist yet:  /pscratch/sd/m/mansisak/memorization/model_ckpts/old_run/36000/EleutherAI_edit/durable_agg/mem/1e-05/pythia-2.8b-deduped\n",
      "edited model doesn't exist yet:  /pscratch/sd/m/mansisak/memorization/model_ckpts/old_run/36000/EleutherAI_edit/durable_agg/mem/0.0001/pythia-2.8b-deduped\n",
      "edited model doesn't exist yet:  /pscratch/sd/m/mansisak/memorization/model_ckpts/old_run/36000/EleutherAI_edit/durable_agg/mem/0.001/pythia-2.8b-deduped\n",
      "edited model doesn't exist yet:  /pscratch/sd/m/mansisak/memorization/model_ckpts/old_run/36000/EleutherAI_edit/durable_agg/mem/0.01/pythia-2.8b-deduped\n",
      "edited model doesn't exist yet:  /pscratch/sd/m/mansisak/memorization/model_ckpts/old_run/36000/EleutherAI_edit/durable_agg/mem/0.05/pythia-2.8b-deduped\n",
      "edited model doesn't exist yet:  /pscratch/sd/m/mansisak/memorization/model_ckpts/old_run/36000/EleutherAI_edit/random/mem/1e-05/20/0.1/0.9/0.0005/pythia-2.8b-deduped\n",
      "edited model doesn't exist yet:  /pscratch/sd/m/mansisak/memorization/model_ckpts/old_run/36000/EleutherAI_edit/random/mem/0.0001/20/0.1/0.9/0.0005/pythia-2.8b-deduped\n",
      "edited model doesn't exist yet:  /pscratch/sd/m/mansisak/memorization/model_ckpts/old_run/36000/EleutherAI_edit/random/mem/0.001/20/0.1/0.9/0.0005/pythia-2.8b-deduped\n",
      "edited model doesn't exist yet:  /pscratch/sd/m/mansisak/memorization/model_ckpts/old_run/36000/EleutherAI_edit/random/mem/0.01/20/0.1/0.9/0.0005/pythia-2.8b-deduped\n",
      "edited model doesn't exist yet:  /pscratch/sd/m/mansisak/memorization/model_ckpts/old_run/36000/EleutherAI_edit/random/mem/0.05/20/0.1/0.9/0.0005/pythia-2.8b-deduped\n",
      "edited model doesn't exist yet:  /pscratch/sd/m/mansisak/memorization/model_ckpts/old_run/36000/EleutherAI_edit/random/mem/0.1/20/0.1/0.9/0.0005/pythia-2.8b-deduped\n",
      "edited model doesn't exist yet:  /pscratch/sd/m/mansisak/memorization/model_ckpts/old_run/36000/EleutherAI_edit/random/mem/0.25/20/0.1/0.9/0.0005/pythia-2.8b-deduped\n",
      "edited model doesn't exist yet:  /pscratch/sd/m/mansisak/memorization/model_ckpts/old_run/36000/EleutherAI_edit/random/mem/0.3/20/0.1/0.9/0.0005/pythia-2.8b-deduped\n",
      "edited model doesn't exist yet:  /pscratch/sd/m/mansisak/memorization/model_ckpts/old_run/36000/EleutherAI_edit/random_greedy/mem/1e-05/20/0.1/0.9/0.0005/pythia-2.8b-deduped\n",
      "edited model doesn't exist yet:  /pscratch/sd/m/mansisak/memorization/model_ckpts/old_run/36000/EleutherAI_edit/random_greedy/mem/0.0001/20/0.1/0.9/0.0005/pythia-2.8b-deduped\n",
      "edited model doesn't exist yet:  /pscratch/sd/m/mansisak/memorization/model_ckpts/old_run/36000/EleutherAI_edit/random_greedy/mem/0.001/20/0.1/0.9/0.0005/pythia-2.8b-deduped\n",
      "edited model doesn't exist yet:  /pscratch/sd/m/mansisak/memorization/model_ckpts/old_run/36000/EleutherAI_edit/random_greedy/mem/0.01/20/0.1/0.9/0.0005/pythia-2.8b-deduped\n",
      "edited model doesn't exist yet:  /pscratch/sd/m/mansisak/memorization/model_ckpts/old_run/36000/EleutherAI_edit/random_greedy/mem/0.05/20/0.1/0.9/0.0005/pythia-2.8b-deduped\n",
      "edited model doesn't exist yet:  /pscratch/sd/m/mansisak/memorization/model_ckpts/old_run/36000/EleutherAI_edit/random_greedy/mem/0.1/20/0.1/0.9/0.0005/pythia-2.8b-deduped\n",
      "edited model doesn't exist yet:  /pscratch/sd/m/mansisak/memorization/model_ckpts/old_run/36000/EleutherAI_edit/random_greedy/mem/0.25/20/0.1/0.9/0.0005/pythia-2.8b-deduped\n",
      "edited model doesn't exist yet:  /pscratch/sd/m/mansisak/memorization/model_ckpts/old_run/36000/EleutherAI_edit/random_greedy/mem/0.3/20/0.1/0.9/0.0005/pythia-2.8b-deduped\n",
      "edited model doesn't exist yet:  /pscratch/sd/m/mansisak/memorization/model_ckpts/old_run/36000/EleutherAI_edit/greedy/mem/1e-05/pythia-2.8b-deduped\n",
      "edited model doesn't exist yet:  /pscratch/sd/m/mansisak/memorization/model_ckpts/old_run/72000/EleutherAI_edit/act/mem/0.001/pythia-2.8b-deduped\n",
      "edited model doesn't exist yet:  /pscratch/sd/m/mansisak/memorization/model_ckpts/old_run/72000/EleutherAI_edit/act/mem/0.01/pythia-2.8b-deduped\n",
      "edited model doesn't exist yet:  /pscratch/sd/m/mansisak/memorization/model_ckpts/old_run/72000/EleutherAI_edit/act/mem/0.05/pythia-2.8b-deduped\n",
      "edited model doesn't exist yet:  /pscratch/sd/m/mansisak/memorization/model_ckpts/old_run/72000/EleutherAI_edit/hc/mem/0.001/20/1000/0.1/0.1/pythia-2.8b-deduped\n",
      "edited model doesn't exist yet:  /pscratch/sd/m/mansisak/memorization/model_ckpts/old_run/72000/EleutherAI_edit/hc/mem/0.01/20/1000/0.1/0.1/pythia-2.8b-deduped\n",
      "edited model doesn't exist yet:  /pscratch/sd/m/mansisak/memorization/model_ckpts/old_run/72000/EleutherAI_edit/hc/mem/0.05/20/1000/0.1/0.1/pythia-2.8b-deduped\n",
      "edited model doesn't exist yet:  /pscratch/sd/m/mansisak/memorization/model_ckpts/old_run/72000/EleutherAI_edit/slim/mem/0.001/20/1000/0.1/0.1/pythia-2.8b-deduped\n",
      "edited model doesn't exist yet:  /pscratch/sd/m/mansisak/memorization/model_ckpts/old_run/72000/EleutherAI_edit/slim/mem/0.01/20/1000/0.1/0.1/pythia-2.8b-deduped\n",
      "edited model doesn't exist yet:  /pscratch/sd/m/mansisak/memorization/model_ckpts/old_run/72000/EleutherAI_edit/slim/mem/0.05/20/1000/0.1/0.1/pythia-2.8b-deduped\n",
      "edited model doesn't exist yet:  /pscratch/sd/m/mansisak/memorization/model_ckpts/old_run/72000/EleutherAI_edit/durable/mem/1e-05/pythia-2.8b-deduped\n",
      "edited model doesn't exist yet:  /pscratch/sd/m/mansisak/memorization/model_ckpts/old_run/72000/EleutherAI_edit/durable/mem/0.0001/pythia-2.8b-deduped\n",
      "edited model doesn't exist yet:  /pscratch/sd/m/mansisak/memorization/model_ckpts/old_run/72000/EleutherAI_edit/durable/mem/0.001/pythia-2.8b-deduped\n",
      "edited model doesn't exist yet:  /pscratch/sd/m/mansisak/memorization/model_ckpts/old_run/72000/EleutherAI_edit/durable/mem/0.01/pythia-2.8b-deduped\n",
      "edited model doesn't exist yet:  /pscratch/sd/m/mansisak/memorization/model_ckpts/old_run/72000/EleutherAI_edit/durable/mem/0.05/pythia-2.8b-deduped\n",
      "edited model doesn't exist yet:  /pscratch/sd/m/mansisak/memorization/model_ckpts/old_run/72000/EleutherAI_edit/durable_agg/mem/1e-05/pythia-2.8b-deduped\n",
      "edited model doesn't exist yet:  /pscratch/sd/m/mansisak/memorization/model_ckpts/old_run/72000/EleutherAI_edit/durable_agg/mem/0.0001/pythia-2.8b-deduped\n",
      "edited model doesn't exist yet:  /pscratch/sd/m/mansisak/memorization/model_ckpts/old_run/72000/EleutherAI_edit/durable_agg/mem/0.001/pythia-2.8b-deduped\n",
      "edited model doesn't exist yet:  /pscratch/sd/m/mansisak/memorization/model_ckpts/old_run/72000/EleutherAI_edit/durable_agg/mem/0.01/pythia-2.8b-deduped\n",
      "edited model doesn't exist yet:  /pscratch/sd/m/mansisak/memorization/model_ckpts/old_run/72000/EleutherAI_edit/durable_agg/mem/0.05/pythia-2.8b-deduped\n",
      "edited model doesn't exist yet:  /pscratch/sd/m/mansisak/memorization/model_ckpts/old_run/72000/EleutherAI_edit/random/mem/1e-05/20/0.1/0.9/0.0005/pythia-2.8b-deduped\n",
      "edited model doesn't exist yet:  /pscratch/sd/m/mansisak/memorization/model_ckpts/old_run/72000/EleutherAI_edit/random/mem/0.0001/20/0.1/0.9/0.0005/pythia-2.8b-deduped\n",
      "edited model doesn't exist yet:  /pscratch/sd/m/mansisak/memorization/model_ckpts/old_run/72000/EleutherAI_edit/random/mem/0.001/20/0.1/0.9/0.0005/pythia-2.8b-deduped\n",
      "edited model doesn't exist yet:  /pscratch/sd/m/mansisak/memorization/model_ckpts/old_run/72000/EleutherAI_edit/random/mem/0.01/20/0.1/0.9/0.0005/pythia-2.8b-deduped\n",
      "edited model doesn't exist yet:  /pscratch/sd/m/mansisak/memorization/model_ckpts/old_run/72000/EleutherAI_edit/random/mem/0.05/20/0.1/0.9/0.0005/pythia-2.8b-deduped\n",
      "edited model doesn't exist yet:  /pscratch/sd/m/mansisak/memorization/model_ckpts/old_run/72000/EleutherAI_edit/random/mem/0.1/20/0.1/0.9/0.0005/pythia-2.8b-deduped\n",
      "edited model doesn't exist yet:  /pscratch/sd/m/mansisak/memorization/model_ckpts/old_run/72000/EleutherAI_edit/random/mem/0.25/20/0.1/0.9/0.0005/pythia-2.8b-deduped\n",
      "edited model doesn't exist yet:  /pscratch/sd/m/mansisak/memorization/model_ckpts/old_run/72000/EleutherAI_edit/random/mem/0.3/20/0.1/0.9/0.0005/pythia-2.8b-deduped\n",
      "edited model doesn't exist yet:  /pscratch/sd/m/mansisak/memorization/model_ckpts/old_run/72000/EleutherAI_edit/random_greedy/mem/1e-05/20/0.1/0.9/0.0005/pythia-2.8b-deduped\n",
      "edited model doesn't exist yet:  /pscratch/sd/m/mansisak/memorization/model_ckpts/old_run/72000/EleutherAI_edit/random_greedy/mem/0.0001/20/0.1/0.9/0.0005/pythia-2.8b-deduped\n",
      "edited model doesn't exist yet:  /pscratch/sd/m/mansisak/memorization/model_ckpts/old_run/72000/EleutherAI_edit/random_greedy/mem/0.001/20/0.1/0.9/0.0005/pythia-2.8b-deduped\n",
      "edited model doesn't exist yet:  /pscratch/sd/m/mansisak/memorization/model_ckpts/old_run/72000/EleutherAI_edit/random_greedy/mem/0.01/20/0.1/0.9/0.0005/pythia-2.8b-deduped\n",
      "edited model doesn't exist yet:  /pscratch/sd/m/mansisak/memorization/model_ckpts/old_run/72000/EleutherAI_edit/random_greedy/mem/0.05/20/0.1/0.9/0.0005/pythia-2.8b-deduped\n",
      "edited model doesn't exist yet:  /pscratch/sd/m/mansisak/memorization/model_ckpts/old_run/72000/EleutherAI_edit/random_greedy/mem/0.1/20/0.1/0.9/0.0005/pythia-2.8b-deduped\n",
      "edited model doesn't exist yet:  /pscratch/sd/m/mansisak/memorization/model_ckpts/old_run/72000/EleutherAI_edit/random_greedy/mem/0.25/20/0.1/0.9/0.0005/pythia-2.8b-deduped\n",
      "edited model doesn't exist yet:  /pscratch/sd/m/mansisak/memorization/model_ckpts/old_run/72000/EleutherAI_edit/random_greedy/mem/0.3/20/0.1/0.9/0.0005/pythia-2.8b-deduped\n",
      "edited model doesn't exist yet:  /pscratch/sd/m/mansisak/memorization/model_ckpts/old_run/72000/EleutherAI_edit/greedy/mem/1e-05/pythia-2.8b-deduped\n",
      "edited model doesn't exist yet:  /pscratch/sd/m/mansisak/memorization/model_ckpts/old_run/108000/EleutherAI_edit/act/mem/0.001/pythia-2.8b-deduped\n",
      "edited model doesn't exist yet:  /pscratch/sd/m/mansisak/memorization/model_ckpts/old_run/108000/EleutherAI_edit/act/mem/0.01/pythia-2.8b-deduped\n",
      "edited model doesn't exist yet:  /pscratch/sd/m/mansisak/memorization/model_ckpts/old_run/108000/EleutherAI_edit/act/mem/0.05/pythia-2.8b-deduped\n",
      "edited model doesn't exist yet:  /pscratch/sd/m/mansisak/memorization/model_ckpts/old_run/108000/EleutherAI_edit/hc/mem/0.001/20/1000/0.1/0.1/pythia-2.8b-deduped\n",
      "edited model doesn't exist yet:  /pscratch/sd/m/mansisak/memorization/model_ckpts/old_run/108000/EleutherAI_edit/hc/mem/0.01/20/1000/0.1/0.1/pythia-2.8b-deduped\n",
      "edited model doesn't exist yet:  /pscratch/sd/m/mansisak/memorization/model_ckpts/old_run/108000/EleutherAI_edit/hc/mem/0.05/20/1000/0.1/0.1/pythia-2.8b-deduped\n",
      "edited model doesn't exist yet:  /pscratch/sd/m/mansisak/memorization/model_ckpts/old_run/108000/EleutherAI_edit/slim/mem/0.001/20/1000/0.1/0.1/pythia-2.8b-deduped\n",
      "edited model doesn't exist yet:  /pscratch/sd/m/mansisak/memorization/model_ckpts/old_run/108000/EleutherAI_edit/slim/mem/0.01/20/1000/0.1/0.1/pythia-2.8b-deduped\n",
      "edited model doesn't exist yet:  /pscratch/sd/m/mansisak/memorization/model_ckpts/old_run/108000/EleutherAI_edit/slim/mem/0.05/20/1000/0.1/0.1/pythia-2.8b-deduped\n",
      "edited model doesn't exist yet:  /pscratch/sd/m/mansisak/memorization/model_ckpts/old_run/108000/EleutherAI_edit/durable/mem/1e-05/pythia-2.8b-deduped\n",
      "edited model doesn't exist yet:  /pscratch/sd/m/mansisak/memorization/model_ckpts/old_run/108000/EleutherAI_edit/durable/mem/0.0001/pythia-2.8b-deduped\n",
      "edited model doesn't exist yet:  /pscratch/sd/m/mansisak/memorization/model_ckpts/old_run/108000/EleutherAI_edit/durable/mem/0.001/pythia-2.8b-deduped\n",
      "edited model doesn't exist yet:  /pscratch/sd/m/mansisak/memorization/model_ckpts/old_run/108000/EleutherAI_edit/durable/mem/0.01/pythia-2.8b-deduped\n",
      "edited model doesn't exist yet:  /pscratch/sd/m/mansisak/memorization/model_ckpts/old_run/108000/EleutherAI_edit/durable/mem/0.05/pythia-2.8b-deduped\n",
      "edited model doesn't exist yet:  /pscratch/sd/m/mansisak/memorization/model_ckpts/old_run/108000/EleutherAI_edit/durable_agg/mem/1e-05/pythia-2.8b-deduped\n",
      "edited model doesn't exist yet:  /pscratch/sd/m/mansisak/memorization/model_ckpts/old_run/108000/EleutherAI_edit/durable_agg/mem/0.0001/pythia-2.8b-deduped\n",
      "edited model doesn't exist yet:  /pscratch/sd/m/mansisak/memorization/model_ckpts/old_run/108000/EleutherAI_edit/durable_agg/mem/0.001/pythia-2.8b-deduped\n",
      "edited model doesn't exist yet:  /pscratch/sd/m/mansisak/memorization/model_ckpts/old_run/108000/EleutherAI_edit/durable_agg/mem/0.01/pythia-2.8b-deduped\n",
      "edited model doesn't exist yet:  /pscratch/sd/m/mansisak/memorization/model_ckpts/old_run/108000/EleutherAI_edit/durable_agg/mem/0.05/pythia-2.8b-deduped\n",
      "edited model doesn't exist yet:  /pscratch/sd/m/mansisak/memorization/model_ckpts/old_run/108000/EleutherAI_edit/random/mem/1e-05/20/0.1/0.9/0.0005/pythia-2.8b-deduped\n",
      "edited model doesn't exist yet:  /pscratch/sd/m/mansisak/memorization/model_ckpts/old_run/108000/EleutherAI_edit/random/mem/0.0001/20/0.1/0.9/0.0005/pythia-2.8b-deduped\n",
      "edited model doesn't exist yet:  /pscratch/sd/m/mansisak/memorization/model_ckpts/old_run/108000/EleutherAI_edit/random/mem/0.001/20/0.1/0.9/0.0005/pythia-2.8b-deduped\n",
      "edited model doesn't exist yet:  /pscratch/sd/m/mansisak/memorization/model_ckpts/old_run/108000/EleutherAI_edit/random/mem/0.01/20/0.1/0.9/0.0005/pythia-2.8b-deduped\n",
      "edited model doesn't exist yet:  /pscratch/sd/m/mansisak/memorization/model_ckpts/old_run/108000/EleutherAI_edit/random/mem/0.05/20/0.1/0.9/0.0005/pythia-2.8b-deduped\n",
      "edited model doesn't exist yet:  /pscratch/sd/m/mansisak/memorization/model_ckpts/old_run/108000/EleutherAI_edit/random/mem/0.1/20/0.1/0.9/0.0005/pythia-2.8b-deduped\n",
      "edited model doesn't exist yet:  /pscratch/sd/m/mansisak/memorization/model_ckpts/old_run/108000/EleutherAI_edit/random/mem/0.25/20/0.1/0.9/0.0005/pythia-2.8b-deduped\n",
      "edited model doesn't exist yet:  /pscratch/sd/m/mansisak/memorization/model_ckpts/old_run/108000/EleutherAI_edit/random/mem/0.3/20/0.1/0.9/0.0005/pythia-2.8b-deduped\n",
      "edited model doesn't exist yet:  /pscratch/sd/m/mansisak/memorization/model_ckpts/old_run/108000/EleutherAI_edit/random_greedy/mem/1e-05/20/0.1/0.9/0.0005/pythia-2.8b-deduped\n",
      "edited model doesn't exist yet:  /pscratch/sd/m/mansisak/memorization/model_ckpts/old_run/108000/EleutherAI_edit/random_greedy/mem/0.0001/20/0.1/0.9/0.0005/pythia-2.8b-deduped\n",
      "edited model doesn't exist yet:  /pscratch/sd/m/mansisak/memorization/model_ckpts/old_run/108000/EleutherAI_edit/random_greedy/mem/0.001/20/0.1/0.9/0.0005/pythia-2.8b-deduped\n",
      "edited model doesn't exist yet:  /pscratch/sd/m/mansisak/memorization/model_ckpts/old_run/108000/EleutherAI_edit/random_greedy/mem/0.01/20/0.1/0.9/0.0005/pythia-2.8b-deduped\n",
      "edited model doesn't exist yet:  /pscratch/sd/m/mansisak/memorization/model_ckpts/old_run/108000/EleutherAI_edit/random_greedy/mem/0.05/20/0.1/0.9/0.0005/pythia-2.8b-deduped\n",
      "edited model doesn't exist yet:  /pscratch/sd/m/mansisak/memorization/model_ckpts/old_run/108000/EleutherAI_edit/random_greedy/mem/0.1/20/0.1/0.9/0.0005/pythia-2.8b-deduped\n",
      "edited model doesn't exist yet:  /pscratch/sd/m/mansisak/memorization/model_ckpts/old_run/108000/EleutherAI_edit/random_greedy/mem/0.25/20/0.1/0.9/0.0005/pythia-2.8b-deduped\n",
      "edited model doesn't exist yet:  /pscratch/sd/m/mansisak/memorization/model_ckpts/old_run/108000/EleutherAI_edit/random_greedy/mem/0.3/20/0.1/0.9/0.0005/pythia-2.8b-deduped\n",
      "edited model doesn't exist yet:  /pscratch/sd/m/mansisak/memorization/model_ckpts/old_run/108000/EleutherAI_edit/greedy/mem/1e-05/pythia-2.8b-deduped\n",
      "edited model doesn't exist yet:  /pscratch/sd/m/mansisak/memorization/model_ckpts/old_run/143000/EleutherAI_edit/act/mem/0.001/pythia-2.8b-deduped\n",
      "edited model doesn't exist yet:  /pscratch/sd/m/mansisak/memorization/model_ckpts/old_run/143000/EleutherAI_edit/act/mem/0.01/pythia-2.8b-deduped\n",
      "edited model doesn't exist yet:  /pscratch/sd/m/mansisak/memorization/model_ckpts/old_run/143000/EleutherAI_edit/act/mem/0.05/pythia-2.8b-deduped\n",
      "edited model doesn't exist yet:  /pscratch/sd/m/mansisak/memorization/model_ckpts/old_run/143000/EleutherAI_edit/hc/mem/0.001/20/1000/0.1/0.1/pythia-2.8b-deduped\n",
      "edited model doesn't exist yet:  /pscratch/sd/m/mansisak/memorization/model_ckpts/old_run/143000/EleutherAI_edit/hc/mem/0.01/20/1000/0.1/0.1/pythia-2.8b-deduped\n",
      "edited model doesn't exist yet:  /pscratch/sd/m/mansisak/memorization/model_ckpts/old_run/143000/EleutherAI_edit/hc/mem/0.05/20/1000/0.1/0.1/pythia-2.8b-deduped\n",
      "edited model doesn't exist yet:  /pscratch/sd/m/mansisak/memorization/model_ckpts/old_run/143000/EleutherAI_edit/slim/mem/0.001/20/1000/0.1/0.1/pythia-2.8b-deduped\n",
      "edited model doesn't exist yet:  /pscratch/sd/m/mansisak/memorization/model_ckpts/old_run/143000/EleutherAI_edit/slim/mem/0.01/20/1000/0.1/0.1/pythia-2.8b-deduped\n",
      "edited model doesn't exist yet:  /pscratch/sd/m/mansisak/memorization/model_ckpts/old_run/143000/EleutherAI_edit/slim/mem/0.05/20/1000/0.1/0.1/pythia-2.8b-deduped\n",
      "edited model doesn't exist yet:  /pscratch/sd/m/mansisak/memorization/model_ckpts/old_run/143000/EleutherAI_edit/durable/mem/1e-05/pythia-2.8b-deduped\n",
      "edited model doesn't exist yet:  /pscratch/sd/m/mansisak/memorization/model_ckpts/old_run/143000/EleutherAI_edit/durable/mem/0.0001/pythia-2.8b-deduped\n",
      "edited model doesn't exist yet:  /pscratch/sd/m/mansisak/memorization/model_ckpts/old_run/143000/EleutherAI_edit/durable/mem/0.001/pythia-2.8b-deduped\n",
      "edited model doesn't exist yet:  /pscratch/sd/m/mansisak/memorization/model_ckpts/old_run/143000/EleutherAI_edit/durable/mem/0.01/pythia-2.8b-deduped\n",
      "edited model doesn't exist yet:  /pscratch/sd/m/mansisak/memorization/model_ckpts/old_run/143000/EleutherAI_edit/durable/mem/0.05/pythia-2.8b-deduped\n",
      "edited model doesn't exist yet:  /pscratch/sd/m/mansisak/memorization/model_ckpts/old_run/143000/EleutherAI_edit/durable_agg/mem/1e-05/pythia-2.8b-deduped\n",
      "edited model doesn't exist yet:  /pscratch/sd/m/mansisak/memorization/model_ckpts/old_run/143000/EleutherAI_edit/durable_agg/mem/0.0001/pythia-2.8b-deduped\n",
      "edited model doesn't exist yet:  /pscratch/sd/m/mansisak/memorization/model_ckpts/old_run/143000/EleutherAI_edit/durable_agg/mem/0.001/pythia-2.8b-deduped\n",
      "edited model doesn't exist yet:  /pscratch/sd/m/mansisak/memorization/model_ckpts/old_run/143000/EleutherAI_edit/durable_agg/mem/0.01/pythia-2.8b-deduped\n",
      "edited model doesn't exist yet:  /pscratch/sd/m/mansisak/memorization/model_ckpts/old_run/143000/EleutherAI_edit/durable_agg/mem/0.05/pythia-2.8b-deduped\n",
      "edited model doesn't exist yet:  /pscratch/sd/m/mansisak/memorization/model_ckpts/old_run/143000/EleutherAI_edit/random/mem/1e-05/20/0.1/0.9/0.0005/pythia-2.8b-deduped\n",
      "edited model doesn't exist yet:  /pscratch/sd/m/mansisak/memorization/model_ckpts/old_run/143000/EleutherAI_edit/random/mem/0.0001/20/0.1/0.9/0.0005/pythia-2.8b-deduped\n",
      "edited model doesn't exist yet:  /pscratch/sd/m/mansisak/memorization/model_ckpts/old_run/143000/EleutherAI_edit/random/mem/0.001/20/0.1/0.9/0.0005/pythia-2.8b-deduped\n",
      "edited model doesn't exist yet:  /pscratch/sd/m/mansisak/memorization/model_ckpts/old_run/143000/EleutherAI_edit/random/mem/0.01/20/0.1/0.9/0.0005/pythia-2.8b-deduped\n",
      "edited model doesn't exist yet:  /pscratch/sd/m/mansisak/memorization/model_ckpts/old_run/143000/EleutherAI_edit/random/mem/0.05/20/0.1/0.9/0.0005/pythia-2.8b-deduped\n",
      "edited model doesn't exist yet:  /pscratch/sd/m/mansisak/memorization/model_ckpts/old_run/143000/EleutherAI_edit/random/mem/0.1/20/0.1/0.9/0.0005/pythia-2.8b-deduped\n",
      "edited model doesn't exist yet:  /pscratch/sd/m/mansisak/memorization/model_ckpts/old_run/143000/EleutherAI_edit/random/mem/0.25/20/0.1/0.9/0.0005/pythia-2.8b-deduped\n",
      "edited model doesn't exist yet:  /pscratch/sd/m/mansisak/memorization/model_ckpts/old_run/143000/EleutherAI_edit/random/mem/0.3/20/0.1/0.9/0.0005/pythia-2.8b-deduped\n",
      "edited model doesn't exist yet:  /pscratch/sd/m/mansisak/memorization/model_ckpts/old_run/143000/EleutherAI_edit/random_greedy/mem/1e-05/20/0.1/0.9/0.0005/pythia-2.8b-deduped\n",
      "edited model doesn't exist yet:  /pscratch/sd/m/mansisak/memorization/model_ckpts/old_run/143000/EleutherAI_edit/random_greedy/mem/0.0001/20/0.1/0.9/0.0005/pythia-2.8b-deduped\n",
      "edited model doesn't exist yet:  /pscratch/sd/m/mansisak/memorization/model_ckpts/old_run/143000/EleutherAI_edit/random_greedy/mem/0.001/20/0.1/0.9/0.0005/pythia-2.8b-deduped\n",
      "edited model doesn't exist yet:  /pscratch/sd/m/mansisak/memorization/model_ckpts/old_run/143000/EleutherAI_edit/random_greedy/mem/0.01/20/0.1/0.9/0.0005/pythia-2.8b-deduped\n",
      "edited model doesn't exist yet:  /pscratch/sd/m/mansisak/memorization/model_ckpts/old_run/143000/EleutherAI_edit/random_greedy/mem/0.05/20/0.1/0.9/0.0005/pythia-2.8b-deduped\n",
      "edited model doesn't exist yet:  /pscratch/sd/m/mansisak/memorization/model_ckpts/old_run/143000/EleutherAI_edit/random_greedy/mem/0.1/20/0.1/0.9/0.0005/pythia-2.8b-deduped\n",
      "edited model doesn't exist yet:  /pscratch/sd/m/mansisak/memorization/model_ckpts/old_run/143000/EleutherAI_edit/random_greedy/mem/0.25/20/0.1/0.9/0.0005/pythia-2.8b-deduped\n",
      "edited model doesn't exist yet:  /pscratch/sd/m/mansisak/memorization/model_ckpts/old_run/143000/EleutherAI_edit/random_greedy/mem/0.3/20/0.1/0.9/0.0005/pythia-2.8b-deduped\n",
      "edited model doesn't exist yet:  /pscratch/sd/m/mansisak/memorization/model_ckpts/old_run/143000/EleutherAI_edit/greedy/mem/1e-05/pythia-2.8b-deduped\n",
      "total_expeirments:  640\n"
     ]
    }
   ],
   "source": [
    "# parent_path = \"/pscratch/sd/m/mansisak/memorization/model_ckpts/\"\n",
    "parent_path = \"/pscratch/sd/m/mansisak/memorization/model_ckpts/old_run/\"\n",
    "\n",
    "print_edited_model_paths(parent_path)"
   ]
  },
  {
   "cell_type": "code",
   "execution_count": 8,
   "id": "2c036efd-bbcd-4a48-b8c6-b2f74155fd00",
   "metadata": {
    "tags": []
   },
   "outputs": [
    {
     "data": {
      "text/plain": [
       "GPTNeoXForCausalLM(\n",
       "  (gpt_neox): GPTNeoXModel(\n",
       "    (embed_in): Embedding(50304, 2560)\n",
       "    (emb_dropout): Dropout(p=0.0, inplace=False)\n",
       "    (layers): ModuleList(\n",
       "      (0-31): 32 x GPTNeoXLayer(\n",
       "        (input_layernorm): LayerNorm((2560,), eps=1e-05, elementwise_affine=True)\n",
       "        (post_attention_layernorm): LayerNorm((2560,), eps=1e-05, elementwise_affine=True)\n",
       "        (post_attention_dropout): Dropout(p=0.0, inplace=False)\n",
       "        (post_mlp_dropout): Dropout(p=0.0, inplace=False)\n",
       "        (attention): GPTNeoXAttention(\n",
       "          (rotary_emb): GPTNeoXRotaryEmbedding()\n",
       "          (query_key_value): Linear(in_features=2560, out_features=7680, bias=True)\n",
       "          (dense): Linear(in_features=2560, out_features=2560, bias=True)\n",
       "          (attention_dropout): Dropout(p=0.0, inplace=False)\n",
       "        )\n",
       "        (mlp): GPTNeoXMLP(\n",
       "          (dense_h_to_4h): Linear(in_features=2560, out_features=10240, bias=True)\n",
       "          (dense_4h_to_h): Linear(in_features=10240, out_features=2560, bias=True)\n",
       "          (act): GELUActivation()\n",
       "        )\n",
       "      )\n",
       "    )\n",
       "    (final_layer_norm): LayerNorm((2560,), eps=1e-05, elementwise_affine=True)\n",
       "  )\n",
       "  (embed_out): Linear(in_features=2560, out_features=50304, bias=False)\n",
       ")"
      ]
     },
     "execution_count": 8,
     "metadata": {},
     "output_type": "execute_result"
    }
   ],
   "source": [
    "# Example of how to load in a model:\n",
    "\n",
    "model = AutoModelForCausalLM.from_pretrained(\n",
    "    \"EleutherAI/pythia-2.8b-deduped\",\n",
    "    torch_dtype=torch.float16,\n",
    "    device_map=device\n",
    ")\n",
    "\n",
    "# sd_path = '/pscratch/sd/m/mansisak/memorization/model_ckpts/old_run/143000/EleutherAI_edit/random_greedy/mem/0.001/20/0.1/0.9/0.0005/pythia-2.8b-deduped'\n",
    "sd_paths = dict(\n",
    "    unedited = None,\n",
    "    good_edit = \"/pscratch/sd/m/mansisak/memorization/model_ckpts/143000/EleutherAI_edit/random_greedy/mem/0.001/20/0.1/0.9/0.0005/pythia-2.8b-deduped\",\n",
    "    bad_edit = \"/pscratch/sd/m/mansisak/memorization/model_ckpts/143000/EleutherAI_edit/random/mem/0.1/20/0.1/0.9/0.0005/pythia-2.8b-deduped\",\n",
    ")\n",
    "\n",
    "# choose which model to load\n",
    "use_model = \"unedited\" #_edit\"\n",
    "sd_path = sd_paths.get(use_model)\n",
    "\n",
    "if sd_path is not None:\n",
    "    sd = torch.load(sd_path, map_location=device)[\"model_state_dict\"]\n",
    "    if \"random\" in sd_path:\n",
    "        for k in sd:\n",
    "            if \"4h\" in k:\n",
    "                #rint(sd[k].shape)\n",
    "                #rint(k)\n",
    "                sd[k] = sd[k].T\n",
    "    model.load_state_dict(sd, assign=True)\n",
    "model.eval()"
   ]
  },
  {
   "cell_type": "code",
   "execution_count": 9,
   "id": "21f1b8eb-b502-4c11-a2a8-0113053b1340",
   "metadata": {
    "tags": []
   },
   "outputs": [
    {
     "data": {
      "text/plain": [
       "device(type='cuda', index=0)"
      ]
     },
     "execution_count": 9,
     "metadata": {},
     "output_type": "execute_result"
    }
   ],
   "source": [
    "model.device"
   ]
  },
  {
   "cell_type": "markdown",
   "id": "e66b328d-9897-41e1-8165-4f9c7762a80e",
   "metadata": {},
   "source": [
    "# Load memorized data"
   ]
  },
  {
   "cell_type": "code",
   "execution_count": 10,
   "id": "cf00eda6-adf9-42d9-935a-03f2fc730fce",
   "metadata": {
    "tags": []
   },
   "outputs": [
    {
     "name": "stderr",
     "output_type": "stream",
     "text": [
      "Special tokens have been added in the vocabulary, make sure the associated word embeddings are fine-tuned or trained.\n"
     ]
    }
   ],
   "source": [
    "import copy \n",
    "\n",
    "# Get data\n",
    "if \"2\" in model.name_or_path:\n",
    "    data_path = (\n",
    "        \"/pscratch/sd/m/mansisak/memorization/src/data/pythia_mem_data/pythia-2.8b-deduped-v0/pile_bs0-100-dedup.pt\"\n",
    "    )\n",
    "if \"6\" in model.name_or_path:\n",
    "    data_path = \"/pscratch/sd/m/mansisak/memorization/src/data/pythia_mem_data/pythia-6.9b-deduped/pile_bs0-100-dedup.pt\"\n",
    "# model_path = f\"../../model_ckpts/{args.step}/{args.model_name}\"\n",
    "# print(\"Model path: \", args.model_path)\n",
    "\n",
    "data = torch.load(data_path).to(device)\n",
    "unlearn_set = copy.deepcopy(data)\n",
    "random_data = torch.load(\"/pscratch/sd/m/mansisak/memorization/src/data/pythia_mem_data/pile_random_batch.pt\").to(device)\n",
    "random_data_pile = torch.reshape(random_data[0:2040], (3264, 80))\n",
    "random_data = random_data_pile[0:1632]\n",
    "extra_data = random_data_pile[1632:]\n",
    "random_dataloader = DataLoader(random_data, batch_size=32, shuffle=False)\n",
    "\n",
    "from transformers import AutoModelForCausalLM, AutoTokenizer\n",
    "tokenizer = AutoTokenizer.from_pretrained(model.name_or_path)"
   ]
  },
  {
   "cell_type": "code",
   "execution_count": 11,
   "id": "41d89bb9-47d9-4946-8e5a-2595a440deed",
   "metadata": {
    "tags": []
   },
   "outputs": [],
   "source": [
    "def check_percent_memorized(\n",
    "    dataset,\n",
    "    random_dataloader,\n",
    "    prompt_len,\n",
    "    k,\n",
    "    batch_size,\n",
    "    model,\n",
    "    max_ctx=650,\n",
    "    pad_token_id=13,\n",
    "):\n",
    "    print(\"checking perc mem\")\n",
    "    dataloader = DataLoader(dataset, batch_size=batch_size, shuffle=False)\n",
    "    memorized = 0\n",
    "    non_memorized = 0\n",
    "    total = 0\n",
    "    mem_seq = []\n",
    "    clean_mem_seq = []\n",
    "    with torch.inference_mode():\n",
    "        for batch in tqdm(dataloader):\n",
    "            outputs = model.generate(\n",
    "                inputs=batch[:, :prompt_len],  # grab first prompt_len tokens\n",
    "                attention_mask=torch.ones_like(batch[:, :prompt_len]),\n",
    "                max_length=max_ctx,\n",
    "                min_length=max_ctx,\n",
    "                pad_token_id=pad_token_id,\n",
    "            )\n",
    "\n",
    "            # now check if there is a match\n",
    "            equals = torch.eq(\n",
    "                outputs[:, prompt_len : prompt_len + k],\n",
    "                batch[:, prompt_len : prompt_len + k],\n",
    "            )\n",
    "\n",
    "            match_rows = equals.all(dim=1)\n",
    "            total_matchs = match_rows.sum()\n",
    "            if total_matchs != 0:\n",
    "                idxs = torch.squeeze(match_rows.nonzero())\n",
    "                # if there is only one dim, expand dim to match batched idxs\n",
    "                if idxs.dim() < 1:\n",
    "                    idxs = torch.unsqueeze(idxs, 0)\n",
    "                mem_seq.append(batch[idxs])\n",
    "\n",
    "            total += batch.shape[0]\n",
    "            memorized += total_matchs\n",
    "            percent_mem = (memorized / total).item()\n",
    "            # print(\"perc mem so far: \", percent_mem)\n",
    "    # check if list is empty\n",
    "    if len(mem_seq) > 0:\n",
    "        mem_seq = torch.cat(mem_seq, 0)\n",
    "    print(\"perc mem: \", percent_mem)\n",
    "\n",
    "    # perplexity_random_batch = perplexity(random_dataloader, model)\n",
    "    # print(\"perplexities of random pile batch: \", perplexity_random_batch)\n",
    "\n",
    "    return percent_mem, mem_seq #, perplexity_random_batch\n",
    "\n"
   ]
  },
  {
   "cell_type": "code",
   "execution_count": 12,
   "id": "d49a45df-757a-4e50-896f-de5764f35acf",
   "metadata": {
    "tags": []
   },
   "outputs": [
    {
     "name": "stdout",
     "output_type": "stream",
     "text": [
      "checking perc mem\n"
     ]
    },
    {
     "name": "stderr",
     "output_type": "stream",
     "text": [
      "100%|██████████| 8/8 [00:32<00:00,  4.11s/it]\n"
     ]
    },
    {
     "name": "stdout",
     "output_type": "stream",
     "text": [
      "perc mem:  0.5346534848213196\n"
     ]
    }
   ],
   "source": [
    "percent_mem, mem_seq = check_percent_memorized(\n",
    "                dataset=unlearn_set,\n",
    "                random_dataloader=random_dataloader,\n",
    "                prompt_len=32,\n",
    "                k=40,\n",
    "                batch_size=64,\n",
    "                model=model,\n",
    "                max_ctx=80,\n",
    "                pad_token_id=tokenizer.eos_token_id,\n",
    "            )"
   ]
  },
  {
   "cell_type": "code",
   "execution_count": 13,
   "id": "8ff7d214-7450-4326-a09d-f22d50418a66",
   "metadata": {
    "tags": []
   },
   "outputs": [],
   "source": [
    "mem_dataloader = DataLoader(mem_seq[:10], batch_size=1, shuffle=False)"
   ]
  },
  {
   "cell_type": "code",
   "execution_count": null,
   "id": "3a89ee52-1ec4-45eb-9216-2c9deb3ba808",
   "metadata": {
    "tags": []
   },
   "outputs": [],
   "source": [
    "mem_seq"
   ]
  },
  {
   "cell_type": "markdown",
   "id": "e9b04ce0-d74c-472a-be25-eee922642533",
   "metadata": {},
   "source": [
    "# Load random data "
   ]
  },
  {
   "cell_type": "code",
   "execution_count": 14,
   "id": "6de5bd3e-0a01-4e83-b410-f1493ad58aa5",
   "metadata": {
    "tags": []
   },
   "outputs": [],
   "source": [
    "# random_data = torch.load(\"/pscratch/sd/m/mansisak/memorization/src/data/pythia_mem_data/pile_random_batch.pt\")\n",
    "# random_data_pile = torch.reshape(random_data[0:2040], (3264, 80)).to(device)\n",
    "\n",
    "# random_data = random_data_pile[0:1632]\n",
    "# extra_data = random_data_pile[1632:]\n",
    "\n",
    "random_data = random_data_pile[0:10] # for testing purposes\n",
    "random_dataloader = DataLoader(random_data, batch_size=1, shuffle=False)"
   ]
  },
  {
   "cell_type": "code",
   "execution_count": 15,
   "id": "cc7774c4-e98e-47ed-b198-20e2d39d0369",
   "metadata": {
    "tags": []
   },
   "outputs": [],
   "source": [
    "# # need (inputs, targets) format for PyHessian\n",
    "# hessian_dataloader = DataLoader([*zip(random_data, random_data)], batch_size=1, shuffle=False)\n",
    "# hessian_dataloader"
   ]
  },
  {
   "cell_type": "markdown",
   "id": "6e0195c8-f054-4c1c-919f-46b75f8a6393",
   "metadata": {},
   "source": [
    "# Model Inference"
   ]
  },
  {
   "cell_type": "code",
   "execution_count": 16,
   "id": "701138ae-5dde-401e-988f-6aa8eb3a899d",
   "metadata": {
    "tags": []
   },
   "outputs": [],
   "source": [
    "def perplexity(model, dataloader):\n",
    "    avg_metric = 0\n",
    "    for i, batch in enumerate(dataloader):\n",
    "        with torch.no_grad():\n",
    "            model_output = model(batch, labels=batch)\n",
    "        loss = model_output.loss\n",
    "        loss_exp = torch.exp(loss)\n",
    "        if torch.isinf(loss_exp):\n",
    "            print(f\"Skipping invalid loss...\")\n",
    "            print(f\"    {i=}, loss={loss.item()}, exp(loss)={torch.exp(loss).item()}\")\n",
    "        avg_metric += loss_exp\n",
    "        # print(loss.item())\n",
    "    return avg_metric / len(dataloader)\n",
    "\n",
    "\n",
    "def perplexity_criterion(model_output, targets=None):\n",
    "    loss = model_output.loss\n",
    "    return torch.exp(loss)\n",
    "\n",
    "\n",
    "def average_loss(model, dataloader):\n",
    "    avg_metric = 0\n",
    "    for i, batch in enumerate(dataloader):\n",
    "        with torch.no_grad():\n",
    "            model_output = model(batch, labels=batch)\n",
    "        loss = model_output.loss\n",
    "        avg_metric += loss\n",
    "        # print(loss.item())\n",
    "    return avg_metric / len(dataloader)\n",
    "\n",
    "\n",
    "from torch.nn import CrossEntropyLoss\n",
    "def loss_criterion(model_output, inputs):\n",
    "    # Shift so that tokens < n predict n\n",
    "    shift_labels = inputs[..., 1:].contiguous()\n",
    "    shift_logits = model_output.logits[..., :-1, :].contiguous()\n",
    "    # Calculate per-token loss\n",
    "    loss_fct = CrossEntropyLoss(reduction=\"none\")\n",
    "    loss = loss_fct(shift_logits.view(-1, shift_logits.size(-1)), shift_labels.view(-1))\n",
    "    # Resize and average loss per sample\n",
    "    loss_per_sample = loss.view(shift_logits.size(0), shift_logits.size(1)).mean(axis=1)\n",
    "    return (loss_per_sample).mean()\n"
   ]
  },
  {
   "cell_type": "code",
   "execution_count": 17,
   "id": "a32f43ba-0e19-4eb8-88d5-790895e65e94",
   "metadata": {
    "tags": []
   },
   "outputs": [
    {
     "data": {
      "text/plain": [
       "tensor(3.0703, device='cuda:0', dtype=torch.float16)"
      ]
     },
     "execution_count": 17,
     "metadata": {},
     "output_type": "execute_result"
    }
   ],
   "source": [
    "average_loss(model, random_dataloader)"
   ]
  },
  {
   "cell_type": "code",
   "execution_count": null,
   "id": "2755bcf2-113a-4424-8e31-feea68cbbbdd",
   "metadata": {
    "tags": []
   },
   "outputs": [],
   "source": [
    "average_loss(model, mem_dataloader)"
   ]
  },
  {
   "cell_type": "code",
   "execution_count": null,
   "id": "6b399cd5-416e-4d04-8996-98a4372ca579",
   "metadata": {},
   "outputs": [],
   "source": [
    "loss_criterion(model(random_data[[1]]), random_data[[1]])"
   ]
  },
  {
   "cell_type": "code",
   "execution_count": null,
   "id": "ef918f02-8a7b-4992-b1b1-18687613548e",
   "metadata": {
    "tags": []
   },
   "outputs": [],
   "source": [
    "loss_criterion(model(mem_seq[[1]]), mem_seq[[1]])"
   ]
  },
  {
   "cell_type": "markdown",
   "id": "670be195-92ae-4270-bdc0-860a792b39b2",
   "metadata": {},
   "source": [
    "# Loss Landscape stuff"
   ]
  },
  {
   "cell_type": "code",
   "execution_count": 18,
   "id": "603ae303-9c10-43c8-939c-55aade290580",
   "metadata": {
    "tags": []
   },
   "outputs": [],
   "source": [
    "import numpy as np\n",
    "from pyhessian import hessian\n",
    "from pyhessian.utils import normalization\n",
    "import copy\n",
    "\n",
    "import matplotlib.pyplot as plt"
   ]
  },
  {
   "cell_type": "code",
   "execution_count": 19,
   "id": "26d01b6d-a8de-4d80-b865-3d50d636d5ec",
   "metadata": {
    "tags": []
   },
   "outputs": [],
   "source": [
    "def get_params(model_orig, model_perb, direction, alpha):\n",
    "    for m_orig, m_perb, d in zip(\n",
    "        model_orig.parameters(), model_perb.parameters(), direction\n",
    "    ):\n",
    "        m_perb.data = m_orig.data + alpha * d\n",
    "    return model_perb"
   ]
  },
  {
   "cell_type": "code",
   "execution_count": 20,
   "id": "eea9d8a8-e868-4ef4-9068-e2b6f661a1ef",
   "metadata": {
    "tags": []
   },
   "outputs": [],
   "source": [
    "# move model to the CPU\n",
    "model = model.to(\"cpu\")"
   ]
  },
  {
   "cell_type": "code",
   "execution_count": 21,
   "id": "06a6b2ce-fb23-43e3-b6a7-6ced05494bff",
   "metadata": {
    "tags": []
   },
   "outputs": [
    {
     "data": {
      "text/plain": [
       "device(type='cpu')"
      ]
     },
     "execution_count": 21,
     "metadata": {},
     "output_type": "execute_result"
    }
   ],
   "source": [
    "model.device"
   ]
  },
  {
   "cell_type": "markdown",
   "id": "9949e4a7-6927-468f-bd19-a909636e9855",
   "metadata": {},
   "source": [
    "## 1D random directions"
   ]
  },
  {
   "cell_type": "code",
   "execution_count": 28,
   "id": "27e57d47-5874-40ff-965e-c13324e231ba",
   "metadata": {
    "tags": []
   },
   "outputs": [
    {
     "name": "stdout",
     "output_type": "stream",
     "text": [
      "Perturbing model...\n",
      "Evaluating loss...\n",
      "    (data_index=0, lam=-0.005) loss=4.50390625\n",
      "Perturbing model...\n",
      "Evaluating loss...\n",
      "    (data_index=0, lam=-0.00475) loss=4.171875\n",
      "Perturbing model...\n",
      "Evaluating loss...\n",
      "    (data_index=0, lam=-0.0045) loss=3.849609375\n",
      "Perturbing model...\n",
      "Evaluating loss...\n",
      "    (data_index=0, lam=-0.00425) loss=3.533203125\n",
      "Perturbing model...\n",
      "Evaluating loss...\n",
      "    (data_index=0, lam=-0.004) loss=3.1796875\n",
      "Perturbing model...\n",
      "Evaluating loss...\n",
      "    (data_index=0, lam=-0.00375) loss=2.83203125\n",
      "Perturbing model...\n",
      "Evaluating loss...\n",
      "    (data_index=0, lam=-0.0035) loss=2.48828125\n",
      "Perturbing model...\n",
      "Evaluating loss...\n",
      "    (data_index=0, lam=-0.00325) loss=2.185546875\n",
      "Perturbing model...\n",
      "Evaluating loss...\n",
      "    (data_index=0, lam=-0.003) loss=1.9228515625\n",
      "Perturbing model...\n",
      "Evaluating loss...\n",
      "    (data_index=0, lam=-0.00275) loss=1.681640625\n",
      "Perturbing model...\n",
      "Evaluating loss...\n",
      "    (data_index=0, lam=-0.0025) loss=1.4560546875\n",
      "Perturbing model...\n",
      "Evaluating loss...\n",
      "    (data_index=0, lam=-0.00225) loss=1.236328125\n",
      "Perturbing model...\n",
      "Evaluating loss...\n",
      "    (data_index=0, lam=-0.002) loss=1.03125\n",
      "Perturbing model...\n",
      "Evaluating loss...\n",
      "    (data_index=0, lam=-0.00175) loss=0.85546875\n",
      "Perturbing model...\n",
      "Evaluating loss...\n",
      "    (data_index=0, lam=-0.0015) loss=0.7451171875\n",
      "Perturbing model...\n",
      "Evaluating loss...\n",
      "    (data_index=0, lam=-0.00125) loss=0.68505859375\n",
      "Perturbing model...\n",
      "Evaluating loss...\n",
      "    (data_index=0, lam=-0.001) loss=0.64208984375\n",
      "Perturbing model...\n",
      "Evaluating loss...\n",
      "    (data_index=0, lam=-0.00075) loss=0.6181640625\n",
      "Perturbing model...\n",
      "Evaluating loss...\n",
      "    (data_index=0, lam=-0.0005) loss=0.6044921875\n",
      "Perturbing model...\n",
      "Evaluating loss...\n",
      "    (data_index=0, lam=-0.00025) loss=0.59912109375\n",
      "Perturbing model...\n",
      "Evaluating loss...\n",
      "    (data_index=0, lam=0.0) loss=0.59912109375\n",
      "Perturbing model...\n",
      "Evaluating loss...\n",
      "    (data_index=0, lam=0.00025) loss=0.6015625\n",
      "Perturbing model...\n",
      "Evaluating loss...\n",
      "    (data_index=0, lam=0.0005) loss=0.60693359375\n",
      "Perturbing model...\n",
      "Evaluating loss...\n",
      "    (data_index=0, lam=0.00075) loss=0.6171875\n",
      "Perturbing model...\n",
      "Evaluating loss...\n",
      "    (data_index=0, lam=0.001) loss=0.62939453125\n",
      "Perturbing model...\n",
      "Evaluating loss...\n",
      "    (data_index=0, lam=0.00125) loss=0.654296875\n",
      "Perturbing model...\n",
      "Evaluating loss...\n",
      "    (data_index=0, lam=0.0015) loss=0.69140625\n",
      "Perturbing model...\n",
      "Evaluating loss...\n",
      "    (data_index=0, lam=0.00175) loss=0.75048828125\n",
      "Perturbing model...\n",
      "Evaluating loss...\n",
      "    (data_index=0, lam=0.002) loss=0.84228515625\n",
      "Perturbing model...\n",
      "Evaluating loss...\n",
      "    (data_index=0, lam=0.00225) loss=0.97021484375\n",
      "Perturbing model...\n",
      "Evaluating loss...\n",
      "    (data_index=0, lam=0.0025) loss=1.15625\n",
      "Perturbing model...\n",
      "Evaluating loss...\n",
      "    (data_index=0, lam=0.00275) loss=1.4052734375\n",
      "Perturbing model...\n",
      "Evaluating loss...\n",
      "    (data_index=0, lam=0.003) loss=1.7080078125\n",
      "Perturbing model...\n",
      "Evaluating loss...\n",
      "    (data_index=0, lam=0.00325) loss=2.001953125\n",
      "Perturbing model...\n",
      "Evaluating loss...\n",
      "    (data_index=0, lam=0.0035) loss=2.298828125\n",
      "Perturbing model...\n",
      "Evaluating loss...\n",
      "    (data_index=0, lam=0.00375) loss=2.53515625\n",
      "Perturbing model...\n",
      "Evaluating loss...\n",
      "    (data_index=0, lam=0.004) loss=2.7109375\n",
      "Perturbing model...\n",
      "Evaluating loss...\n",
      "    (data_index=0, lam=0.00425) loss=2.8046875\n",
      "Perturbing model...\n",
      "Evaluating loss...\n",
      "    (data_index=0, lam=0.0045) loss=2.9296875\n",
      "Perturbing model...\n",
      "Evaluating loss...\n",
      "    (data_index=0, lam=0.00475) loss=3.091796875\n",
      "Perturbing model...\n",
      "Evaluating loss...\n",
      "    (data_index=0, lam=0.005) loss=3.25390625\n"
     ]
    },
    {
     "data": {
      "image/png": "[encoded data removed]",
      "text/plain": [
       "<Figure size 640x480 with 1 Axes>"
      ]
     },
     "metadata": {},
     "output_type": "display_data"
    }
   ],
   "source": [
    "# set random seed\n",
    "seed = 123\n",
    "np.random.seed(seed)\n",
    "torch.manual_seed(seed)\n",
    "\n",
    "# generate random vector to do the loss plot\n",
    "\n",
    "### TODO: why does normalization make the direction all zeros ...\n",
    "v = [torch.randn_like(p) for p in model.parameters()]\n",
    "# v = normalization(v)\n",
    "\n",
    "# used to perturb your model \n",
    "lams = np.linspace(-0.005, 0.005, 41).astype(np.float32)\n",
    "\n",
    "for data_index in range(1):\n",
    "\n",
    "    # create a copy of the model\n",
    "    with torch.no_grad():\n",
    "        model_perb = copy.deepcopy(model)\n",
    "        model_perb.eval()\n",
    "        # model_perb = model_perb.cuda()\n",
    "\n",
    "    # store loss values\n",
    "    loss_list = []\n",
    "\n",
    "    # loop over grid points\n",
    "    for lam in lams: \n",
    "        \n",
    "            print(\"Perturbing model...\")\n",
    "            with torch.no_grad():\n",
    "                model_perb = model_perb.to(\"cpu\")\n",
    "                model_perb = get_params(model, model_perb, v, lam)\n",
    "\n",
    "            print(\"Evaluating loss...\")\n",
    "            with torch.no_grad():\n",
    "                model_perb = model_perb.to(\"cuda\")\n",
    "                loss = loss_criterion(model_perb(mem_seq[[data_index]].to(\"cuda\")), mem_seq[[data_index]].to(\"cuda\")).item()\n",
    "                loss_list.append(loss)\n",
    "                print(f\"    ({data_index=}, {lam=}) {loss=}\")\n",
    "        \n",
    "\n",
    "    plt.plot(lams, loss_list)\n",
    "    plt.ylabel('Loss')\n",
    "    plt.xlabel('Perturbation')\n",
    "    plt.title(f'(direction=random, model={use_model}, data=mem_seq[{data_index}])')\n",
    "    plt.show()"
   ]
  },
  {
   "cell_type": "code",
   "execution_count": 29,
   "id": "b26365ec-6f52-4f54-9f5b-738f4dad3d75",
   "metadata": {
    "tags": []
   },
   "outputs": [
    {
     "data": {
      "image/png": "[encoded data removed]",
      "text/plain": [
       "<Figure size 640x480 with 1 Axes>"
      ]
     },
     "metadata": {},
     "output_type": "display_data"
    }
   ],
   "source": [
    "plt.plot(lams, loss_list)\n",
    "plt.ylabel('Loss')\n",
    "plt.xlabel('Perturbation')\n",
    "plt.title(f'(direction=random, model={use_model}, data=mem_seq[{data_index}])')\n",
    "plt.ylim([0.5, 4.5])\n",
    "plt.show()"
   ]
  },
  {
   "cell_type": "code",
   "execution_count": 24,
   "id": "645399bd-bfe5-4a53-9697-1fd7b4f95560",
   "metadata": {
    "tags": []
   },
   "outputs": [
    {
     "name": "stdout",
     "output_type": "stream",
     "text": [
      "Perturbing model...\n",
      "Evaluating loss...\n",
      "    (data_index=0, lam=-0.005) loss=4.27734375\n",
      "Perturbing model...\n",
      "Evaluating loss...\n",
      "    (data_index=0, lam=-0.00475) loss=4.0859375\n",
      "Perturbing model...\n",
      "Evaluating loss...\n",
      "    (data_index=0, lam=-0.0045) loss=3.935546875\n",
      "Perturbing model...\n",
      "Evaluating loss...\n",
      "    (data_index=0, lam=-0.00425) loss=3.814453125\n",
      "Perturbing model...\n",
      "Evaluating loss...\n",
      "    (data_index=0, lam=-0.004) loss=3.716796875\n",
      "Perturbing model...\n",
      "Evaluating loss...\n",
      "    (data_index=0, lam=-0.00375) loss=3.6328125\n",
      "Perturbing model...\n",
      "Evaluating loss...\n",
      "    (data_index=0, lam=-0.0035) loss=3.556640625\n",
      "Perturbing model...\n",
      "Evaluating loss...\n",
      "    (data_index=0, lam=-0.00325) loss=3.5\n",
      "Perturbing model...\n",
      "Evaluating loss...\n",
      "    (data_index=0, lam=-0.003) loss=3.4453125\n",
      "Perturbing model...\n",
      "Evaluating loss...\n",
      "    (data_index=0, lam=-0.00275) loss=3.38671875\n",
      "Perturbing model...\n",
      "Evaluating loss...\n",
      "    (data_index=0, lam=-0.0025) loss=3.34375\n",
      "Perturbing model...\n",
      "Evaluating loss...\n",
      "    (data_index=0, lam=-0.00225) loss=3.296875\n",
      "Perturbing model...\n",
      "Evaluating loss...\n",
      "    (data_index=0, lam=-0.002) loss=3.263671875\n",
      "Perturbing model...\n",
      "Evaluating loss...\n",
      "    (data_index=0, lam=-0.00175) loss=3.236328125\n",
      "Perturbing model...\n",
      "Evaluating loss...\n",
      "    (data_index=0, lam=-0.0015) loss=3.20703125\n",
      "Perturbing model...\n",
      "Evaluating loss...\n",
      "    (data_index=0, lam=-0.00125) loss=3.177734375\n",
      "Perturbing model...\n",
      "Evaluating loss...\n",
      "    (data_index=0, lam=-0.001) loss=3.15625\n",
      "Perturbing model...\n",
      "Evaluating loss...\n",
      "    (data_index=0, lam=-0.00075) loss=3.13671875\n",
      "Perturbing model...\n",
      "Evaluating loss...\n",
      "    (data_index=0, lam=-0.0005) loss=3.1171875\n",
      "Perturbing model...\n",
      "Evaluating loss...\n",
      "    (data_index=0, lam=-0.00025) loss=3.103515625\n",
      "Perturbing model...\n",
      "Evaluating loss...\n",
      "    (data_index=0, lam=0.0) loss=3.08984375\n",
      "Perturbing model...\n",
      "Evaluating loss...\n",
      "    (data_index=0, lam=0.00025) loss=3.078125\n",
      "Perturbing model...\n",
      "Evaluating loss...\n",
      "    (data_index=0, lam=0.0005) loss=3.072265625\n",
      "Perturbing model...\n",
      "Evaluating loss...\n",
      "    (data_index=0, lam=0.00075) loss=3.068359375\n",
      "Perturbing model...\n",
      "Evaluating loss...\n",
      "    (data_index=0, lam=0.001) loss=3.068359375\n",
      "Perturbing model...\n",
      "Evaluating loss...\n",
      "    (data_index=0, lam=0.00125) loss=3.072265625\n",
      "Perturbing model...\n",
      "Evaluating loss...\n",
      "    (data_index=0, lam=0.0015) loss=3.076171875\n",
      "Perturbing model...\n",
      "Evaluating loss...\n",
      "    (data_index=0, lam=0.00175) loss=3.0859375\n",
      "Perturbing model...\n",
      "Evaluating loss...\n",
      "    (data_index=0, lam=0.002) loss=3.10546875\n",
      "Perturbing model...\n",
      "Evaluating loss...\n",
      "    (data_index=0, lam=0.00225) loss=3.1171875\n",
      "Perturbing model...\n",
      "Evaluating loss...\n",
      "    (data_index=0, lam=0.0025) loss=3.154296875\n",
      "Perturbing model...\n",
      "Evaluating loss...\n",
      "    (data_index=0, lam=0.00275) loss=3.18359375\n",
      "Perturbing model...\n",
      "Evaluating loss...\n",
      "    (data_index=0, lam=0.003) loss=3.22265625\n",
      "Perturbing model...\n",
      "Evaluating loss...\n",
      "    (data_index=0, lam=0.00325) loss=3.265625\n",
      "Perturbing model...\n",
      "Evaluating loss...\n",
      "    (data_index=0, lam=0.0035) loss=3.318359375\n",
      "Perturbing model...\n",
      "Evaluating loss...\n",
      "    (data_index=0, lam=0.00375) loss=3.384765625\n",
      "Perturbing model...\n",
      "Evaluating loss...\n",
      "    (data_index=0, lam=0.004) loss=3.453125\n",
      "Perturbing model...\n",
      "Evaluating loss...\n",
      "    (data_index=0, lam=0.00425) loss=3.546875\n",
      "Perturbing model...\n",
      "Evaluating loss...\n",
      "    (data_index=0, lam=0.0045) loss=3.6640625\n",
      "Perturbing model...\n",
      "Evaluating loss...\n",
      "    (data_index=0, lam=0.00475) loss=3.78515625\n",
      "Perturbing model...\n",
      "Evaluating loss...\n",
      "    (data_index=0, lam=0.005) loss=3.94140625\n"
     ]
    },
    {
     "data": {
      "image/png": "[encoded data removed]",
      "text/plain": [
       "<Figure size 640x480 with 1 Axes>"
      ]
     },
     "metadata": {},
     "output_type": "display_data"
    }
   ],
   "source": [
    "# set random seed\n",
    "seed = 123\n",
    "np.random.seed(seed)\n",
    "torch.manual_seed(seed)\n",
    "\n",
    "# generate random vector to do the loss plot\n",
    "\n",
    "### TODO: why does normalization make the direction all zeros ...\n",
    "v = [torch.randn_like(p) for p in model.parameters()]\n",
    "# v = normalization(v)\n",
    "\n",
    "# used to perturb your model \n",
    "lams = np.linspace(-0.005, 0.005, 41).astype(np.float32)\n",
    "\n",
    "for data_index in range(1):\n",
    "\n",
    "    # create a copy of the model\n",
    "    with torch.no_grad():\n",
    "        model_perb = copy.deepcopy(model)\n",
    "        model_perb.eval()\n",
    "        # model_perb = model_perb.cuda()\n",
    "\n",
    "    # store loss values\n",
    "    loss_list = []\n",
    "\n",
    "    # loop over grid points\n",
    "    for lam in lams: \n",
    "        \n",
    "            print(\"Perturbing model...\")\n",
    "            with torch.no_grad():\n",
    "                model_perb = model_perb.to(\"cpu\")\n",
    "                model_perb = get_params(model, model_perb, v, lam)\n",
    "\n",
    "            print(\"Evaluating loss...\")\n",
    "            with torch.no_grad():\n",
    "                model_perb = model_perb.to(\"cuda\")\n",
    "                loss = loss_criterion(model_perb(random_data[[data_index]].to(\"cuda\")), random_data[[data_index]].to(\"cuda\")).item()\n",
    "                loss_list.append(loss)\n",
    "                print(f\"    ({data_index=}, {lam=}) {loss=}\")\n",
    "        \n",
    "\n",
    "    plt.plot(lams, loss_list)\n",
    "    plt.ylabel('Loss')\n",
    "    plt.xlabel('Perturbation')\n",
    "    plt.title(f'(direction=random, model={use_model}, data=random_data[{data_index}])')\n",
    "    plt.show()"
   ]
  },
  {
   "cell_type": "code",
   "execution_count": 27,
   "id": "7f41cfb3-3e72-472e-b922-bfc218962e07",
   "metadata": {
    "tags": []
   },
   "outputs": [
    {
     "data": {
      "image/png": "[encoded data removed]",
      "text/plain": [
       "<Figure size 640x480 with 1 Axes>"
      ]
     },
     "metadata": {},
     "output_type": "display_data"
    }
   ],
   "source": [
    "plt.plot(lams, loss_list)\n",
    "plt.ylabel('Loss')\n",
    "plt.xlabel('Perturbation')\n",
    "plt.title(f'(direction=random, model={use_model}, data=random_data[{data_index}])')\n",
    "plt.ylim([0.5, 4.5])\n",
    "plt.show()"
   ]
  },
  {
   "cell_type": "code",
   "execution_count": null,
   "id": "e414b690-5a20-40fd-ae50-cfcae1f00951",
   "metadata": {},
   "outputs": [],
   "source": []
  }
 ],
 "metadata": {
  "kernelspec": {
   "display_name": "memorization",
   "language": "python",
   "name": "memorization"
  },
  "language_info": {
   "codemirror_mode": {
    "name": "ipython",
    "version": 3
   },
   "file_extension": ".py",
   "mimetype": "text/x-python",
   "name": "python",
   "nbconvert_exporter": "python",
   "pygments_lexer": "ipython3",
   "version": "3.10.0"
  }
 },
 "nbformat": 4,
 "nbformat_minor": 5
}
